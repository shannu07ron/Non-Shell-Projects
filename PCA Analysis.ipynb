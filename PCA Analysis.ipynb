{
 "cells": [
  {
   "cell_type": "markdown",
   "metadata": {},
   "source": [
    "PCA Clustering Analysis of English Premier League Football Players"
   ]
  },
  {
   "cell_type": "markdown",
   "metadata": {},
   "source": [
    "Step 1: Importing the modules/Libraries"
   ]
  },
  {
   "cell_type": "code",
   "execution_count": 58,
   "metadata": {},
   "outputs": [],
   "source": [
    "import pandas as pd\n",
    "import matplotlib.pyplot as plt\n",
    "%matplotlib inline\n",
    "from sklearn.preprocessing import MinMaxScaler\n",
    "import plotly.express as px\n",
    "from sklearn.preprocessing import StandardScaler\n",
    "import warnings\n",
    "warnings.filterwarnings('ignore')\n",
    "from sklearn.decomposition import PCA"
   ]
  },
  {
   "cell_type": "markdown",
   "metadata": {},
   "source": [
    "Step 2: Reading the csv file"
   ]
  },
  {
   "cell_type": "code",
   "execution_count": 59,
   "metadata": {},
   "outputs": [],
   "source": [
    "df = pd.read_csv(\"C:/Users/Shanmukh.Maddila/Downloads/Fantasy Sports (1) (2).csv\")"
   ]
  },
  {
   "cell_type": "code",
   "execution_count": 60,
   "metadata": {},
   "outputs": [
    {
     "data": {
      "text/html": [
       "<div>\n",
       "<style scoped>\n",
       "    .dataframe tbody tr th:only-of-type {\n",
       "        vertical-align: middle;\n",
       "    }\n",
       "\n",
       "    .dataframe tbody tr th {\n",
       "        vertical-align: top;\n",
       "    }\n",
       "\n",
       "    .dataframe thead th {\n",
       "        text-align: right;\n",
       "    }\n",
       "</style>\n",
       "<table border=\"1\" class=\"dataframe\">\n",
       "  <thead>\n",
       "    <tr style=\"text-align: right;\">\n",
       "      <th></th>\n",
       "      <th>Player_Name</th>\n",
       "      <th>Club</th>\n",
       "      <th>Position</th>\n",
       "      <th>Goals_Scored</th>\n",
       "      <th>Assists</th>\n",
       "      <th>Total_Points</th>\n",
       "      <th>Minutes</th>\n",
       "      <th>Goals_Conceded</th>\n",
       "      <th>Creativity</th>\n",
       "      <th>Influence</th>\n",
       "      <th>Threat</th>\n",
       "      <th>Bonus</th>\n",
       "      <th>Clean_Sheets</th>\n",
       "    </tr>\n",
       "  </thead>\n",
       "  <tbody>\n",
       "    <tr>\n",
       "      <th>0</th>\n",
       "      <td>Alex Runnarsson</td>\n",
       "      <td>Arsenal</td>\n",
       "      <td>Goalkeeper</td>\n",
       "      <td>0</td>\n",
       "      <td>0</td>\n",
       "      <td>1</td>\n",
       "      <td>15</td>\n",
       "      <td>0</td>\n",
       "      <td>0.0</td>\n",
       "      <td>16.6</td>\n",
       "      <td>0</td>\n",
       "      <td>0</td>\n",
       "      <td>0</td>\n",
       "    </tr>\n",
       "    <tr>\n",
       "      <th>1</th>\n",
       "      <td>Alexandre Lacazette</td>\n",
       "      <td>Arsenal</td>\n",
       "      <td>Forward</td>\n",
       "      <td>13</td>\n",
       "      <td>3</td>\n",
       "      <td>129</td>\n",
       "      <td>1916</td>\n",
       "      <td>21</td>\n",
       "      <td>307.4</td>\n",
       "      <td>602.4</td>\n",
       "      <td>797</td>\n",
       "      <td>21</td>\n",
       "      <td>7</td>\n",
       "    </tr>\n",
       "    <tr>\n",
       "      <th>2</th>\n",
       "      <td>Bernd Leno</td>\n",
       "      <td>Arsenal</td>\n",
       "      <td>Goalkeeper</td>\n",
       "      <td>0</td>\n",
       "      <td>0</td>\n",
       "      <td>131</td>\n",
       "      <td>3131</td>\n",
       "      <td>37</td>\n",
       "      <td>0.0</td>\n",
       "      <td>702.2</td>\n",
       "      <td>2</td>\n",
       "      <td>11</td>\n",
       "      <td>11</td>\n",
       "    </tr>\n",
       "    <tr>\n",
       "      <th>3</th>\n",
       "      <td>Bukayo Saka</td>\n",
       "      <td>Arsenal</td>\n",
       "      <td>Midfielder</td>\n",
       "      <td>5</td>\n",
       "      <td>5</td>\n",
       "      <td>114</td>\n",
       "      <td>2554</td>\n",
       "      <td>31</td>\n",
       "      <td>650.6</td>\n",
       "      <td>493.0</td>\n",
       "      <td>984</td>\n",
       "      <td>8</td>\n",
       "      <td>8</td>\n",
       "    </tr>\n",
       "    <tr>\n",
       "      <th>4</th>\n",
       "      <td>Calum Chambers</td>\n",
       "      <td>Arsenal</td>\n",
       "      <td>Defender</td>\n",
       "      <td>0</td>\n",
       "      <td>3</td>\n",
       "      <td>36</td>\n",
       "      <td>751</td>\n",
       "      <td>10</td>\n",
       "      <td>169.4</td>\n",
       "      <td>171.8</td>\n",
       "      <td>77</td>\n",
       "      <td>3</td>\n",
       "      <td>2</td>\n",
       "    </tr>\n",
       "  </tbody>\n",
       "</table>\n",
       "</div>"
      ],
      "text/plain": [
       "           Player_Name     Club    Position  Goals_Scored  Assists  \\\n",
       "0      Alex Runnarsson  Arsenal  Goalkeeper             0        0   \n",
       "1  Alexandre Lacazette  Arsenal     Forward            13        3   \n",
       "2           Bernd Leno  Arsenal  Goalkeeper             0        0   \n",
       "3          Bukayo Saka  Arsenal  Midfielder             5        5   \n",
       "4       Calum Chambers  Arsenal    Defender             0        3   \n",
       "\n",
       "   Total_Points  Minutes  Goals_Conceded  Creativity  Influence  Threat  \\\n",
       "0             1       15               0         0.0       16.6       0   \n",
       "1           129     1916              21       307.4      602.4     797   \n",
       "2           131     3131              37         0.0      702.2       2   \n",
       "3           114     2554              31       650.6      493.0     984   \n",
       "4            36      751              10       169.4      171.8      77   \n",
       "\n",
       "   Bonus  Clean_Sheets  \n",
       "0      0             0  \n",
       "1     21             7  \n",
       "2     11            11  \n",
       "3      8             8  \n",
       "4      3             2  "
      ]
     },
     "execution_count": 60,
     "metadata": {},
     "output_type": "execute_result"
    }
   ],
   "source": [
    "df.head(5)"
   ]
  },
  {
   "cell_type": "code",
   "execution_count": 61,
   "metadata": {},
   "outputs": [
    {
     "data": {
      "text/html": [
       "<div>\n",
       "<style scoped>\n",
       "    .dataframe tbody tr th:only-of-type {\n",
       "        vertical-align: middle;\n",
       "    }\n",
       "\n",
       "    .dataframe tbody tr th {\n",
       "        vertical-align: top;\n",
       "    }\n",
       "\n",
       "    .dataframe thead th {\n",
       "        text-align: right;\n",
       "    }\n",
       "</style>\n",
       "<table border=\"1\" class=\"dataframe\">\n",
       "  <thead>\n",
       "    <tr style=\"text-align: right;\">\n",
       "      <th></th>\n",
       "      <th>Player_Name</th>\n",
       "      <th>Club</th>\n",
       "      <th>Position</th>\n",
       "      <th>Goals_Scored</th>\n",
       "      <th>Assists</th>\n",
       "      <th>Total_Points</th>\n",
       "      <th>Minutes</th>\n",
       "      <th>Goals_Conceded</th>\n",
       "      <th>Creativity</th>\n",
       "      <th>Influence</th>\n",
       "      <th>Threat</th>\n",
       "      <th>Bonus</th>\n",
       "      <th>Clean_Sheets</th>\n",
       "    </tr>\n",
       "  </thead>\n",
       "  <tbody>\n",
       "    <tr>\n",
       "      <th>471</th>\n",
       "      <td>Ruben Vinagre</td>\n",
       "      <td>Wolverhampton Wanderers</td>\n",
       "      <td>Defender</td>\n",
       "      <td>0</td>\n",
       "      <td>0</td>\n",
       "      <td>1</td>\n",
       "      <td>172</td>\n",
       "      <td>7</td>\n",
       "      <td>25.3</td>\n",
       "      <td>31.2</td>\n",
       "      <td>0</td>\n",
       "      <td>0</td>\n",
       "      <td>0</td>\n",
       "    </tr>\n",
       "    <tr>\n",
       "      <th>472</th>\n",
       "      <td>Rui Pedro Patricio</td>\n",
       "      <td>Wolverhampton Wanderers</td>\n",
       "      <td>Goalkeeper</td>\n",
       "      <td>0</td>\n",
       "      <td>0</td>\n",
       "      <td>132</td>\n",
       "      <td>3330</td>\n",
       "      <td>51</td>\n",
       "      <td>0.0</td>\n",
       "      <td>763.6</td>\n",
       "      <td>0</td>\n",
       "      <td>12</td>\n",
       "      <td>10</td>\n",
       "    </tr>\n",
       "    <tr>\n",
       "      <th>473</th>\n",
       "      <td>Vitor Ferreira</td>\n",
       "      <td>Wolverhampton Wanderers</td>\n",
       "      <td>Midfielder</td>\n",
       "      <td>0</td>\n",
       "      <td>1</td>\n",
       "      <td>26</td>\n",
       "      <td>509</td>\n",
       "      <td>8</td>\n",
       "      <td>179.0</td>\n",
       "      <td>80.0</td>\n",
       "      <td>72</td>\n",
       "      <td>0</td>\n",
       "      <td>0</td>\n",
       "    </tr>\n",
       "    <tr>\n",
       "      <th>474</th>\n",
       "      <td>Willian Jose</td>\n",
       "      <td>Wolverhampton Wanderers</td>\n",
       "      <td>Forward</td>\n",
       "      <td>1</td>\n",
       "      <td>1</td>\n",
       "      <td>40</td>\n",
       "      <td>1106</td>\n",
       "      <td>13</td>\n",
       "      <td>165.9</td>\n",
       "      <td>89.6</td>\n",
       "      <td>256</td>\n",
       "      <td>3</td>\n",
       "      <td>5</td>\n",
       "    </tr>\n",
       "    <tr>\n",
       "      <th>475</th>\n",
       "      <td>Willy Boly</td>\n",
       "      <td>Wolverhampton Wanderers</td>\n",
       "      <td>Defender</td>\n",
       "      <td>1</td>\n",
       "      <td>1</td>\n",
       "      <td>68</td>\n",
       "      <td>1879</td>\n",
       "      <td>29</td>\n",
       "      <td>46.1</td>\n",
       "      <td>414.0</td>\n",
       "      <td>182</td>\n",
       "      <td>4</td>\n",
       "      <td>6</td>\n",
       "    </tr>\n",
       "  </tbody>\n",
       "</table>\n",
       "</div>"
      ],
      "text/plain": [
       "            Player_Name                     Club    Position  Goals_Scored  \\\n",
       "471       Ruben Vinagre  Wolverhampton Wanderers    Defender             0   \n",
       "472  Rui Pedro Patricio  Wolverhampton Wanderers  Goalkeeper             0   \n",
       "473      Vitor Ferreira  Wolverhampton Wanderers  Midfielder             0   \n",
       "474        Willian Jose  Wolverhampton Wanderers     Forward             1   \n",
       "475          Willy Boly  Wolverhampton Wanderers    Defender             1   \n",
       "\n",
       "     Assists  Total_Points  Minutes  Goals_Conceded  Creativity  Influence  \\\n",
       "471        0             1      172               7        25.3       31.2   \n",
       "472        0           132     3330              51         0.0      763.6   \n",
       "473        1            26      509               8       179.0       80.0   \n",
       "474        1            40     1106              13       165.9       89.6   \n",
       "475        1            68     1879              29        46.1      414.0   \n",
       "\n",
       "     Threat  Bonus  Clean_Sheets  \n",
       "471       0      0             0  \n",
       "472       0     12            10  \n",
       "473      72      0             0  \n",
       "474     256      3             5  \n",
       "475     182      4             6  "
      ]
     },
     "execution_count": 61,
     "metadata": {},
     "output_type": "execute_result"
    }
   ],
   "source": [
    "df.tail(5)"
   ]
  },
  {
   "cell_type": "markdown",
   "metadata": {},
   "source": [
    "I am skipping the basic checks and all , since i have done the analysis in the other notebooks"
   ]
  },
  {
   "cell_type": "markdown",
   "metadata": {},
   "source": [
    "PCA Analysis\n",
    "\n",
    "a. Scaling the data\n",
    "\n",
    "b. PCA Transform\n",
    "\n",
    "c. Use PCA Components in the model training\n",
    "\n",
    "d. Visualise "
   ]
  },
  {
   "cell_type": "markdown",
   "metadata": {},
   "source": [
    "a. Scaling the data"
   ]
  },
  {
   "cell_type": "code",
   "execution_count": 62,
   "metadata": {},
   "outputs": [],
   "source": [
    "numerics = ['int16', 'int32', 'int64', 'float16', 'float32', 'float64']\n",
    "newdf = df.select_dtypes(include=numerics).columns.tolist()"
   ]
  },
  {
   "cell_type": "code",
   "execution_count": 63,
   "metadata": {},
   "outputs": [
    {
     "data": {
      "text/plain": [
       "['Goals_Scored',\n",
       " 'Assists',\n",
       " 'Total_Points',\n",
       " 'Minutes',\n",
       " 'Goals_Conceded',\n",
       " 'Creativity',\n",
       " 'Influence',\n",
       " 'Threat',\n",
       " 'Bonus',\n",
       " 'Clean_Sheets']"
      ]
     },
     "execution_count": 63,
     "metadata": {},
     "output_type": "execute_result"
    }
   ],
   "source": [
    "newdf"
   ]
  },
  {
   "cell_type": "code",
   "execution_count": 64,
   "metadata": {},
   "outputs": [],
   "source": [
    "scaler = StandardScaler()\n",
    "df[newdf] = scaler.fit_transform(df[newdf])"
   ]
  },
  {
   "cell_type": "code",
   "execution_count": 65,
   "metadata": {},
   "outputs": [
    {
     "data": {
      "text/html": [
       "<div>\n",
       "<style scoped>\n",
       "    .dataframe tbody tr th:only-of-type {\n",
       "        vertical-align: middle;\n",
       "    }\n",
       "\n",
       "    .dataframe tbody tr th {\n",
       "        vertical-align: top;\n",
       "    }\n",
       "\n",
       "    .dataframe thead th {\n",
       "        text-align: right;\n",
       "    }\n",
       "</style>\n",
       "<table border=\"1\" class=\"dataframe\">\n",
       "  <thead>\n",
       "    <tr style=\"text-align: right;\">\n",
       "      <th></th>\n",
       "      <th>Player_Name</th>\n",
       "      <th>Club</th>\n",
       "      <th>Position</th>\n",
       "      <th>Goals_Scored</th>\n",
       "      <th>Assists</th>\n",
       "      <th>Total_Points</th>\n",
       "      <th>Minutes</th>\n",
       "      <th>Goals_Conceded</th>\n",
       "      <th>Creativity</th>\n",
       "      <th>Influence</th>\n",
       "      <th>Threat</th>\n",
       "      <th>Bonus</th>\n",
       "      <th>Clean_Sheets</th>\n",
       "    </tr>\n",
       "  </thead>\n",
       "  <tbody>\n",
       "    <tr>\n",
       "      <th>0</th>\n",
       "      <td>Alex Runnarsson</td>\n",
       "      <td>Arsenal</td>\n",
       "      <td>Goalkeeper</td>\n",
       "      <td>-0.552608</td>\n",
       "      <td>-0.647555</td>\n",
       "      <td>-1.122506</td>\n",
       "      <td>-1.232383</td>\n",
       "      <td>-1.202653</td>\n",
       "      <td>-0.780115</td>\n",
       "      <td>-1.039325</td>\n",
       "      <td>-0.707638</td>\n",
       "      <td>-0.755435</td>\n",
       "      <td>-1.081123</td>\n",
       "    </tr>\n",
       "    <tr>\n",
       "      <th>1</th>\n",
       "      <td>Alexandre Lacazette</td>\n",
       "      <td>Arsenal</td>\n",
       "      <td>Forward</td>\n",
       "      <td>3.213401</td>\n",
       "      <td>0.461208</td>\n",
       "      <td>1.375560</td>\n",
       "      <td>0.539871</td>\n",
       "      <td>0.115663</td>\n",
       "      <td>0.443542</td>\n",
       "      <td>1.150596</td>\n",
       "      <td>1.799393</td>\n",
       "      <td>2.606688</td>\n",
       "      <td>0.513521</td>\n",
       "    </tr>\n",
       "    <tr>\n",
       "      <th>2</th>\n",
       "      <td>Bernd Leno</td>\n",
       "      <td>Arsenal</td>\n",
       "      <td>Goalkeeper</td>\n",
       "      <td>-0.552608</td>\n",
       "      <td>-0.647555</td>\n",
       "      <td>1.414592</td>\n",
       "      <td>1.672585</td>\n",
       "      <td>1.120094</td>\n",
       "      <td>-0.780115</td>\n",
       "      <td>1.523682</td>\n",
       "      <td>-0.701346</td>\n",
       "      <td>1.005677</td>\n",
       "      <td>1.424747</td>\n",
       "    </tr>\n",
       "    <tr>\n",
       "      <th>3</th>\n",
       "      <td>Bukayo Saka</td>\n",
       "      <td>Arsenal</td>\n",
       "      <td>Midfielder</td>\n",
       "      <td>0.895857</td>\n",
       "      <td>1.200384</td>\n",
       "      <td>1.082818</td>\n",
       "      <td>1.134662</td>\n",
       "      <td>0.743432</td>\n",
       "      <td>1.809706</td>\n",
       "      <td>0.741621</td>\n",
       "      <td>2.387618</td>\n",
       "      <td>0.525374</td>\n",
       "      <td>0.741328</td>\n",
       "    </tr>\n",
       "    <tr>\n",
       "      <th>4</th>\n",
       "      <td>Calum Chambers</td>\n",
       "      <td>Arsenal</td>\n",
       "      <td>Defender</td>\n",
       "      <td>-0.552608</td>\n",
       "      <td>0.461208</td>\n",
       "      <td>-0.439441</td>\n",
       "      <td>-0.546229</td>\n",
       "      <td>-0.574884</td>\n",
       "      <td>-0.105790</td>\n",
       "      <td>-0.459134</td>\n",
       "      <td>-0.465428</td>\n",
       "      <td>-0.275132</td>\n",
       "      <td>-0.625510</td>\n",
       "    </tr>\n",
       "  </tbody>\n",
       "</table>\n",
       "</div>"
      ],
      "text/plain": [
       "           Player_Name     Club    Position  Goals_Scored   Assists  \\\n",
       "0      Alex Runnarsson  Arsenal  Goalkeeper     -0.552608 -0.647555   \n",
       "1  Alexandre Lacazette  Arsenal     Forward      3.213401  0.461208   \n",
       "2           Bernd Leno  Arsenal  Goalkeeper     -0.552608 -0.647555   \n",
       "3          Bukayo Saka  Arsenal  Midfielder      0.895857  1.200384   \n",
       "4       Calum Chambers  Arsenal    Defender     -0.552608  0.461208   \n",
       "\n",
       "   Total_Points   Minutes  Goals_Conceded  Creativity  Influence    Threat  \\\n",
       "0     -1.122506 -1.232383       -1.202653   -0.780115  -1.039325 -0.707638   \n",
       "1      1.375560  0.539871        0.115663    0.443542   1.150596  1.799393   \n",
       "2      1.414592  1.672585        1.120094   -0.780115   1.523682 -0.701346   \n",
       "3      1.082818  1.134662        0.743432    1.809706   0.741621  2.387618   \n",
       "4     -0.439441 -0.546229       -0.574884   -0.105790  -0.459134 -0.465428   \n",
       "\n",
       "      Bonus  Clean_Sheets  \n",
       "0 -0.755435     -1.081123  \n",
       "1  2.606688      0.513521  \n",
       "2  1.005677      1.424747  \n",
       "3  0.525374      0.741328  \n",
       "4 -0.275132     -0.625510  "
      ]
     },
     "execution_count": 65,
     "metadata": {},
     "output_type": "execute_result"
    }
   ],
   "source": [
    "df.head(5)"
   ]
  },
  {
   "cell_type": "markdown",
   "metadata": {},
   "source": [
    "b. pca fitting"
   ]
  },
  {
   "cell_type": "code",
   "execution_count": 66,
   "metadata": {},
   "outputs": [
    {
     "data": {
      "text/plain": [
       "PCA(copy=True, iterated_power='auto', n_components=None, random_state=None,\n",
       "  svd_solver='auto', tol=0.0, whiten=False)"
      ]
     },
     "execution_count": 66,
     "metadata": {},
     "output_type": "execute_result"
    }
   ],
   "source": [
    "pca = PCA()\n",
    "pca.fit(df[newdf])"
   ]
  },
  {
   "cell_type": "code",
   "execution_count": 67,
   "metadata": {},
   "outputs": [
    {
     "data": {
      "text/plain": [
       "array([0.72148934, 0.13659346, 0.05880028, 0.03138379, 0.02274545,\n",
       "       0.01522727, 0.00700781, 0.00393725, 0.00194529, 0.00087005])"
      ]
     },
     "execution_count": 67,
     "metadata": {},
     "output_type": "execute_result"
    }
   ],
   "source": [
    "pca.explained_variance_ratio_"
   ]
  },
  {
   "cell_type": "code",
   "execution_count": 68,
   "metadata": {},
   "outputs": [
    {
     "data": {
      "application/vnd.plotly.v1+json": {
       "config": {
        "plotlyServerURL": "https://plot.ly"
       },
       "data": [
        {
         "hovertemplate": "x=%{x}<br>index=%{y}<extra></extra>",
         "legendgroup": "",
         "line": {
          "color": "#636efa",
          "dash": "solid"
         },
         "marker": {
          "symbol": "circle"
         },
         "mode": "lines",
         "name": "",
         "orientation": "h",
         "showlegend": false,
         "textposition": "top right",
         "type": "scatter",
         "x": [
          1,
          2,
          3,
          4,
          5,
          6,
          7,
          8,
          9,
          10
         ],
         "xaxis": "x",
         "y": [
          0,
          1,
          2,
          3,
          4,
          5,
          6,
          7,
          8,
          9
         ],
         "yaxis": "y"
        }
       ],
       "layout": {
        "legend": {
         "tracegroupgap": 0
        },
        "template": {
         "data": {
          "bar": [
           {
            "error_x": {
             "color": "#2a3f5f"
            },
            "error_y": {
             "color": "#2a3f5f"
            },
            "marker": {
             "line": {
              "color": "#E5ECF6",
              "width": 0.5
             },
             "pattern": {
              "fillmode": "overlay",
              "size": 10,
              "solidity": 0.2
             }
            },
            "type": "bar"
           }
          ],
          "barpolar": [
           {
            "marker": {
             "line": {
              "color": "#E5ECF6",
              "width": 0.5
             },
             "pattern": {
              "fillmode": "overlay",
              "size": 10,
              "solidity": 0.2
             }
            },
            "type": "barpolar"
           }
          ],
          "carpet": [
           {
            "aaxis": {
             "endlinecolor": "#2a3f5f",
             "gridcolor": "white",
             "linecolor": "white",
             "minorgridcolor": "white",
             "startlinecolor": "#2a3f5f"
            },
            "baxis": {
             "endlinecolor": "#2a3f5f",
             "gridcolor": "white",
             "linecolor": "white",
             "minorgridcolor": "white",
             "startlinecolor": "#2a3f5f"
            },
            "type": "carpet"
           }
          ],
          "choropleth": [
           {
            "colorbar": {
             "outlinewidth": 0,
             "ticks": ""
            },
            "type": "choropleth"
           }
          ],
          "contour": [
           {
            "colorbar": {
             "outlinewidth": 0,
             "ticks": ""
            },
            "colorscale": [
             [
              0,
              "#0d0887"
             ],
             [
              0.1111111111111111,
              "#46039f"
             ],
             [
              0.2222222222222222,
              "#7201a8"
             ],
             [
              0.3333333333333333,
              "#9c179e"
             ],
             [
              0.4444444444444444,
              "#bd3786"
             ],
             [
              0.5555555555555556,
              "#d8576b"
             ],
             [
              0.6666666666666666,
              "#ed7953"
             ],
             [
              0.7777777777777778,
              "#fb9f3a"
             ],
             [
              0.8888888888888888,
              "#fdca26"
             ],
             [
              1,
              "#f0f921"
             ]
            ],
            "type": "contour"
           }
          ],
          "contourcarpet": [
           {
            "colorbar": {
             "outlinewidth": 0,
             "ticks": ""
            },
            "type": "contourcarpet"
           }
          ],
          "heatmap": [
           {
            "colorbar": {
             "outlinewidth": 0,
             "ticks": ""
            },
            "colorscale": [
             [
              0,
              "#0d0887"
             ],
             [
              0.1111111111111111,
              "#46039f"
             ],
             [
              0.2222222222222222,
              "#7201a8"
             ],
             [
              0.3333333333333333,
              "#9c179e"
             ],
             [
              0.4444444444444444,
              "#bd3786"
             ],
             [
              0.5555555555555556,
              "#d8576b"
             ],
             [
              0.6666666666666666,
              "#ed7953"
             ],
             [
              0.7777777777777778,
              "#fb9f3a"
             ],
             [
              0.8888888888888888,
              "#fdca26"
             ],
             [
              1,
              "#f0f921"
             ]
            ],
            "type": "heatmap"
           }
          ],
          "heatmapgl": [
           {
            "colorbar": {
             "outlinewidth": 0,
             "ticks": ""
            },
            "colorscale": [
             [
              0,
              "#0d0887"
             ],
             [
              0.1111111111111111,
              "#46039f"
             ],
             [
              0.2222222222222222,
              "#7201a8"
             ],
             [
              0.3333333333333333,
              "#9c179e"
             ],
             [
              0.4444444444444444,
              "#bd3786"
             ],
             [
              0.5555555555555556,
              "#d8576b"
             ],
             [
              0.6666666666666666,
              "#ed7953"
             ],
             [
              0.7777777777777778,
              "#fb9f3a"
             ],
             [
              0.8888888888888888,
              "#fdca26"
             ],
             [
              1,
              "#f0f921"
             ]
            ],
            "type": "heatmapgl"
           }
          ],
          "histogram": [
           {
            "marker": {
             "pattern": {
              "fillmode": "overlay",
              "size": 10,
              "solidity": 0.2
             }
            },
            "type": "histogram"
           }
          ],
          "histogram2d": [
           {
            "colorbar": {
             "outlinewidth": 0,
             "ticks": ""
            },
            "colorscale": [
             [
              0,
              "#0d0887"
             ],
             [
              0.1111111111111111,
              "#46039f"
             ],
             [
              0.2222222222222222,
              "#7201a8"
             ],
             [
              0.3333333333333333,
              "#9c179e"
             ],
             [
              0.4444444444444444,
              "#bd3786"
             ],
             [
              0.5555555555555556,
              "#d8576b"
             ],
             [
              0.6666666666666666,
              "#ed7953"
             ],
             [
              0.7777777777777778,
              "#fb9f3a"
             ],
             [
              0.8888888888888888,
              "#fdca26"
             ],
             [
              1,
              "#f0f921"
             ]
            ],
            "type": "histogram2d"
           }
          ],
          "histogram2dcontour": [
           {
            "colorbar": {
             "outlinewidth": 0,
             "ticks": ""
            },
            "colorscale": [
             [
              0,
              "#0d0887"
             ],
             [
              0.1111111111111111,
              "#46039f"
             ],
             [
              0.2222222222222222,
              "#7201a8"
             ],
             [
              0.3333333333333333,
              "#9c179e"
             ],
             [
              0.4444444444444444,
              "#bd3786"
             ],
             [
              0.5555555555555556,
              "#d8576b"
             ],
             [
              0.6666666666666666,
              "#ed7953"
             ],
             [
              0.7777777777777778,
              "#fb9f3a"
             ],
             [
              0.8888888888888888,
              "#fdca26"
             ],
             [
              1,
              "#f0f921"
             ]
            ],
            "type": "histogram2dcontour"
           }
          ],
          "mesh3d": [
           {
            "colorbar": {
             "outlinewidth": 0,
             "ticks": ""
            },
            "type": "mesh3d"
           }
          ],
          "parcoords": [
           {
            "line": {
             "colorbar": {
              "outlinewidth": 0,
              "ticks": ""
             }
            },
            "type": "parcoords"
           }
          ],
          "pie": [
           {
            "automargin": true,
            "type": "pie"
           }
          ],
          "scatter": [
           {
            "fillpattern": {
             "fillmode": "overlay",
             "size": 10,
             "solidity": 0.2
            },
            "type": "scatter"
           }
          ],
          "scatter3d": [
           {
            "line": {
             "colorbar": {
              "outlinewidth": 0,
              "ticks": ""
             }
            },
            "marker": {
             "colorbar": {
              "outlinewidth": 0,
              "ticks": ""
             }
            },
            "type": "scatter3d"
           }
          ],
          "scattercarpet": [
           {
            "marker": {
             "colorbar": {
              "outlinewidth": 0,
              "ticks": ""
             }
            },
            "type": "scattercarpet"
           }
          ],
          "scattergeo": [
           {
            "marker": {
             "colorbar": {
              "outlinewidth": 0,
              "ticks": ""
             }
            },
            "type": "scattergeo"
           }
          ],
          "scattergl": [
           {
            "marker": {
             "colorbar": {
              "outlinewidth": 0,
              "ticks": ""
             }
            },
            "type": "scattergl"
           }
          ],
          "scattermapbox": [
           {
            "marker": {
             "colorbar": {
              "outlinewidth": 0,
              "ticks": ""
             }
            },
            "type": "scattermapbox"
           }
          ],
          "scatterpolar": [
           {
            "marker": {
             "colorbar": {
              "outlinewidth": 0,
              "ticks": ""
             }
            },
            "type": "scatterpolar"
           }
          ],
          "scatterpolargl": [
           {
            "marker": {
             "colorbar": {
              "outlinewidth": 0,
              "ticks": ""
             }
            },
            "type": "scatterpolargl"
           }
          ],
          "scatterternary": [
           {
            "marker": {
             "colorbar": {
              "outlinewidth": 0,
              "ticks": ""
             }
            },
            "type": "scatterternary"
           }
          ],
          "surface": [
           {
            "colorbar": {
             "outlinewidth": 0,
             "ticks": ""
            },
            "colorscale": [
             [
              0,
              "#0d0887"
             ],
             [
              0.1111111111111111,
              "#46039f"
             ],
             [
              0.2222222222222222,
              "#7201a8"
             ],
             [
              0.3333333333333333,
              "#9c179e"
             ],
             [
              0.4444444444444444,
              "#bd3786"
             ],
             [
              0.5555555555555556,
              "#d8576b"
             ],
             [
              0.6666666666666666,
              "#ed7953"
             ],
             [
              0.7777777777777778,
              "#fb9f3a"
             ],
             [
              0.8888888888888888,
              "#fdca26"
             ],
             [
              1,
              "#f0f921"
             ]
            ],
            "type": "surface"
           }
          ],
          "table": [
           {
            "cells": {
             "fill": {
              "color": "#EBF0F8"
             },
             "line": {
              "color": "white"
             }
            },
            "header": {
             "fill": {
              "color": "#C8D4E3"
             },
             "line": {
              "color": "white"
             }
            },
            "type": "table"
           }
          ]
         },
         "layout": {
          "annotationdefaults": {
           "arrowcolor": "#2a3f5f",
           "arrowhead": 0,
           "arrowwidth": 1
          },
          "autotypenumbers": "strict",
          "coloraxis": {
           "colorbar": {
            "outlinewidth": 0,
            "ticks": ""
           }
          },
          "colorscale": {
           "diverging": [
            [
             0,
             "#8e0152"
            ],
            [
             0.1,
             "#c51b7d"
            ],
            [
             0.2,
             "#de77ae"
            ],
            [
             0.3,
             "#f1b6da"
            ],
            [
             0.4,
             "#fde0ef"
            ],
            [
             0.5,
             "#f7f7f7"
            ],
            [
             0.6,
             "#e6f5d0"
            ],
            [
             0.7,
             "#b8e186"
            ],
            [
             0.8,
             "#7fbc41"
            ],
            [
             0.9,
             "#4d9221"
            ],
            [
             1,
             "#276419"
            ]
           ],
           "sequential": [
            [
             0,
             "#0d0887"
            ],
            [
             0.1111111111111111,
             "#46039f"
            ],
            [
             0.2222222222222222,
             "#7201a8"
            ],
            [
             0.3333333333333333,
             "#9c179e"
            ],
            [
             0.4444444444444444,
             "#bd3786"
            ],
            [
             0.5555555555555556,
             "#d8576b"
            ],
            [
             0.6666666666666666,
             "#ed7953"
            ],
            [
             0.7777777777777778,
             "#fb9f3a"
            ],
            [
             0.8888888888888888,
             "#fdca26"
            ],
            [
             1,
             "#f0f921"
            ]
           ],
           "sequentialminus": [
            [
             0,
             "#0d0887"
            ],
            [
             0.1111111111111111,
             "#46039f"
            ],
            [
             0.2222222222222222,
             "#7201a8"
            ],
            [
             0.3333333333333333,
             "#9c179e"
            ],
            [
             0.4444444444444444,
             "#bd3786"
            ],
            [
             0.5555555555555556,
             "#d8576b"
            ],
            [
             0.6666666666666666,
             "#ed7953"
            ],
            [
             0.7777777777777778,
             "#fb9f3a"
            ],
            [
             0.8888888888888888,
             "#fdca26"
            ],
            [
             1,
             "#f0f921"
            ]
           ]
          },
          "colorway": [
           "#636efa",
           "#EF553B",
           "#00cc96",
           "#ab63fa",
           "#FFA15A",
           "#19d3f3",
           "#FF6692",
           "#B6E880",
           "#FF97FF",
           "#FECB52"
          ],
          "font": {
           "color": "#2a3f5f"
          },
          "geo": {
           "bgcolor": "white",
           "lakecolor": "white",
           "landcolor": "#E5ECF6",
           "showlakes": true,
           "showland": true,
           "subunitcolor": "white"
          },
          "hoverlabel": {
           "align": "left"
          },
          "hovermode": "closest",
          "mapbox": {
           "style": "light"
          },
          "paper_bgcolor": "white",
          "plot_bgcolor": "#E5ECF6",
          "polar": {
           "angularaxis": {
            "gridcolor": "white",
            "linecolor": "white",
            "ticks": ""
           },
           "bgcolor": "#E5ECF6",
           "radialaxis": {
            "gridcolor": "white",
            "linecolor": "white",
            "ticks": ""
           }
          },
          "scene": {
           "xaxis": {
            "backgroundcolor": "#E5ECF6",
            "gridcolor": "white",
            "gridwidth": 2,
            "linecolor": "white",
            "showbackground": true,
            "ticks": "",
            "zerolinecolor": "white"
           },
           "yaxis": {
            "backgroundcolor": "#E5ECF6",
            "gridcolor": "white",
            "gridwidth": 2,
            "linecolor": "white",
            "showbackground": true,
            "ticks": "",
            "zerolinecolor": "white"
           },
           "zaxis": {
            "backgroundcolor": "#E5ECF6",
            "gridcolor": "white",
            "gridwidth": 2,
            "linecolor": "white",
            "showbackground": true,
            "ticks": "",
            "zerolinecolor": "white"
           }
          },
          "shapedefaults": {
           "line": {
            "color": "#2a3f5f"
           }
          },
          "ternary": {
           "aaxis": {
            "gridcolor": "white",
            "linecolor": "white",
            "ticks": ""
           },
           "baxis": {
            "gridcolor": "white",
            "linecolor": "white",
            "ticks": ""
           },
           "bgcolor": "#E5ECF6",
           "caxis": {
            "gridcolor": "white",
            "linecolor": "white",
            "ticks": ""
           }
          },
          "title": {
           "x": 0.05
          },
          "xaxis": {
           "automargin": true,
           "gridcolor": "white",
           "linecolor": "white",
           "ticks": "",
           "title": {
            "standoff": 15
           },
           "zerolinecolor": "white",
           "zerolinewidth": 2
          },
          "yaxis": {
           "automargin": true,
           "gridcolor": "white",
           "linecolor": "white",
           "ticks": "",
           "title": {
            "standoff": 15
           },
           "zerolinecolor": "white",
           "zerolinewidth": 2
          }
         }
        },
        "title": {
         "text": "Cummulative Variance"
        },
        "xaxis": {
         "anchor": "y",
         "domain": [
          0,
          1
         ],
         "title": {
          "text": "x"
         }
        },
        "yaxis": {
         "anchor": "x",
         "domain": [
          0,
          1
         ],
         "title": {
          "text": "index"
         }
        }
       }
      },
      "text/html": [
       "<div>                            <div id=\"fef237a7-6252-4a19-99a5-782d62aa1f3e\" class=\"plotly-graph-div\" style=\"height:525px; width:100%;\"></div>            <script type=\"text/javascript\">                require([\"plotly\"], function(Plotly) {                    window.PLOTLYENV=window.PLOTLYENV || {};                                    if (document.getElementById(\"fef237a7-6252-4a19-99a5-782d62aa1f3e\")) {                    Plotly.newPlot(                        \"fef237a7-6252-4a19-99a5-782d62aa1f3e\",                        [{\"hovertemplate\":\"x=%{x}\\u003cbr\\u003eindex=%{y}\\u003cextra\\u003e\\u003c\\u002fextra\\u003e\",\"legendgroup\":\"\",\"line\":{\"color\":\"#636efa\",\"dash\":\"solid\"},\"marker\":{\"symbol\":\"circle\"},\"mode\":\"lines\",\"name\":\"\",\"orientation\":\"h\",\"showlegend\":false,\"x\":[1,2,3,4,5,6,7,8,9,10],\"xaxis\":\"x\",\"y\":[0,1,2,3,4,5,6,7,8,9],\"yaxis\":\"y\",\"type\":\"scatter\",\"textposition\":\"top right\"}],                        {\"template\":{\"data\":{\"histogram2dcontour\":[{\"type\":\"histogram2dcontour\",\"colorbar\":{\"outlinewidth\":0,\"ticks\":\"\"},\"colorscale\":[[0.0,\"#0d0887\"],[0.1111111111111111,\"#46039f\"],[0.2222222222222222,\"#7201a8\"],[0.3333333333333333,\"#9c179e\"],[0.4444444444444444,\"#bd3786\"],[0.5555555555555556,\"#d8576b\"],[0.6666666666666666,\"#ed7953\"],[0.7777777777777778,\"#fb9f3a\"],[0.8888888888888888,\"#fdca26\"],[1.0,\"#f0f921\"]]}],\"choropleth\":[{\"type\":\"choropleth\",\"colorbar\":{\"outlinewidth\":0,\"ticks\":\"\"}}],\"histogram2d\":[{\"type\":\"histogram2d\",\"colorbar\":{\"outlinewidth\":0,\"ticks\":\"\"},\"colorscale\":[[0.0,\"#0d0887\"],[0.1111111111111111,\"#46039f\"],[0.2222222222222222,\"#7201a8\"],[0.3333333333333333,\"#9c179e\"],[0.4444444444444444,\"#bd3786\"],[0.5555555555555556,\"#d8576b\"],[0.6666666666666666,\"#ed7953\"],[0.7777777777777778,\"#fb9f3a\"],[0.8888888888888888,\"#fdca26\"],[1.0,\"#f0f921\"]]}],\"heatmap\":[{\"type\":\"heatmap\",\"colorbar\":{\"outlinewidth\":0,\"ticks\":\"\"},\"colorscale\":[[0.0,\"#0d0887\"],[0.1111111111111111,\"#46039f\"],[0.2222222222222222,\"#7201a8\"],[0.3333333333333333,\"#9c179e\"],[0.4444444444444444,\"#bd3786\"],[0.5555555555555556,\"#d8576b\"],[0.6666666666666666,\"#ed7953\"],[0.7777777777777778,\"#fb9f3a\"],[0.8888888888888888,\"#fdca26\"],[1.0,\"#f0f921\"]]}],\"heatmapgl\":[{\"type\":\"heatmapgl\",\"colorbar\":{\"outlinewidth\":0,\"ticks\":\"\"},\"colorscale\":[[0.0,\"#0d0887\"],[0.1111111111111111,\"#46039f\"],[0.2222222222222222,\"#7201a8\"],[0.3333333333333333,\"#9c179e\"],[0.4444444444444444,\"#bd3786\"],[0.5555555555555556,\"#d8576b\"],[0.6666666666666666,\"#ed7953\"],[0.7777777777777778,\"#fb9f3a\"],[0.8888888888888888,\"#fdca26\"],[1.0,\"#f0f921\"]]}],\"contourcarpet\":[{\"type\":\"contourcarpet\",\"colorbar\":{\"outlinewidth\":0,\"ticks\":\"\"}}],\"contour\":[{\"type\":\"contour\",\"colorbar\":{\"outlinewidth\":0,\"ticks\":\"\"},\"colorscale\":[[0.0,\"#0d0887\"],[0.1111111111111111,\"#46039f\"],[0.2222222222222222,\"#7201a8\"],[0.3333333333333333,\"#9c179e\"],[0.4444444444444444,\"#bd3786\"],[0.5555555555555556,\"#d8576b\"],[0.6666666666666666,\"#ed7953\"],[0.7777777777777778,\"#fb9f3a\"],[0.8888888888888888,\"#fdca26\"],[1.0,\"#f0f921\"]]}],\"surface\":[{\"type\":\"surface\",\"colorbar\":{\"outlinewidth\":0,\"ticks\":\"\"},\"colorscale\":[[0.0,\"#0d0887\"],[0.1111111111111111,\"#46039f\"],[0.2222222222222222,\"#7201a8\"],[0.3333333333333333,\"#9c179e\"],[0.4444444444444444,\"#bd3786\"],[0.5555555555555556,\"#d8576b\"],[0.6666666666666666,\"#ed7953\"],[0.7777777777777778,\"#fb9f3a\"],[0.8888888888888888,\"#fdca26\"],[1.0,\"#f0f921\"]]}],\"mesh3d\":[{\"type\":\"mesh3d\",\"colorbar\":{\"outlinewidth\":0,\"ticks\":\"\"}}],\"scatter\":[{\"fillpattern\":{\"fillmode\":\"overlay\",\"size\":10,\"solidity\":0.2},\"type\":\"scatter\"}],\"parcoords\":[{\"type\":\"parcoords\",\"line\":{\"colorbar\":{\"outlinewidth\":0,\"ticks\":\"\"}}}],\"scatterpolargl\":[{\"type\":\"scatterpolargl\",\"marker\":{\"colorbar\":{\"outlinewidth\":0,\"ticks\":\"\"}}}],\"bar\":[{\"error_x\":{\"color\":\"#2a3f5f\"},\"error_y\":{\"color\":\"#2a3f5f\"},\"marker\":{\"line\":{\"color\":\"#E5ECF6\",\"width\":0.5},\"pattern\":{\"fillmode\":\"overlay\",\"size\":10,\"solidity\":0.2}},\"type\":\"bar\"}],\"scattergeo\":[{\"type\":\"scattergeo\",\"marker\":{\"colorbar\":{\"outlinewidth\":0,\"ticks\":\"\"}}}],\"scatterpolar\":[{\"type\":\"scatterpolar\",\"marker\":{\"colorbar\":{\"outlinewidth\":0,\"ticks\":\"\"}}}],\"histogram\":[{\"marker\":{\"pattern\":{\"fillmode\":\"overlay\",\"size\":10,\"solidity\":0.2}},\"type\":\"histogram\"}],\"scattergl\":[{\"type\":\"scattergl\",\"marker\":{\"colorbar\":{\"outlinewidth\":0,\"ticks\":\"\"}}}],\"scatter3d\":[{\"type\":\"scatter3d\",\"line\":{\"colorbar\":{\"outlinewidth\":0,\"ticks\":\"\"}},\"marker\":{\"colorbar\":{\"outlinewidth\":0,\"ticks\":\"\"}}}],\"scattermapbox\":[{\"type\":\"scattermapbox\",\"marker\":{\"colorbar\":{\"outlinewidth\":0,\"ticks\":\"\"}}}],\"scatterternary\":[{\"type\":\"scatterternary\",\"marker\":{\"colorbar\":{\"outlinewidth\":0,\"ticks\":\"\"}}}],\"scattercarpet\":[{\"type\":\"scattercarpet\",\"marker\":{\"colorbar\":{\"outlinewidth\":0,\"ticks\":\"\"}}}],\"carpet\":[{\"aaxis\":{\"endlinecolor\":\"#2a3f5f\",\"gridcolor\":\"white\",\"linecolor\":\"white\",\"minorgridcolor\":\"white\",\"startlinecolor\":\"#2a3f5f\"},\"baxis\":{\"endlinecolor\":\"#2a3f5f\",\"gridcolor\":\"white\",\"linecolor\":\"white\",\"minorgridcolor\":\"white\",\"startlinecolor\":\"#2a3f5f\"},\"type\":\"carpet\"}],\"table\":[{\"cells\":{\"fill\":{\"color\":\"#EBF0F8\"},\"line\":{\"color\":\"white\"}},\"header\":{\"fill\":{\"color\":\"#C8D4E3\"},\"line\":{\"color\":\"white\"}},\"type\":\"table\"}],\"barpolar\":[{\"marker\":{\"line\":{\"color\":\"#E5ECF6\",\"width\":0.5},\"pattern\":{\"fillmode\":\"overlay\",\"size\":10,\"solidity\":0.2}},\"type\":\"barpolar\"}],\"pie\":[{\"automargin\":true,\"type\":\"pie\"}]},\"layout\":{\"autotypenumbers\":\"strict\",\"colorway\":[\"#636efa\",\"#EF553B\",\"#00cc96\",\"#ab63fa\",\"#FFA15A\",\"#19d3f3\",\"#FF6692\",\"#B6E880\",\"#FF97FF\",\"#FECB52\"],\"font\":{\"color\":\"#2a3f5f\"},\"hovermode\":\"closest\",\"hoverlabel\":{\"align\":\"left\"},\"paper_bgcolor\":\"white\",\"plot_bgcolor\":\"#E5ECF6\",\"polar\":{\"bgcolor\":\"#E5ECF6\",\"angularaxis\":{\"gridcolor\":\"white\",\"linecolor\":\"white\",\"ticks\":\"\"},\"radialaxis\":{\"gridcolor\":\"white\",\"linecolor\":\"white\",\"ticks\":\"\"}},\"ternary\":{\"bgcolor\":\"#E5ECF6\",\"aaxis\":{\"gridcolor\":\"white\",\"linecolor\":\"white\",\"ticks\":\"\"},\"baxis\":{\"gridcolor\":\"white\",\"linecolor\":\"white\",\"ticks\":\"\"},\"caxis\":{\"gridcolor\":\"white\",\"linecolor\":\"white\",\"ticks\":\"\"}},\"coloraxis\":{\"colorbar\":{\"outlinewidth\":0,\"ticks\":\"\"}},\"colorscale\":{\"sequential\":[[0.0,\"#0d0887\"],[0.1111111111111111,\"#46039f\"],[0.2222222222222222,\"#7201a8\"],[0.3333333333333333,\"#9c179e\"],[0.4444444444444444,\"#bd3786\"],[0.5555555555555556,\"#d8576b\"],[0.6666666666666666,\"#ed7953\"],[0.7777777777777778,\"#fb9f3a\"],[0.8888888888888888,\"#fdca26\"],[1.0,\"#f0f921\"]],\"sequentialminus\":[[0.0,\"#0d0887\"],[0.1111111111111111,\"#46039f\"],[0.2222222222222222,\"#7201a8\"],[0.3333333333333333,\"#9c179e\"],[0.4444444444444444,\"#bd3786\"],[0.5555555555555556,\"#d8576b\"],[0.6666666666666666,\"#ed7953\"],[0.7777777777777778,\"#fb9f3a\"],[0.8888888888888888,\"#fdca26\"],[1.0,\"#f0f921\"]],\"diverging\":[[0,\"#8e0152\"],[0.1,\"#c51b7d\"],[0.2,\"#de77ae\"],[0.3,\"#f1b6da\"],[0.4,\"#fde0ef\"],[0.5,\"#f7f7f7\"],[0.6,\"#e6f5d0\"],[0.7,\"#b8e186\"],[0.8,\"#7fbc41\"],[0.9,\"#4d9221\"],[1,\"#276419\"]]},\"xaxis\":{\"gridcolor\":\"white\",\"linecolor\":\"white\",\"ticks\":\"\",\"title\":{\"standoff\":15},\"zerolinecolor\":\"white\",\"automargin\":true,\"zerolinewidth\":2},\"yaxis\":{\"gridcolor\":\"white\",\"linecolor\":\"white\",\"ticks\":\"\",\"title\":{\"standoff\":15},\"zerolinecolor\":\"white\",\"automargin\":true,\"zerolinewidth\":2},\"scene\":{\"xaxis\":{\"backgroundcolor\":\"#E5ECF6\",\"gridcolor\":\"white\",\"linecolor\":\"white\",\"showbackground\":true,\"ticks\":\"\",\"zerolinecolor\":\"white\",\"gridwidth\":2},\"yaxis\":{\"backgroundcolor\":\"#E5ECF6\",\"gridcolor\":\"white\",\"linecolor\":\"white\",\"showbackground\":true,\"ticks\":\"\",\"zerolinecolor\":\"white\",\"gridwidth\":2},\"zaxis\":{\"backgroundcolor\":\"#E5ECF6\",\"gridcolor\":\"white\",\"linecolor\":\"white\",\"showbackground\":true,\"ticks\":\"\",\"zerolinecolor\":\"white\",\"gridwidth\":2}},\"shapedefaults\":{\"line\":{\"color\":\"#2a3f5f\"}},\"annotationdefaults\":{\"arrowcolor\":\"#2a3f5f\",\"arrowhead\":0,\"arrowwidth\":1},\"geo\":{\"bgcolor\":\"white\",\"landcolor\":\"#E5ECF6\",\"subunitcolor\":\"white\",\"showland\":true,\"showlakes\":true,\"lakecolor\":\"white\"},\"title\":{\"x\":0.05},\"mapbox\":{\"style\":\"light\"}}},\"xaxis\":{\"anchor\":\"y\",\"domain\":[0.0,1.0],\"title\":{\"text\":\"x\"}},\"yaxis\":{\"anchor\":\"x\",\"domain\":[0.0,1.0],\"title\":{\"text\":\"index\"}},\"legend\":{\"tracegroupgap\":0},\"title\":{\"text\":\"Cummulative Variance\"}},                        {\"responsive\": true}                    ).then(function(){\n",
       "                            \n",
       "var gd = document.getElementById('fef237a7-6252-4a19-99a5-782d62aa1f3e');\n",
       "var x = new MutationObserver(function (mutations, observer) {{\n",
       "        var display = window.getComputedStyle(gd).display;\n",
       "        if (!display || display === 'none') {{\n",
       "            console.log([gd, 'removed!']);\n",
       "            Plotly.purge(gd);\n",
       "            observer.disconnect();\n",
       "        }}\n",
       "}});\n",
       "\n",
       "// Listen for the removal of the full notebook cells\n",
       "var notebookContainer = gd.closest('#notebook-container');\n",
       "if (notebookContainer) {{\n",
       "    x.observe(notebookContainer, {childList: true});\n",
       "}}\n",
       "\n",
       "// Listen for the clearing of the current output cell\n",
       "var outputEl = gd.closest('.output');\n",
       "if (outputEl) {{\n",
       "    x.observe(outputEl, {childList: true});\n",
       "}}\n",
       "\n",
       "                        })                };                });            </script>        </div>"
      ]
     },
     "metadata": {},
     "output_type": "display_data"
    }
   ],
   "source": [
    "fig = px.line(pca.explained_variance_ratio_.cumsum(),range(1,11),title = \"Cummulative Variance\")\n",
    "fig.update_traces(textposition='top right')\n",
    "fig.show()"
   ]
  },
  {
   "cell_type": "code",
   "execution_count": 69,
   "metadata": {},
   "outputs": [
    {
     "data": {
      "application/vnd.plotly.v1+json": {
       "config": {
        "plotlyServerURL": "https://plot.ly"
       },
       "data": [
        {
         "hovertemplate": "x=%{x}<br>index=%{y}<extra></extra>",
         "legendgroup": "",
         "line": {
          "color": "#636efa",
          "dash": "solid"
         },
         "marker": {
          "symbol": "circle"
         },
         "mode": "lines",
         "name": "",
         "orientation": "h",
         "showlegend": false,
         "textposition": "top right",
         "type": "scatter",
         "x": [
          0.7214893388149162,
          0.8580828019339617,
          0.9168830862876692,
          0.9482668717741457,
          0.971012324979608,
          0.9862395991688337,
          0.9932474118662162,
          0.9971846571316231,
          0.9991299470566188,
          0.9999999999999999
         ],
         "xaxis": "x",
         "y": [
          0,
          1,
          2,
          3,
          4,
          5,
          6,
          7,
          8,
          9
         ],
         "yaxis": "y"
        }
       ],
       "layout": {
        "legend": {
         "tracegroupgap": 0
        },
        "template": {
         "data": {
          "bar": [
           {
            "error_x": {
             "color": "#2a3f5f"
            },
            "error_y": {
             "color": "#2a3f5f"
            },
            "marker": {
             "line": {
              "color": "#E5ECF6",
              "width": 0.5
             },
             "pattern": {
              "fillmode": "overlay",
              "size": 10,
              "solidity": 0.2
             }
            },
            "type": "bar"
           }
          ],
          "barpolar": [
           {
            "marker": {
             "line": {
              "color": "#E5ECF6",
              "width": 0.5
             },
             "pattern": {
              "fillmode": "overlay",
              "size": 10,
              "solidity": 0.2
             }
            },
            "type": "barpolar"
           }
          ],
          "carpet": [
           {
            "aaxis": {
             "endlinecolor": "#2a3f5f",
             "gridcolor": "white",
             "linecolor": "white",
             "minorgridcolor": "white",
             "startlinecolor": "#2a3f5f"
            },
            "baxis": {
             "endlinecolor": "#2a3f5f",
             "gridcolor": "white",
             "linecolor": "white",
             "minorgridcolor": "white",
             "startlinecolor": "#2a3f5f"
            },
            "type": "carpet"
           }
          ],
          "choropleth": [
           {
            "colorbar": {
             "outlinewidth": 0,
             "ticks": ""
            },
            "type": "choropleth"
           }
          ],
          "contour": [
           {
            "colorbar": {
             "outlinewidth": 0,
             "ticks": ""
            },
            "colorscale": [
             [
              0,
              "#0d0887"
             ],
             [
              0.1111111111111111,
              "#46039f"
             ],
             [
              0.2222222222222222,
              "#7201a8"
             ],
             [
              0.3333333333333333,
              "#9c179e"
             ],
             [
              0.4444444444444444,
              "#bd3786"
             ],
             [
              0.5555555555555556,
              "#d8576b"
             ],
             [
              0.6666666666666666,
              "#ed7953"
             ],
             [
              0.7777777777777778,
              "#fb9f3a"
             ],
             [
              0.8888888888888888,
              "#fdca26"
             ],
             [
              1,
              "#f0f921"
             ]
            ],
            "type": "contour"
           }
          ],
          "contourcarpet": [
           {
            "colorbar": {
             "outlinewidth": 0,
             "ticks": ""
            },
            "type": "contourcarpet"
           }
          ],
          "heatmap": [
           {
            "colorbar": {
             "outlinewidth": 0,
             "ticks": ""
            },
            "colorscale": [
             [
              0,
              "#0d0887"
             ],
             [
              0.1111111111111111,
              "#46039f"
             ],
             [
              0.2222222222222222,
              "#7201a8"
             ],
             [
              0.3333333333333333,
              "#9c179e"
             ],
             [
              0.4444444444444444,
              "#bd3786"
             ],
             [
              0.5555555555555556,
              "#d8576b"
             ],
             [
              0.6666666666666666,
              "#ed7953"
             ],
             [
              0.7777777777777778,
              "#fb9f3a"
             ],
             [
              0.8888888888888888,
              "#fdca26"
             ],
             [
              1,
              "#f0f921"
             ]
            ],
            "type": "heatmap"
           }
          ],
          "heatmapgl": [
           {
            "colorbar": {
             "outlinewidth": 0,
             "ticks": ""
            },
            "colorscale": [
             [
              0,
              "#0d0887"
             ],
             [
              0.1111111111111111,
              "#46039f"
             ],
             [
              0.2222222222222222,
              "#7201a8"
             ],
             [
              0.3333333333333333,
              "#9c179e"
             ],
             [
              0.4444444444444444,
              "#bd3786"
             ],
             [
              0.5555555555555556,
              "#d8576b"
             ],
             [
              0.6666666666666666,
              "#ed7953"
             ],
             [
              0.7777777777777778,
              "#fb9f3a"
             ],
             [
              0.8888888888888888,
              "#fdca26"
             ],
             [
              1,
              "#f0f921"
             ]
            ],
            "type": "heatmapgl"
           }
          ],
          "histogram": [
           {
            "marker": {
             "pattern": {
              "fillmode": "overlay",
              "size": 10,
              "solidity": 0.2
             }
            },
            "type": "histogram"
           }
          ],
          "histogram2d": [
           {
            "colorbar": {
             "outlinewidth": 0,
             "ticks": ""
            },
            "colorscale": [
             [
              0,
              "#0d0887"
             ],
             [
              0.1111111111111111,
              "#46039f"
             ],
             [
              0.2222222222222222,
              "#7201a8"
             ],
             [
              0.3333333333333333,
              "#9c179e"
             ],
             [
              0.4444444444444444,
              "#bd3786"
             ],
             [
              0.5555555555555556,
              "#d8576b"
             ],
             [
              0.6666666666666666,
              "#ed7953"
             ],
             [
              0.7777777777777778,
              "#fb9f3a"
             ],
             [
              0.8888888888888888,
              "#fdca26"
             ],
             [
              1,
              "#f0f921"
             ]
            ],
            "type": "histogram2d"
           }
          ],
          "histogram2dcontour": [
           {
            "colorbar": {
             "outlinewidth": 0,
             "ticks": ""
            },
            "colorscale": [
             [
              0,
              "#0d0887"
             ],
             [
              0.1111111111111111,
              "#46039f"
             ],
             [
              0.2222222222222222,
              "#7201a8"
             ],
             [
              0.3333333333333333,
              "#9c179e"
             ],
             [
              0.4444444444444444,
              "#bd3786"
             ],
             [
              0.5555555555555556,
              "#d8576b"
             ],
             [
              0.6666666666666666,
              "#ed7953"
             ],
             [
              0.7777777777777778,
              "#fb9f3a"
             ],
             [
              0.8888888888888888,
              "#fdca26"
             ],
             [
              1,
              "#f0f921"
             ]
            ],
            "type": "histogram2dcontour"
           }
          ],
          "mesh3d": [
           {
            "colorbar": {
             "outlinewidth": 0,
             "ticks": ""
            },
            "type": "mesh3d"
           }
          ],
          "parcoords": [
           {
            "line": {
             "colorbar": {
              "outlinewidth": 0,
              "ticks": ""
             }
            },
            "type": "parcoords"
           }
          ],
          "pie": [
           {
            "automargin": true,
            "type": "pie"
           }
          ],
          "scatter": [
           {
            "fillpattern": {
             "fillmode": "overlay",
             "size": 10,
             "solidity": 0.2
            },
            "type": "scatter"
           }
          ],
          "scatter3d": [
           {
            "line": {
             "colorbar": {
              "outlinewidth": 0,
              "ticks": ""
             }
            },
            "marker": {
             "colorbar": {
              "outlinewidth": 0,
              "ticks": ""
             }
            },
            "type": "scatter3d"
           }
          ],
          "scattercarpet": [
           {
            "marker": {
             "colorbar": {
              "outlinewidth": 0,
              "ticks": ""
             }
            },
            "type": "scattercarpet"
           }
          ],
          "scattergeo": [
           {
            "marker": {
             "colorbar": {
              "outlinewidth": 0,
              "ticks": ""
             }
            },
            "type": "scattergeo"
           }
          ],
          "scattergl": [
           {
            "marker": {
             "colorbar": {
              "outlinewidth": 0,
              "ticks": ""
             }
            },
            "type": "scattergl"
           }
          ],
          "scattermapbox": [
           {
            "marker": {
             "colorbar": {
              "outlinewidth": 0,
              "ticks": ""
             }
            },
            "type": "scattermapbox"
           }
          ],
          "scatterpolar": [
           {
            "marker": {
             "colorbar": {
              "outlinewidth": 0,
              "ticks": ""
             }
            },
            "type": "scatterpolar"
           }
          ],
          "scatterpolargl": [
           {
            "marker": {
             "colorbar": {
              "outlinewidth": 0,
              "ticks": ""
             }
            },
            "type": "scatterpolargl"
           }
          ],
          "scatterternary": [
           {
            "marker": {
             "colorbar": {
              "outlinewidth": 0,
              "ticks": ""
             }
            },
            "type": "scatterternary"
           }
          ],
          "surface": [
           {
            "colorbar": {
             "outlinewidth": 0,
             "ticks": ""
            },
            "colorscale": [
             [
              0,
              "#0d0887"
             ],
             [
              0.1111111111111111,
              "#46039f"
             ],
             [
              0.2222222222222222,
              "#7201a8"
             ],
             [
              0.3333333333333333,
              "#9c179e"
             ],
             [
              0.4444444444444444,
              "#bd3786"
             ],
             [
              0.5555555555555556,
              "#d8576b"
             ],
             [
              0.6666666666666666,
              "#ed7953"
             ],
             [
              0.7777777777777778,
              "#fb9f3a"
             ],
             [
              0.8888888888888888,
              "#fdca26"
             ],
             [
              1,
              "#f0f921"
             ]
            ],
            "type": "surface"
           }
          ],
          "table": [
           {
            "cells": {
             "fill": {
              "color": "#EBF0F8"
             },
             "line": {
              "color": "white"
             }
            },
            "header": {
             "fill": {
              "color": "#C8D4E3"
             },
             "line": {
              "color": "white"
             }
            },
            "type": "table"
           }
          ]
         },
         "layout": {
          "annotationdefaults": {
           "arrowcolor": "#2a3f5f",
           "arrowhead": 0,
           "arrowwidth": 1
          },
          "autotypenumbers": "strict",
          "coloraxis": {
           "colorbar": {
            "outlinewidth": 0,
            "ticks": ""
           }
          },
          "colorscale": {
           "diverging": [
            [
             0,
             "#8e0152"
            ],
            [
             0.1,
             "#c51b7d"
            ],
            [
             0.2,
             "#de77ae"
            ],
            [
             0.3,
             "#f1b6da"
            ],
            [
             0.4,
             "#fde0ef"
            ],
            [
             0.5,
             "#f7f7f7"
            ],
            [
             0.6,
             "#e6f5d0"
            ],
            [
             0.7,
             "#b8e186"
            ],
            [
             0.8,
             "#7fbc41"
            ],
            [
             0.9,
             "#4d9221"
            ],
            [
             1,
             "#276419"
            ]
           ],
           "sequential": [
            [
             0,
             "#0d0887"
            ],
            [
             0.1111111111111111,
             "#46039f"
            ],
            [
             0.2222222222222222,
             "#7201a8"
            ],
            [
             0.3333333333333333,
             "#9c179e"
            ],
            [
             0.4444444444444444,
             "#bd3786"
            ],
            [
             0.5555555555555556,
             "#d8576b"
            ],
            [
             0.6666666666666666,
             "#ed7953"
            ],
            [
             0.7777777777777778,
             "#fb9f3a"
            ],
            [
             0.8888888888888888,
             "#fdca26"
            ],
            [
             1,
             "#f0f921"
            ]
           ],
           "sequentialminus": [
            [
             0,
             "#0d0887"
            ],
            [
             0.1111111111111111,
             "#46039f"
            ],
            [
             0.2222222222222222,
             "#7201a8"
            ],
            [
             0.3333333333333333,
             "#9c179e"
            ],
            [
             0.4444444444444444,
             "#bd3786"
            ],
            [
             0.5555555555555556,
             "#d8576b"
            ],
            [
             0.6666666666666666,
             "#ed7953"
            ],
            [
             0.7777777777777778,
             "#fb9f3a"
            ],
            [
             0.8888888888888888,
             "#fdca26"
            ],
            [
             1,
             "#f0f921"
            ]
           ]
          },
          "colorway": [
           "#636efa",
           "#EF553B",
           "#00cc96",
           "#ab63fa",
           "#FFA15A",
           "#19d3f3",
           "#FF6692",
           "#B6E880",
           "#FF97FF",
           "#FECB52"
          ],
          "font": {
           "color": "#2a3f5f"
          },
          "geo": {
           "bgcolor": "white",
           "lakecolor": "white",
           "landcolor": "#E5ECF6",
           "showlakes": true,
           "showland": true,
           "subunitcolor": "white"
          },
          "hoverlabel": {
           "align": "left"
          },
          "hovermode": "closest",
          "mapbox": {
           "style": "light"
          },
          "paper_bgcolor": "white",
          "plot_bgcolor": "#E5ECF6",
          "polar": {
           "angularaxis": {
            "gridcolor": "white",
            "linecolor": "white",
            "ticks": ""
           },
           "bgcolor": "#E5ECF6",
           "radialaxis": {
            "gridcolor": "white",
            "linecolor": "white",
            "ticks": ""
           }
          },
          "scene": {
           "xaxis": {
            "backgroundcolor": "#E5ECF6",
            "gridcolor": "white",
            "gridwidth": 2,
            "linecolor": "white",
            "showbackground": true,
            "ticks": "",
            "zerolinecolor": "white"
           },
           "yaxis": {
            "backgroundcolor": "#E5ECF6",
            "gridcolor": "white",
            "gridwidth": 2,
            "linecolor": "white",
            "showbackground": true,
            "ticks": "",
            "zerolinecolor": "white"
           },
           "zaxis": {
            "backgroundcolor": "#E5ECF6",
            "gridcolor": "white",
            "gridwidth": 2,
            "linecolor": "white",
            "showbackground": true,
            "ticks": "",
            "zerolinecolor": "white"
           }
          },
          "shapedefaults": {
           "line": {
            "color": "#2a3f5f"
           }
          },
          "ternary": {
           "aaxis": {
            "gridcolor": "white",
            "linecolor": "white",
            "ticks": ""
           },
           "baxis": {
            "gridcolor": "white",
            "linecolor": "white",
            "ticks": ""
           },
           "bgcolor": "#E5ECF6",
           "caxis": {
            "gridcolor": "white",
            "linecolor": "white",
            "ticks": ""
           }
          },
          "title": {
           "x": 0.05
          },
          "xaxis": {
           "automargin": true,
           "gridcolor": "white",
           "linecolor": "white",
           "ticks": "",
           "title": {
            "standoff": 15
           },
           "zerolinecolor": "white",
           "zerolinewidth": 2
          },
          "yaxis": {
           "automargin": true,
           "gridcolor": "white",
           "linecolor": "white",
           "ticks": "",
           "title": {
            "standoff": 15
           },
           "zerolinecolor": "white",
           "zerolinewidth": 2
          }
         }
        },
        "title": {
         "text": "Cummulative Variance"
        },
        "xaxis": {
         "anchor": "y",
         "domain": [
          0,
          1
         ],
         "title": {
          "text": "x"
         }
        },
        "yaxis": {
         "anchor": "x",
         "domain": [
          0,
          1
         ],
         "title": {
          "text": "index"
         }
        }
       }
      },
      "text/html": [
       "<div>                            <div id=\"68ee902f-c550-4f6c-832e-aa7fb1a5bfaf\" class=\"plotly-graph-div\" style=\"height:525px; width:100%;\"></div>            <script type=\"text/javascript\">                require([\"plotly\"], function(Plotly) {                    window.PLOTLYENV=window.PLOTLYENV || {};                                    if (document.getElementById(\"68ee902f-c550-4f6c-832e-aa7fb1a5bfaf\")) {                    Plotly.newPlot(                        \"68ee902f-c550-4f6c-832e-aa7fb1a5bfaf\",                        [{\"hovertemplate\":\"x=%{x}\\u003cbr\\u003eindex=%{y}\\u003cextra\\u003e\\u003c\\u002fextra\\u003e\",\"legendgroup\":\"\",\"line\":{\"color\":\"#636efa\",\"dash\":\"solid\"},\"marker\":{\"symbol\":\"circle\"},\"mode\":\"lines\",\"name\":\"\",\"orientation\":\"h\",\"showlegend\":false,\"x\":[0.7214893388149162,0.8580828019339617,0.9168830862876692,0.9482668717741457,0.971012324979608,0.9862395991688337,0.9932474118662162,0.9971846571316231,0.9991299470566188,0.9999999999999999],\"xaxis\":\"x\",\"y\":[0,1,2,3,4,5,6,7,8,9],\"yaxis\":\"y\",\"type\":\"scatter\",\"textposition\":\"top right\"}],                        {\"template\":{\"data\":{\"histogram2dcontour\":[{\"type\":\"histogram2dcontour\",\"colorbar\":{\"outlinewidth\":0,\"ticks\":\"\"},\"colorscale\":[[0.0,\"#0d0887\"],[0.1111111111111111,\"#46039f\"],[0.2222222222222222,\"#7201a8\"],[0.3333333333333333,\"#9c179e\"],[0.4444444444444444,\"#bd3786\"],[0.5555555555555556,\"#d8576b\"],[0.6666666666666666,\"#ed7953\"],[0.7777777777777778,\"#fb9f3a\"],[0.8888888888888888,\"#fdca26\"],[1.0,\"#f0f921\"]]}],\"choropleth\":[{\"type\":\"choropleth\",\"colorbar\":{\"outlinewidth\":0,\"ticks\":\"\"}}],\"histogram2d\":[{\"type\":\"histogram2d\",\"colorbar\":{\"outlinewidth\":0,\"ticks\":\"\"},\"colorscale\":[[0.0,\"#0d0887\"],[0.1111111111111111,\"#46039f\"],[0.2222222222222222,\"#7201a8\"],[0.3333333333333333,\"#9c179e\"],[0.4444444444444444,\"#bd3786\"],[0.5555555555555556,\"#d8576b\"],[0.6666666666666666,\"#ed7953\"],[0.7777777777777778,\"#fb9f3a\"],[0.8888888888888888,\"#fdca26\"],[1.0,\"#f0f921\"]]}],\"heatmap\":[{\"type\":\"heatmap\",\"colorbar\":{\"outlinewidth\":0,\"ticks\":\"\"},\"colorscale\":[[0.0,\"#0d0887\"],[0.1111111111111111,\"#46039f\"],[0.2222222222222222,\"#7201a8\"],[0.3333333333333333,\"#9c179e\"],[0.4444444444444444,\"#bd3786\"],[0.5555555555555556,\"#d8576b\"],[0.6666666666666666,\"#ed7953\"],[0.7777777777777778,\"#fb9f3a\"],[0.8888888888888888,\"#fdca26\"],[1.0,\"#f0f921\"]]}],\"heatmapgl\":[{\"type\":\"heatmapgl\",\"colorbar\":{\"outlinewidth\":0,\"ticks\":\"\"},\"colorscale\":[[0.0,\"#0d0887\"],[0.1111111111111111,\"#46039f\"],[0.2222222222222222,\"#7201a8\"],[0.3333333333333333,\"#9c179e\"],[0.4444444444444444,\"#bd3786\"],[0.5555555555555556,\"#d8576b\"],[0.6666666666666666,\"#ed7953\"],[0.7777777777777778,\"#fb9f3a\"],[0.8888888888888888,\"#fdca26\"],[1.0,\"#f0f921\"]]}],\"contourcarpet\":[{\"type\":\"contourcarpet\",\"colorbar\":{\"outlinewidth\":0,\"ticks\":\"\"}}],\"contour\":[{\"type\":\"contour\",\"colorbar\":{\"outlinewidth\":0,\"ticks\":\"\"},\"colorscale\":[[0.0,\"#0d0887\"],[0.1111111111111111,\"#46039f\"],[0.2222222222222222,\"#7201a8\"],[0.3333333333333333,\"#9c179e\"],[0.4444444444444444,\"#bd3786\"],[0.5555555555555556,\"#d8576b\"],[0.6666666666666666,\"#ed7953\"],[0.7777777777777778,\"#fb9f3a\"],[0.8888888888888888,\"#fdca26\"],[1.0,\"#f0f921\"]]}],\"surface\":[{\"type\":\"surface\",\"colorbar\":{\"outlinewidth\":0,\"ticks\":\"\"},\"colorscale\":[[0.0,\"#0d0887\"],[0.1111111111111111,\"#46039f\"],[0.2222222222222222,\"#7201a8\"],[0.3333333333333333,\"#9c179e\"],[0.4444444444444444,\"#bd3786\"],[0.5555555555555556,\"#d8576b\"],[0.6666666666666666,\"#ed7953\"],[0.7777777777777778,\"#fb9f3a\"],[0.8888888888888888,\"#fdca26\"],[1.0,\"#f0f921\"]]}],\"mesh3d\":[{\"type\":\"mesh3d\",\"colorbar\":{\"outlinewidth\":0,\"ticks\":\"\"}}],\"scatter\":[{\"fillpattern\":{\"fillmode\":\"overlay\",\"size\":10,\"solidity\":0.2},\"type\":\"scatter\"}],\"parcoords\":[{\"type\":\"parcoords\",\"line\":{\"colorbar\":{\"outlinewidth\":0,\"ticks\":\"\"}}}],\"scatterpolargl\":[{\"type\":\"scatterpolargl\",\"marker\":{\"colorbar\":{\"outlinewidth\":0,\"ticks\":\"\"}}}],\"bar\":[{\"error_x\":{\"color\":\"#2a3f5f\"},\"error_y\":{\"color\":\"#2a3f5f\"},\"marker\":{\"line\":{\"color\":\"#E5ECF6\",\"width\":0.5},\"pattern\":{\"fillmode\":\"overlay\",\"size\":10,\"solidity\":0.2}},\"type\":\"bar\"}],\"scattergeo\":[{\"type\":\"scattergeo\",\"marker\":{\"colorbar\":{\"outlinewidth\":0,\"ticks\":\"\"}}}],\"scatterpolar\":[{\"type\":\"scatterpolar\",\"marker\":{\"colorbar\":{\"outlinewidth\":0,\"ticks\":\"\"}}}],\"histogram\":[{\"marker\":{\"pattern\":{\"fillmode\":\"overlay\",\"size\":10,\"solidity\":0.2}},\"type\":\"histogram\"}],\"scattergl\":[{\"type\":\"scattergl\",\"marker\":{\"colorbar\":{\"outlinewidth\":0,\"ticks\":\"\"}}}],\"scatter3d\":[{\"type\":\"scatter3d\",\"line\":{\"colorbar\":{\"outlinewidth\":0,\"ticks\":\"\"}},\"marker\":{\"colorbar\":{\"outlinewidth\":0,\"ticks\":\"\"}}}],\"scattermapbox\":[{\"type\":\"scattermapbox\",\"marker\":{\"colorbar\":{\"outlinewidth\":0,\"ticks\":\"\"}}}],\"scatterternary\":[{\"type\":\"scatterternary\",\"marker\":{\"colorbar\":{\"outlinewidth\":0,\"ticks\":\"\"}}}],\"scattercarpet\":[{\"type\":\"scattercarpet\",\"marker\":{\"colorbar\":{\"outlinewidth\":0,\"ticks\":\"\"}}}],\"carpet\":[{\"aaxis\":{\"endlinecolor\":\"#2a3f5f\",\"gridcolor\":\"white\",\"linecolor\":\"white\",\"minorgridcolor\":\"white\",\"startlinecolor\":\"#2a3f5f\"},\"baxis\":{\"endlinecolor\":\"#2a3f5f\",\"gridcolor\":\"white\",\"linecolor\":\"white\",\"minorgridcolor\":\"white\",\"startlinecolor\":\"#2a3f5f\"},\"type\":\"carpet\"}],\"table\":[{\"cells\":{\"fill\":{\"color\":\"#EBF0F8\"},\"line\":{\"color\":\"white\"}},\"header\":{\"fill\":{\"color\":\"#C8D4E3\"},\"line\":{\"color\":\"white\"}},\"type\":\"table\"}],\"barpolar\":[{\"marker\":{\"line\":{\"color\":\"#E5ECF6\",\"width\":0.5},\"pattern\":{\"fillmode\":\"overlay\",\"size\":10,\"solidity\":0.2}},\"type\":\"barpolar\"}],\"pie\":[{\"automargin\":true,\"type\":\"pie\"}]},\"layout\":{\"autotypenumbers\":\"strict\",\"colorway\":[\"#636efa\",\"#EF553B\",\"#00cc96\",\"#ab63fa\",\"#FFA15A\",\"#19d3f3\",\"#FF6692\",\"#B6E880\",\"#FF97FF\",\"#FECB52\"],\"font\":{\"color\":\"#2a3f5f\"},\"hovermode\":\"closest\",\"hoverlabel\":{\"align\":\"left\"},\"paper_bgcolor\":\"white\",\"plot_bgcolor\":\"#E5ECF6\",\"polar\":{\"bgcolor\":\"#E5ECF6\",\"angularaxis\":{\"gridcolor\":\"white\",\"linecolor\":\"white\",\"ticks\":\"\"},\"radialaxis\":{\"gridcolor\":\"white\",\"linecolor\":\"white\",\"ticks\":\"\"}},\"ternary\":{\"bgcolor\":\"#E5ECF6\",\"aaxis\":{\"gridcolor\":\"white\",\"linecolor\":\"white\",\"ticks\":\"\"},\"baxis\":{\"gridcolor\":\"white\",\"linecolor\":\"white\",\"ticks\":\"\"},\"caxis\":{\"gridcolor\":\"white\",\"linecolor\":\"white\",\"ticks\":\"\"}},\"coloraxis\":{\"colorbar\":{\"outlinewidth\":0,\"ticks\":\"\"}},\"colorscale\":{\"sequential\":[[0.0,\"#0d0887\"],[0.1111111111111111,\"#46039f\"],[0.2222222222222222,\"#7201a8\"],[0.3333333333333333,\"#9c179e\"],[0.4444444444444444,\"#bd3786\"],[0.5555555555555556,\"#d8576b\"],[0.6666666666666666,\"#ed7953\"],[0.7777777777777778,\"#fb9f3a\"],[0.8888888888888888,\"#fdca26\"],[1.0,\"#f0f921\"]],\"sequentialminus\":[[0.0,\"#0d0887\"],[0.1111111111111111,\"#46039f\"],[0.2222222222222222,\"#7201a8\"],[0.3333333333333333,\"#9c179e\"],[0.4444444444444444,\"#bd3786\"],[0.5555555555555556,\"#d8576b\"],[0.6666666666666666,\"#ed7953\"],[0.7777777777777778,\"#fb9f3a\"],[0.8888888888888888,\"#fdca26\"],[1.0,\"#f0f921\"]],\"diverging\":[[0,\"#8e0152\"],[0.1,\"#c51b7d\"],[0.2,\"#de77ae\"],[0.3,\"#f1b6da\"],[0.4,\"#fde0ef\"],[0.5,\"#f7f7f7\"],[0.6,\"#e6f5d0\"],[0.7,\"#b8e186\"],[0.8,\"#7fbc41\"],[0.9,\"#4d9221\"],[1,\"#276419\"]]},\"xaxis\":{\"gridcolor\":\"white\",\"linecolor\":\"white\",\"ticks\":\"\",\"title\":{\"standoff\":15},\"zerolinecolor\":\"white\",\"automargin\":true,\"zerolinewidth\":2},\"yaxis\":{\"gridcolor\":\"white\",\"linecolor\":\"white\",\"ticks\":\"\",\"title\":{\"standoff\":15},\"zerolinecolor\":\"white\",\"automargin\":true,\"zerolinewidth\":2},\"scene\":{\"xaxis\":{\"backgroundcolor\":\"#E5ECF6\",\"gridcolor\":\"white\",\"linecolor\":\"white\",\"showbackground\":true,\"ticks\":\"\",\"zerolinecolor\":\"white\",\"gridwidth\":2},\"yaxis\":{\"backgroundcolor\":\"#E5ECF6\",\"gridcolor\":\"white\",\"linecolor\":\"white\",\"showbackground\":true,\"ticks\":\"\",\"zerolinecolor\":\"white\",\"gridwidth\":2},\"zaxis\":{\"backgroundcolor\":\"#E5ECF6\",\"gridcolor\":\"white\",\"linecolor\":\"white\",\"showbackground\":true,\"ticks\":\"\",\"zerolinecolor\":\"white\",\"gridwidth\":2}},\"shapedefaults\":{\"line\":{\"color\":\"#2a3f5f\"}},\"annotationdefaults\":{\"arrowcolor\":\"#2a3f5f\",\"arrowhead\":0,\"arrowwidth\":1},\"geo\":{\"bgcolor\":\"white\",\"landcolor\":\"#E5ECF6\",\"subunitcolor\":\"white\",\"showland\":true,\"showlakes\":true,\"lakecolor\":\"white\"},\"title\":{\"x\":0.05},\"mapbox\":{\"style\":\"light\"}}},\"xaxis\":{\"anchor\":\"y\",\"domain\":[0.0,1.0],\"title\":{\"text\":\"x\"}},\"yaxis\":{\"anchor\":\"x\",\"domain\":[0.0,1.0],\"title\":{\"text\":\"index\"}},\"legend\":{\"tracegroupgap\":0},\"title\":{\"text\":\"Cummulative Variance\"}},                        {\"responsive\": true}                    ).then(function(){\n",
       "                            \n",
       "var gd = document.getElementById('68ee902f-c550-4f6c-832e-aa7fb1a5bfaf');\n",
       "var x = new MutationObserver(function (mutations, observer) {{\n",
       "        var display = window.getComputedStyle(gd).display;\n",
       "        if (!display || display === 'none') {{\n",
       "            console.log([gd, 'removed!']);\n",
       "            Plotly.purge(gd);\n",
       "            observer.disconnect();\n",
       "        }}\n",
       "}});\n",
       "\n",
       "// Listen for the removal of the full notebook cells\n",
       "var notebookContainer = gd.closest('#notebook-container');\n",
       "if (notebookContainer) {{\n",
       "    x.observe(notebookContainer, {childList: true});\n",
       "}}\n",
       "\n",
       "// Listen for the clearing of the current output cell\n",
       "var outputEl = gd.closest('.output');\n",
       "if (outputEl) {{\n",
       "    x.observe(outputEl, {childList: true});\n",
       "}}\n",
       "\n",
       "                        })                };                });            </script>        </div>"
      ]
     },
     "metadata": {},
     "output_type": "display_data"
    }
   ],
   "source": [
    "fig = px.line(range(1,11),pca.explained_variance_ratio_.cumsum(),title = \"Cummulative Variance\")\n",
    "fig.update_traces(textposition='top right')\n",
    "fig.show()"
   ]
  },
  {
   "cell_type": "markdown",
   "metadata": {},
   "source": [
    "Normally we select no of components based on explanation of 80 % of variance \n",
    "\n",
    "So as per the graph above, no of pca components are =1 /2"
   ]
  },
  {
   "cell_type": "code",
   "execution_count": 70,
   "metadata": {},
   "outputs": [],
   "source": [
    "pca = PCA(n_components = 2)"
   ]
  },
  {
   "cell_type": "code",
   "execution_count": 71,
   "metadata": {},
   "outputs": [
    {
     "data": {
      "text/plain": [
       "PCA(copy=True, iterated_power='auto', n_components=2, random_state=None,\n",
       "  svd_solver='auto', tol=0.0, whiten=False)"
      ]
     },
     "execution_count": 71,
     "metadata": {},
     "output_type": "execute_result"
    }
   ],
   "source": [
    "pca.fit(df[newdf])"
   ]
  },
  {
   "cell_type": "code",
   "execution_count": 72,
   "metadata": {},
   "outputs": [
    {
     "data": {
      "text/plain": [
       "array([[-2.91660039e+00,  5.69939118e-01],\n",
       "       [ 3.81546834e+00,  1.99955411e+00],\n",
       "       [ 1.94339593e+00, -2.75744591e+00],\n",
       "       [ 3.50242656e+00,  1.04344114e+00],\n",
       "       [-1.15363852e+00,  4.22189098e-01],\n",
       "       [-1.56250334e+00,  1.45649535e-01],\n",
       "       [ 6.39257206e-01, -4.33523336e-02],\n",
       "       [-1.03189567e+00, -5.10980753e-01],\n",
       "       [-1.38972366e+00,  9.15375968e-01],\n",
       "       [ 7.37987828e-01,  4.31080443e-01],\n",
       "       [ 5.22808398e-01, -8.80548908e-01],\n",
       "       [-1.27297215e+00,  7.51297620e-01],\n",
       "       [ 1.04085763e+00, -1.27111927e+00],\n",
       "       [ 1.71734722e+00, -2.52445578e-01],\n",
       "       [ 1.60388162e+00, -5.88375497e-01],\n",
       "       [-7.44984621e-01,  4.95455486e-01],\n",
       "       [-2.95007087e+00,  5.90468219e-01],\n",
       "       [-2.95007087e+00,  5.90468219e-01],\n",
       "       [-6.86306844e-01, -6.62324199e-01],\n",
       "       [ 2.36404498e+00,  1.77718707e+00],\n",
       "       [-1.67493630e+00, -3.27476827e-01],\n",
       "       [ 3.45874913e+00,  1.10223349e+00],\n",
       "       [-2.88792013e+00,  5.79986195e-01],\n",
       "       [ 1.47644203e+00, -1.86823781e+00],\n",
       "       [-2.87429725e+00,  5.37795260e-01],\n",
       "       [-2.87956766e+00,  5.36519812e-01],\n",
       "       [-2.95007087e+00,  5.90468219e-01],\n",
       "       [-4.20279898e-01, -5.36369653e-01],\n",
       "       [-2.95007087e+00,  5.90468219e-01],\n",
       "       [ 1.05201153e+00,  1.05996465e+00],\n",
       "       [-1.33988764e+00, -1.12929999e-02],\n",
       "       [ 2.42716617e+00,  1.39227420e+00],\n",
       "       [ 3.96268125e+00,  1.18320845e+00],\n",
       "       [-2.92300286e+00,  5.87542086e-01],\n",
       "       [-1.99741330e+00,  6.62367696e-01],\n",
       "       [ 1.35118300e+00, -1.92821935e+00],\n",
       "       [ 4.21375628e+00, -3.43946456e+00],\n",
       "       [ 2.41348255e+00, -2.45044950e+00],\n",
       "       [-2.95007087e+00,  5.90468219e-01],\n",
       "       [ 5.52635105e+00,  2.09567068e+00],\n",
       "       [-1.90596020e+00,  1.22256488e-01],\n",
       "       [-2.94205851e+00,  5.88853841e-01],\n",
       "       [ 3.67968619e+00, -1.05529615e+00],\n",
       "       [-2.95007087e+00,  5.90468219e-01],\n",
       "       [-2.07596775e+00,  8.46722537e-01],\n",
       "       [-1.71117709e+00,  1.06821123e-01],\n",
       "       [-1.30084401e-01,  3.75623439e-01],\n",
       "       [-1.76966637e+00, -4.27381710e-02],\n",
       "       [ 3.71207202e+00, -2.27245482e+00],\n",
       "       [ 1.71047904e+00, -1.61329594e+00],\n",
       "       [-2.56415913e+00,  3.19792357e-01],\n",
       "       [ 7.57902274e+00,  2.47542755e+00],\n",
       "       [-2.95007087e+00,  5.90468219e-01],\n",
       "       [ 1.21885722e+00,  2.86265834e-01],\n",
       "       [ 2.98679927e+00, -2.25843452e+00],\n",
       "       [-2.88151387e+00,  5.74783698e-01],\n",
       "       [-1.16196736e+00,  5.75800076e-01],\n",
       "       [-1.61702829e-02, -8.89661300e-02],\n",
       "       [ 8.59044967e-01, -1.82617090e+00],\n",
       "       [-6.02559495e-01,  8.15853956e-02],\n",
       "       [-1.77449283e+00,  5.63945368e-01],\n",
       "       [-2.65462908e+00,  6.11486525e-01],\n",
       "       [ 1.70600722e+00, -2.59811698e+00],\n",
       "       [-2.65627989e+00,  5.30231097e-01],\n",
       "       [ 1.65462302e-01, -1.08425182e+00],\n",
       "       [ 1.91671456e+00,  1.37015176e+00],\n",
       "       [-2.69767816e+00,  5.06634702e-01],\n",
       "       [-1.95880246e+00,  1.55329655e-01],\n",
       "       [-2.95007087e+00,  5.90468219e-01],\n",
       "       [-2.94264769e+00,  5.88477606e-01],\n",
       "       [ 1.53388349e+00, -1.10011979e+00],\n",
       "       [-2.92823368e+00,  5.93609464e-01],\n",
       "       [ 4.33213431e+00,  7.22834292e-01],\n",
       "       [ 3.23989120e+00, -1.31898332e+00],\n",
       "       [-1.41335506e+00, -7.81411025e-01],\n",
       "       [ 3.55381839e+00,  9.81612703e-01],\n",
       "       [ 4.05006748e+00,  6.59909565e-01],\n",
       "       [-2.64127070e+00,  6.38615374e-01],\n",
       "       [-2.93985336e+00,  5.90073471e-01],\n",
       "       [ 9.00150224e-01, -2.06337025e+00],\n",
       "       [ 9.97616843e-01, -1.33857027e-01],\n",
       "       [-1.06539105e+00, -2.31156556e-01],\n",
       "       [-9.61031831e-01,  4.86336743e-01],\n",
       "       [ 1.55777457e+00, -2.19517817e+00],\n",
       "       [-2.95007087e+00,  5.90468219e-01],\n",
       "       [ 2.29738341e-01,  4.66264449e-01],\n",
       "       [ 3.54364694e+00, -1.50081916e+00],\n",
       "       [-2.44492411e+00,  4.79696815e-02],\n",
       "       [ 1.91643610e+00, -1.92573507e+00],\n",
       "       [ 1.22984909e+00, -1.77376793e+00],\n",
       "       [ 4.67689592e+00,  1.24706737e+00],\n",
       "       [-2.64950607e+00,  4.24561061e-01],\n",
       "       [ 3.62574178e+00, -1.11400253e+00],\n",
       "       [-6.35770106e-01, -1.41705777e-01],\n",
       "       [-1.14361212e+00, -7.13091189e-01],\n",
       "       [ 2.63501530e+00, -2.47342837e+00],\n",
       "       [-1.80419474e-01,  2.79266164e-01],\n",
       "       [-5.63878133e-01, -3.08676644e-01],\n",
       "       [-2.40311950e+00,  5.24471545e-01],\n",
       "       [-2.89627463e+00,  5.49460288e-01],\n",
       "       [-5.84324552e-01, -2.55875498e-01],\n",
       "       [-2.55083868e+00,  2.51848907e-01],\n",
       "       [ 1.25856526e+00, -1.65476152e+00],\n",
       "       [-2.11163420e+00, -6.64969345e-02],\n",
       "       [-2.93491491e+00,  5.86141473e-01],\n",
       "       [ 8.77182595e-02,  5.44456967e-01],\n",
       "       [ 2.13253935e+00, -2.12001162e+00],\n",
       "       [ 2.63650819e+00, -2.62879815e+00],\n",
       "       [-2.62795618e+00,  2.80792586e-01],\n",
       "       [-8.02933841e-01,  1.81486642e-02],\n",
       "       [-2.76581970e+00,  4.19746955e-01],\n",
       "       [-2.09354822e-01, -9.29073455e-01],\n",
       "       [ 5.48228184e-01, -8.43059536e-01],\n",
       "       [ 3.23580445e+00,  4.80026464e-02],\n",
       "       [-2.58760503e+00,  3.87966721e-01],\n",
       "       [ 1.63940525e-01,  8.40924065e-01],\n",
       "       [ 2.07122782e+00, -1.01952360e+00],\n",
       "       [ 1.46971928e+00,  7.70742062e-01],\n",
       "       [ 1.56615168e+00, -2.55853898e+00],\n",
       "       [-2.76624987e+00,  4.72929346e-01],\n",
       "       [-2.95007087e+00,  5.90468219e-01],\n",
       "       [-2.86346975e+00,  5.03754364e-01],\n",
       "       [ 9.43335719e-01,  6.35128367e-01],\n",
       "       [ 2.76456295e+00, -1.83509172e-01],\n",
       "       [ 1.41989527e+00,  1.00330948e+00],\n",
       "       [-2.95007087e+00,  5.90468219e-01],\n",
       "       [-1.87937715e+00,  8.32063471e-03],\n",
       "       [ 1.44535043e+00, -7.33162182e-01],\n",
       "       [-2.70777666e-01,  3.86150231e-01],\n",
       "       [ 6.14998382e+00,  1.22284558e+00],\n",
       "       [ 2.80803982e-01, -1.04356144e+00],\n",
       "       [ 6.37813486e-01, -1.25983569e+00],\n",
       "       [-6.48910853e-01,  9.78298789e-01],\n",
       "       [ 2.84668142e+00, -3.33971535e-01],\n",
       "       [ 5.18831963e-01,  1.18061814e+00],\n",
       "       [ 1.19612678e+00, -1.17796754e+00],\n",
       "       [ 4.88345615e+00,  2.01520057e+00],\n",
       "       [-2.95007087e+00,  5.90468219e-01],\n",
       "       [-2.85296199e+00,  4.80331169e-01],\n",
       "       [ 2.43300032e+00, -2.94337609e-01],\n",
       "       [ 1.42349192e+00, -2.61118117e+00],\n",
       "       [ 3.02345248e+00,  1.56255504e+00],\n",
       "       [-2.95007087e+00,  5.90468219e-01],\n",
       "       [ 3.99208230e+00,  2.91616890e-01],\n",
       "       [ 2.94867882e-01, -1.04410998e+00],\n",
       "       [-2.84850830e+00,  4.93094317e-01],\n",
       "       [ 9.14488359e-02, -1.03039285e+00],\n",
       "       [-3.51683652e-01, -5.88809869e-01],\n",
       "       [-1.82429019e+00, -2.57085575e-01],\n",
       "       [-2.00233282e+00, -6.41740475e-02],\n",
       "       [-2.36273962e+00,  6.41581530e-01],\n",
       "       [ 4.53206366e-01,  2.40134646e-02],\n",
       "       [ 6.03880340e-01, -1.77886717e+00],\n",
       "       [ 1.10381793e+00, -4.61191041e-01],\n",
       "       [ 1.02860954e+00, -1.55702708e+00],\n",
       "       [-2.63008777e+00,  2.70619495e-01],\n",
       "       [-2.93977008e+00,  5.86661781e-01],\n",
       "       [-1.02523661e+00,  5.82771837e-01],\n",
       "       [-2.95007087e+00,  5.90468219e-01],\n",
       "       [-1.39945136e+00, -4.17873946e-01],\n",
       "       [ 2.34094190e-01, -7.61141819e-01],\n",
       "       [-2.95007087e+00,  5.90468219e-01],\n",
       "       [-2.95007087e+00,  5.90468219e-01],\n",
       "       [-2.95007087e+00,  5.90468219e-01],\n",
       "       [-9.31522777e-01, -4.80591212e-01],\n",
       "       [-2.95007087e+00,  5.90468219e-01],\n",
       "       [ 9.53123749e-02, -8.58541362e-01],\n",
       "       [ 2.60420084e+00, -3.29594621e+00],\n",
       "       [ 4.31755879e+00,  1.12042452e+00],\n",
       "       [ 1.49125092e+00, -9.70380393e-01],\n",
       "       [ 7.22595775e-02, -7.87016135e-02],\n",
       "       [-1.09490636e-01, -1.49397938e+00],\n",
       "       [-6.06655753e-01, -6.23033117e-01],\n",
       "       [-2.86426311e+00,  5.58408596e-01],\n",
       "       [ 1.67280227e+00, -1.97789388e+00],\n",
       "       [-1.87200542e+00,  3.66802799e-01],\n",
       "       [-2.83107897e+00,  5.06934011e-01],\n",
       "       [ 6.34895718e+00,  2.40579105e+00],\n",
       "       [-2.61494643e+00,  3.32816130e-01],\n",
       "       [ 3.51046188e+00,  6.13015951e-01],\n",
       "       [ 2.49179218e+00,  1.00996857e+00],\n",
       "       [-2.88859227e+00,  5.50304266e-01],\n",
       "       [-2.84007993e+00,  5.38194947e-01],\n",
       "       [ 1.51646935e+00, -2.62238622e+00],\n",
       "       [-2.73829643e+00,  5.09361134e-01],\n",
       "       [ 3.81212582e+00, -4.60585929e-01],\n",
       "       [ 6.64475883e-01, -1.69649621e+00],\n",
       "       [ 2.91046456e+00, -1.99308090e+00],\n",
       "       [-2.92002666e+00,  5.98142819e-01],\n",
       "       [-2.93972208e+00,  5.86481337e-01],\n",
       "       [-2.86492682e+00,  5.28118286e-01],\n",
       "       [ 4.71705804e+00,  1.04948663e+00],\n",
       "       [-1.88815096e+00, -1.11014949e-01],\n",
       "       [ 5.09806444e-01, -4.71587173e-01],\n",
       "       [-7.89598806e-01, -7.87849320e-01],\n",
       "       [ 4.51472751e-01, -9.02221752e-01],\n",
       "       [-2.95007087e+00,  5.90468219e-01],\n",
       "       [-9.16799839e-01, -3.45756699e-01],\n",
       "       [ 2.21441121e+00, -9.16174055e-01],\n",
       "       [-2.46356864e+00,  3.36262680e-01],\n",
       "       [-2.69297953e+00,  4.97358759e-01],\n",
       "       [ 1.81541534e-03,  5.69011765e-01],\n",
       "       [-2.40850731e+00,  4.53545133e-01],\n",
       "       [ 3.29543028e+00, -3.26641192e+00],\n",
       "       [ 5.79592188e+00,  9.86431980e-01],\n",
       "       [-2.95007087e+00,  5.90468219e-01],\n",
       "       [-2.26916994e+00,  8.00419287e-02],\n",
       "       [-2.95007087e+00,  5.90468219e-01],\n",
       "       [-2.95007087e+00,  5.90468219e-01],\n",
       "       [ 1.38833813e+00, -1.31995874e+00],\n",
       "       [-2.95007087e+00,  5.90468219e-01],\n",
       "       [-2.92187658e+00,  5.74607372e-01],\n",
       "       [ 6.16773150e-01, -1.67857179e+00],\n",
       "       [ 2.73956459e+00, -2.79634742e+00],\n",
       "       [-2.95007087e+00,  5.90468219e-01],\n",
       "       [ 2.61830763e+00, -2.44916973e-01],\n",
       "       [-2.92517511e+00,  5.77202591e-01],\n",
       "       [-1.74699006e+00,  7.82927673e-01],\n",
       "       [ 4.52288866e-01, -1.43030474e+00],\n",
       "       [ 7.92188316e+00,  3.01853331e+00],\n",
       "       [ 4.97915790e+00,  1.66483040e+00],\n",
       "       [-1.05277242e+00, -5.99801383e-01],\n",
       "       [ 2.09340493e+00,  1.81624307e+00],\n",
       "       [ 4.95754981e+00, -8.68479192e-01],\n",
       "       [-4.38607433e-01,  1.11160977e-01],\n",
       "       [ 1.70294135e-01,  2.72478584e-01],\n",
       "       [ 8.46553232e-03, -1.07391915e+00],\n",
       "       [-2.16123915e+00,  7.29260481e-01],\n",
       "       [-1.82995507e+00, -1.43457583e-01],\n",
       "       [-1.90970193e+00,  1.45595226e-01],\n",
       "       [-2.93279268e+00,  5.87365552e-01],\n",
       "       [-1.26898920e+00,  3.75021290e-01],\n",
       "       [-2.95007087e+00,  5.90468219e-01],\n",
       "       [-2.48284050e+00,  2.91595513e-01],\n",
       "       [ 3.36982203e+00,  1.57391581e+00],\n",
       "       [-2.89855068e+00,  5.74151468e-01],\n",
       "       [ 1.72903022e+00, -6.79511803e-01],\n",
       "       [ 4.21786434e+00,  1.43536085e+00],\n",
       "       [ 7.27991395e+00,  3.22160424e+00],\n",
       "       [ 1.85887886e+00, -1.34472024e+00],\n",
       "       [ 2.08363310e+00, -3.32351476e+00],\n",
       "       [ 3.14545153e+00,  2.11570425e+00],\n",
       "       [-1.52528107e+00, -9.01074407e-02],\n",
       "       [ 1.27924119e+00,  5.88058917e-01],\n",
       "       [-9.75970804e-01, -7.49037285e-01],\n",
       "       [-1.28506200e+00, -9.96620903e-02],\n",
       "       [-2.86147863e+00,  5.36691715e-01],\n",
       "       [-2.93773635e+00,  5.86271686e-01],\n",
       "       [ 1.75124563e+00, -6.84589775e-01],\n",
       "       [-2.95007087e+00,  5.90468219e-01],\n",
       "       [-2.91973464e+00,  5.77603753e-01],\n",
       "       [ 5.95134077e-01, -1.48407621e+00],\n",
       "       [ 1.52790631e+00, -8.55293738e-01],\n",
       "       [ 4.72199180e+00, -7.55343956e-01],\n",
       "       [-2.36374275e+00,  1.75630893e-01],\n",
       "       [-2.22988540e+00,  6.43469015e-01],\n",
       "       [ 2.08513996e+00, -2.39552726e+00],\n",
       "       [ 5.48622073e+00, -4.80249296e-01],\n",
       "       [-2.65564210e+00,  3.69791838e-01],\n",
       "       [-4.69739423e-01,  1.76195937e-01],\n",
       "       [-1.35789829e+00, -6.53772753e-01],\n",
       "       [ 1.13156371e+00,  1.49460390e+00],\n",
       "       [-2.63175415e+00,  5.31404406e-01],\n",
       "       [ 8.16665507e-01, -1.79553869e+00],\n",
       "       [ 1.75072455e+00, -1.39073220e+00],\n",
       "       [-8.63692396e-01,  8.67012415e-02],\n",
       "       [-1.20811848e+00,  4.33127312e-01],\n",
       "       [-2.13432605e-02, -4.60014091e-01],\n",
       "       [-2.27124775e+00, -4.90242073e-02],\n",
       "       [ 8.92248934e+00,  3.81682764e+00],\n",
       "       [-2.06433495e+00,  2.24631370e-01],\n",
       "       [-3.35152535e-01, -5.69585809e-01],\n",
       "       [-2.56041189e+00,  4.38757145e-01],\n",
       "       [-1.86685960e+00, -2.11467140e-01],\n",
       "       [-1.92365280e+00, -9.67447301e-03],\n",
       "       [ 5.78700706e+00,  1.98461387e+00],\n",
       "       [ 6.80783559e+00,  2.92607317e+00],\n",
       "       [ 2.74758021e-01, -7.21585146e-01],\n",
       "       [ 5.96163430e+00,  3.72451516e-01],\n",
       "       [-2.14094706e+00,  2.70685043e-01],\n",
       "       [-1.49967382e+00,  5.83346944e-01],\n",
       "       [-7.37762961e-01, -6.50837980e-01],\n",
       "       [-5.15121868e-01,  1.65048646e-01],\n",
       "       [ 2.39331822e+00,  5.01040394e-01],\n",
       "       [ 2.14911797e+00, -3.09539628e+00],\n",
       "       [-2.43899695e+00,  1.24236681e-01],\n",
       "       [-1.08724942e-01, -1.47497574e-01],\n",
       "       [ 1.37522254e+00,  1.33573696e+00],\n",
       "       [ 3.79110012e+00,  1.81417181e+00],\n",
       "       [ 5.04707149e+00,  1.88955835e+00],\n",
       "       [ 3.58960410e+00, -2.44675712e-01],\n",
       "       [ 1.65275627e+00, -9.41388297e-01],\n",
       "       [ 5.84636842e+00,  2.59115682e+00],\n",
       "       [ 6.37654226e-01, -9.64338064e-01],\n",
       "       [-2.85128173e+00,  4.82266914e-01],\n",
       "       [-2.95007087e+00,  5.90468219e-01],\n",
       "       [-1.59987511e+00, -1.46558850e-01],\n",
       "       [-2.95007087e+00,  5.90468219e-01],\n",
       "       [-6.61747002e-02, -6.67053049e-01],\n",
       "       [ 3.79614688e+00,  2.45521893e+00],\n",
       "       [ 5.50291809e+00,  2.29950572e+00],\n",
       "       [ 4.70251522e+00,  2.08819653e+00],\n",
       "       [ 2.43549278e+00, -1.13622360e+00],\n",
       "       [ 2.55068811e+00, -2.02315161e+00],\n",
       "       [-2.71508780e+00,  4.61662985e-01],\n",
       "       [-8.69655727e-01,  1.01625280e+00],\n",
       "       [-2.95007087e+00,  5.90468219e-01],\n",
       "       [-2.87654344e+00,  5.23514828e-01],\n",
       "       [ 3.67990789e+00, -1.43568832e+00],\n",
       "       [-1.42077132e+00,  3.43896736e-01],\n",
       "       [-2.58343595e+00,  5.81457246e-01],\n",
       "       [-2.48443471e+00,  6.49558820e-01],\n",
       "       [ 1.35728819e+00,  1.50188824e+00],\n",
       "       [-2.49345174e+00,  1.69015007e-01],\n",
       "       [-2.72459418e+00,  4.61352984e-01],\n",
       "       [ 1.07120501e+01,  3.86064470e+00],\n",
       "       [-8.58124682e-01,  6.33325262e-01],\n",
       "       [ 4.83923832e-01, -2.07663583e+00],\n",
       "       [-1.75590358e+00,  4.99734996e-01],\n",
       "       [ 2.06345453e+00,  1.80536320e+00],\n",
       "       [-1.33174997e+00, -3.97495993e-01],\n",
       "       [ 1.04545045e+00, -1.48713783e+00],\n",
       "       [-2.93891086e+00,  5.85068522e-01],\n",
       "       [ 2.76829650e+00, -1.69845850e+00],\n",
       "       [-1.44354680e+00,  8.50378163e-01],\n",
       "       [ 4.14797202e+00, -1.97830441e-01],\n",
       "       [ 6.22486099e+00,  1.90745230e+00],\n",
       "       [ 2.18888403e+00,  1.15494575e+00],\n",
       "       [-2.95007087e+00,  5.90468219e-01],\n",
       "       [-1.07794835e+00, -4.03190012e-01],\n",
       "       [-2.91930839e+00,  5.63778234e-01],\n",
       "       [ 2.00728002e+00,  6.23102001e-01],\n",
       "       [ 1.52331144e+00, -4.84999604e-01],\n",
       "       [-2.93149948e+00,  5.84731001e-01],\n",
       "       [ 1.04689051e+00, -1.85150304e+00],\n",
       "       [-2.94264769e+00,  5.88477606e-01],\n",
       "       [ 1.51994135e+00,  4.67582696e-01],\n",
       "       [-1.75025264e+00,  6.83575368e-01],\n",
       "       [ 4.16768690e+00,  1.89079689e+00],\n",
       "       [-3.14138193e-01, -1.21183227e+00],\n",
       "       [-2.39199960e+00,  2.10651928e-01],\n",
       "       [-1.60695763e+00,  8.11672440e-01],\n",
       "       [-2.93980946e+00,  5.90644731e-01],\n",
       "       [-6.69301234e-01, -6.94726541e-01],\n",
       "       [-1.22625402e+00, -4.46074325e-01],\n",
       "       [ 3.14405159e-01, -1.66652211e+00],\n",
       "       [-2.95007087e+00,  5.90468219e-01],\n",
       "       [-5.02040062e-01, -1.17515441e+00],\n",
       "       [ 8.03923142e-01, -2.38204005e-02],\n",
       "       [-4.21078597e-01, -6.95019964e-01],\n",
       "       [-2.24055252e-01, -1.04312173e+00],\n",
       "       [-1.72337620e+00, -3.14880182e-01],\n",
       "       [ 1.21496244e+00,  2.72752937e-01],\n",
       "       [ 1.71287119e+00, -1.02878060e+00],\n",
       "       [ 6.27087375e-01,  7.43141214e-01],\n",
       "       [ 6.22939643e-01, -2.10853804e+00],\n",
       "       [-2.95007087e+00,  5.90468219e-01],\n",
       "       [-9.04214043e-01, -7.44626890e-01],\n",
       "       [ 1.40921530e-01,  2.93504317e-01],\n",
       "       [-2.45195228e+00,  1.79789683e-01],\n",
       "       [ 2.22797658e+00, -4.75446615e-01],\n",
       "       [-1.01543438e+00, -5.56908290e-01],\n",
       "       [-5.20328076e-01,  4.06497654e-01],\n",
       "       [-8.39643742e-01, -4.08336102e-01],\n",
       "       [-2.95007087e+00,  5.90468219e-01],\n",
       "       [ 1.52585167e+00, -2.85242314e+00],\n",
       "       [-2.91244996e+00,  5.73593189e-01],\n",
       "       [ 4.86038998e+00,  1.26434934e+00],\n",
       "       [-2.77364990e+00,  5.36794474e-01],\n",
       "       [ 4.31994874e+00,  1.56719518e+00],\n",
       "       [-1.91008476e+00, -2.75741604e-01],\n",
       "       [-1.39447417e+00, -4.65446330e-01],\n",
       "       [-1.86350967e-01, -1.22462610e+00],\n",
       "       [-2.86497099e+00,  5.26383972e-01],\n",
       "       [ 6.13791239e+00, -4.34993768e-01],\n",
       "       [ 2.41004073e+00, -2.62094915e+00],\n",
       "       [ 1.61294549e+00, -1.50458890e+00],\n",
       "       [-2.95007087e+00,  5.90468219e-01],\n",
       "       [ 1.90086248e+00, -1.38813070e+00],\n",
       "       [-2.84242872e+00,  5.23676901e-01],\n",
       "       [-1.91828782e+00, -2.79445000e-01],\n",
       "       [-7.12209602e-01, -2.39224356e-01],\n",
       "       [ 8.13233177e-01,  2.50799026e-01],\n",
       "       [-1.29999739e+00,  5.52558655e-01],\n",
       "       [ 8.85169416e-02, -7.86926047e-01],\n",
       "       [ 1.22548112e+00, -1.78408968e+00],\n",
       "       [-2.57803788e+00,  3.05473118e-01],\n",
       "       [ 3.36353042e+00, -4.40639120e-01],\n",
       "       [-8.77879880e-01,  3.18324552e-01],\n",
       "       [ 7.48600430e-01,  2.68809589e-01],\n",
       "       [-2.72807599e+00,  4.03492429e-01],\n",
       "       [-2.75070064e+00,  4.63028339e-01],\n",
       "       [-1.49862105e+00,  3.91971994e-01],\n",
       "       [-7.78518837e-01, -3.53878321e-01],\n",
       "       [-2.95007087e+00,  5.90468219e-01],\n",
       "       [-2.33902460e+00,  6.40872966e-01],\n",
       "       [-2.94264769e+00,  5.88477606e-01],\n",
       "       [-2.95007087e+00,  5.90468219e-01],\n",
       "       [-7.73727474e-01, -8.57133191e-01],\n",
       "       [ 6.65874845e-01, -2.02936039e+00],\n",
       "       [-1.42028422e+00,  3.96181173e-01],\n",
       "       [ 2.31614489e+00,  2.03628683e+00],\n",
       "       [-1.04025233e+00,  1.09160180e-01],\n",
       "       [ 1.07371704e+01,  4.44953186e+00],\n",
       "       [-1.89323028e+00, -2.16353857e-01],\n",
       "       [ 8.74673664e+00,  2.82020651e+00],\n",
       "       [ 2.70356682e+00, -3.25600809e+00],\n",
       "       [-2.24044285e+00,  8.07216331e-02],\n",
       "       [-1.77612982e+00, -2.12705513e-01],\n",
       "       [-2.95007087e+00,  5.90468219e-01],\n",
       "       [ 7.23422807e-01,  7.20354413e-01],\n",
       "       [-6.10536929e-01, -1.97352090e-01],\n",
       "       [-8.50816177e-01, -8.68256435e-01],\n",
       "       [-2.95007087e+00,  5.90468219e-01],\n",
       "       [ 2.94955757e+00, -1.98845233e+00],\n",
       "       [-2.95007087e+00,  5.90468219e-01],\n",
       "       [ 6.94397951e-01, -2.06811251e-01],\n",
       "       [ 1.47063731e+00, -5.23787311e-01],\n",
       "       [-3.21677495e-01,  3.08112481e-01],\n",
       "       [ 1.76980687e+00, -5.63030120e-01],\n",
       "       [ 8.83404820e-01, -1.58194759e+00],\n",
       "       [ 4.98735680e+00, -4.50236746e-01],\n",
       "       [-2.95007087e+00,  5.90468219e-01],\n",
       "       [-2.95007087e+00,  5.90468219e-01],\n",
       "       [-2.14500663e+00,  4.84549195e-01],\n",
       "       [ 1.26704838e+00, -1.45048328e+00],\n",
       "       [-8.03759914e-01, -6.01109230e-02],\n",
       "       [-2.04088952e+00,  1.91254988e-01],\n",
       "       [ 3.66350352e-01, -8.95739283e-01],\n",
       "       [-2.60519237e+00,  2.98983692e-01],\n",
       "       [ 1.84896376e+00, -1.59692018e+00],\n",
       "       [-1.14524240e+00, -6.06312522e-01],\n",
       "       [-2.92974844e+00,  5.87439503e-01],\n",
       "       [-2.95007087e+00,  5.90468219e-01],\n",
       "       [-8.93823997e-01, -5.86912257e-01],\n",
       "       [-2.95007087e+00,  5.90468219e-01],\n",
       "       [ 3.85672023e+00,  1.03276079e+00],\n",
       "       [ 2.40188259e+00,  1.81641441e+00],\n",
       "       [-2.95007087e+00,  5.90468219e-01],\n",
       "       [ 2.07695533e+00, -2.90824226e+00],\n",
       "       [-1.78956044e+00,  5.72125204e-01],\n",
       "       [-2.04168943e+00, -5.62793261e-02],\n",
       "       [ 3.78996508e+00,  2.21563341e+00],\n",
       "       [ 3.43713002e+00,  5.78849254e-01],\n",
       "       [-2.95007087e+00,  5.90468219e-01],\n",
       "       [-1.65669173e+00,  4.45378651e-01],\n",
       "       [ 6.81442050e-01,  8.31015349e-01],\n",
       "       [-7.62314747e-01,  6.02087976e-01],\n",
       "       [ 5.03785943e+00, -1.86611287e-01],\n",
       "       [ 3.86427541e+00, -7.36920546e-01],\n",
       "       [ 2.77808262e+00, -7.04252528e-02],\n",
       "       [ 1.99490574e+00, -2.84539798e+00],\n",
       "       [ 1.02795967e+00,  1.03576896e-01],\n",
       "       [ 6.44161486e-01,  1.23237542e+00],\n",
       "       [-2.16155101e+00,  3.30668930e-02],\n",
       "       [ 1.52720187e+00, -1.16740855e+00],\n",
       "       [-2.84134024e+00,  5.06838199e-01],\n",
       "       [-2.35200525e+00,  2.35127712e-01],\n",
       "       [-2.24659755e+00,  9.63041300e-02],\n",
       "       [ 1.32952174e+00, -1.21791748e+00],\n",
       "       [-5.59816667e-01, -3.48688346e-01],\n",
       "       [-1.96820420e+00,  6.18790664e-01],\n",
       "       [ 2.76946840e+00, -1.41479797e+00],\n",
       "       [-2.93477203e+00,  5.81102715e-01],\n",
       "       [-2.49615774e+00,  5.27725223e-01],\n",
       "       [-2.92499180e+00,  5.84495937e-01],\n",
       "       [ 4.51051667e+00,  1.05716664e+00],\n",
       "       [-5.15138481e-01,  7.88806230e-01],\n",
       "       [-2.03679498e-01, -1.49053768e-01],\n",
       "       [ 1.85727627e+00, -1.29498008e+00],\n",
       "       [ 2.88369715e+00, -7.63734319e-01],\n",
       "       [-2.68692928e+00,  3.50179429e-01],\n",
       "       [ 2.33355854e+00, -3.13787289e+00],\n",
       "       [-1.96663002e+00,  4.69243202e-01],\n",
       "       [-8.17999711e-01,  1.80940456e-01],\n",
       "       [ 2.61543522e-01, -1.03286940e+00]])"
      ]
     },
     "execution_count": 72,
     "metadata": {},
     "output_type": "execute_result"
    }
   ],
   "source": [
    "pca.transform(df[newdf])"
   ]
  },
  {
   "cell_type": "code",
   "execution_count": 73,
   "metadata": {},
   "outputs": [],
   "source": [
    "scores_pca = pca.transform(df[newdf])"
   ]
  },
  {
   "cell_type": "code",
   "execution_count": 75,
   "metadata": {},
   "outputs": [],
   "source": [
    "from sklearn.cluster import KMeans\n",
    "kmeans_pca = KMeans(n_clusters=4 , init='k-means++', random_state=0)"
   ]
  },
  {
   "cell_type": "code",
   "execution_count": 76,
   "metadata": {},
   "outputs": [
    {
     "data": {
      "text/plain": [
       "KMeans(algorithm='auto', copy_x=True, init='k-means++', max_iter=300,\n",
       "    n_clusters=4, n_init=10, n_jobs=1, precompute_distances='auto',\n",
       "    random_state=0, tol=0.0001, verbose=0)"
      ]
     },
     "execution_count": 76,
     "metadata": {},
     "output_type": "execute_result"
    }
   ],
   "source": [
    "kmeans_pca.fit(scores_pca)"
   ]
  },
  {
   "cell_type": "code",
   "execution_count": 77,
   "metadata": {},
   "outputs": [
    {
     "data": {
      "text/html": [
       "<div>\n",
       "<style scoped>\n",
       "    .dataframe tbody tr th:only-of-type {\n",
       "        vertical-align: middle;\n",
       "    }\n",
       "\n",
       "    .dataframe tbody tr th {\n",
       "        vertical-align: top;\n",
       "    }\n",
       "\n",
       "    .dataframe thead th {\n",
       "        text-align: right;\n",
       "    }\n",
       "</style>\n",
       "<table border=\"1\" class=\"dataframe\">\n",
       "  <thead>\n",
       "    <tr style=\"text-align: right;\">\n",
       "      <th></th>\n",
       "      <th>Player_Name</th>\n",
       "      <th>Club</th>\n",
       "      <th>Position</th>\n",
       "      <th>Goals_Scored</th>\n",
       "      <th>Assists</th>\n",
       "      <th>Total_Points</th>\n",
       "      <th>Minutes</th>\n",
       "      <th>Goals_Conceded</th>\n",
       "      <th>Creativity</th>\n",
       "      <th>Influence</th>\n",
       "      <th>Threat</th>\n",
       "      <th>Bonus</th>\n",
       "      <th>Clean_Sheets</th>\n",
       "    </tr>\n",
       "  </thead>\n",
       "  <tbody>\n",
       "    <tr>\n",
       "      <th>0</th>\n",
       "      <td>Alex Runnarsson</td>\n",
       "      <td>Arsenal</td>\n",
       "      <td>Goalkeeper</td>\n",
       "      <td>-0.552608</td>\n",
       "      <td>-0.647555</td>\n",
       "      <td>-1.122506</td>\n",
       "      <td>-1.232383</td>\n",
       "      <td>-1.202653</td>\n",
       "      <td>-0.780115</td>\n",
       "      <td>-1.039325</td>\n",
       "      <td>-0.707638</td>\n",
       "      <td>-0.755435</td>\n",
       "      <td>-1.081123</td>\n",
       "    </tr>\n",
       "  </tbody>\n",
       "</table>\n",
       "</div>"
      ],
      "text/plain": [
       "       Player_Name     Club    Position  Goals_Scored   Assists  Total_Points  \\\n",
       "0  Alex Runnarsson  Arsenal  Goalkeeper     -0.552608 -0.647555     -1.122506   \n",
       "\n",
       "    Minutes  Goals_Conceded  Creativity  Influence    Threat     Bonus  \\\n",
       "0 -1.232383       -1.202653   -0.780115  -1.039325 -0.707638 -0.755435   \n",
       "\n",
       "   Clean_Sheets  \n",
       "0     -1.081123  "
      ]
     },
     "execution_count": 77,
     "metadata": {},
     "output_type": "execute_result"
    }
   ],
   "source": [
    "df.head(1)"
   ]
  },
  {
   "cell_type": "code",
   "execution_count": 78,
   "metadata": {},
   "outputs": [],
   "source": [
    "df_original_pca = pd.concat([df.reset_index(drop= True),pd.DataFrame(scores_pca)],axis=1)\n",
    "df_original_pca.columns.values[-2:]= ['PCA1','PCA2']"
   ]
  },
  {
   "cell_type": "code",
   "execution_count": 79,
   "metadata": {},
   "outputs": [
    {
     "data": {
      "text/html": [
       "<div>\n",
       "<style scoped>\n",
       "    .dataframe tbody tr th:only-of-type {\n",
       "        vertical-align: middle;\n",
       "    }\n",
       "\n",
       "    .dataframe tbody tr th {\n",
       "        vertical-align: top;\n",
       "    }\n",
       "\n",
       "    .dataframe thead th {\n",
       "        text-align: right;\n",
       "    }\n",
       "</style>\n",
       "<table border=\"1\" class=\"dataframe\">\n",
       "  <thead>\n",
       "    <tr style=\"text-align: right;\">\n",
       "      <th></th>\n",
       "      <th>Player_Name</th>\n",
       "      <th>Club</th>\n",
       "      <th>Position</th>\n",
       "      <th>Goals_Scored</th>\n",
       "      <th>Assists</th>\n",
       "      <th>Total_Points</th>\n",
       "      <th>Minutes</th>\n",
       "      <th>Goals_Conceded</th>\n",
       "      <th>Creativity</th>\n",
       "      <th>Influence</th>\n",
       "      <th>Threat</th>\n",
       "      <th>Bonus</th>\n",
       "      <th>Clean_Sheets</th>\n",
       "      <th>PCA1</th>\n",
       "      <th>PCA2</th>\n",
       "    </tr>\n",
       "  </thead>\n",
       "  <tbody>\n",
       "    <tr>\n",
       "      <th>0</th>\n",
       "      <td>Alex Runnarsson</td>\n",
       "      <td>Arsenal</td>\n",
       "      <td>Goalkeeper</td>\n",
       "      <td>-0.552608</td>\n",
       "      <td>-0.647555</td>\n",
       "      <td>-1.122506</td>\n",
       "      <td>-1.232383</td>\n",
       "      <td>-1.202653</td>\n",
       "      <td>-0.780115</td>\n",
       "      <td>-1.039325</td>\n",
       "      <td>-0.707638</td>\n",
       "      <td>-0.755435</td>\n",
       "      <td>-1.081123</td>\n",
       "      <td>-2.916600</td>\n",
       "      <td>0.569939</td>\n",
       "    </tr>\n",
       "    <tr>\n",
       "      <th>1</th>\n",
       "      <td>Alexandre Lacazette</td>\n",
       "      <td>Arsenal</td>\n",
       "      <td>Forward</td>\n",
       "      <td>3.213401</td>\n",
       "      <td>0.461208</td>\n",
       "      <td>1.375560</td>\n",
       "      <td>0.539871</td>\n",
       "      <td>0.115663</td>\n",
       "      <td>0.443542</td>\n",
       "      <td>1.150596</td>\n",
       "      <td>1.799393</td>\n",
       "      <td>2.606688</td>\n",
       "      <td>0.513521</td>\n",
       "      <td>3.815468</td>\n",
       "      <td>1.999554</td>\n",
       "    </tr>\n",
       "    <tr>\n",
       "      <th>2</th>\n",
       "      <td>Bernd Leno</td>\n",
       "      <td>Arsenal</td>\n",
       "      <td>Goalkeeper</td>\n",
       "      <td>-0.552608</td>\n",
       "      <td>-0.647555</td>\n",
       "      <td>1.414592</td>\n",
       "      <td>1.672585</td>\n",
       "      <td>1.120094</td>\n",
       "      <td>-0.780115</td>\n",
       "      <td>1.523682</td>\n",
       "      <td>-0.701346</td>\n",
       "      <td>1.005677</td>\n",
       "      <td>1.424747</td>\n",
       "      <td>1.943396</td>\n",
       "      <td>-2.757446</td>\n",
       "    </tr>\n",
       "    <tr>\n",
       "      <th>3</th>\n",
       "      <td>Bukayo Saka</td>\n",
       "      <td>Arsenal</td>\n",
       "      <td>Midfielder</td>\n",
       "      <td>0.895857</td>\n",
       "      <td>1.200384</td>\n",
       "      <td>1.082818</td>\n",
       "      <td>1.134662</td>\n",
       "      <td>0.743432</td>\n",
       "      <td>1.809706</td>\n",
       "      <td>0.741621</td>\n",
       "      <td>2.387618</td>\n",
       "      <td>0.525374</td>\n",
       "      <td>0.741328</td>\n",
       "      <td>3.502427</td>\n",
       "      <td>1.043441</td>\n",
       "    </tr>\n",
       "    <tr>\n",
       "      <th>4</th>\n",
       "      <td>Calum Chambers</td>\n",
       "      <td>Arsenal</td>\n",
       "      <td>Defender</td>\n",
       "      <td>-0.552608</td>\n",
       "      <td>0.461208</td>\n",
       "      <td>-0.439441</td>\n",
       "      <td>-0.546229</td>\n",
       "      <td>-0.574884</td>\n",
       "      <td>-0.105790</td>\n",
       "      <td>-0.459134</td>\n",
       "      <td>-0.465428</td>\n",
       "      <td>-0.275132</td>\n",
       "      <td>-0.625510</td>\n",
       "      <td>-1.153639</td>\n",
       "      <td>0.422189</td>\n",
       "    </tr>\n",
       "    <tr>\n",
       "      <th>...</th>\n",
       "      <td>...</td>\n",
       "      <td>...</td>\n",
       "      <td>...</td>\n",
       "      <td>...</td>\n",
       "      <td>...</td>\n",
       "      <td>...</td>\n",
       "      <td>...</td>\n",
       "      <td>...</td>\n",
       "      <td>...</td>\n",
       "      <td>...</td>\n",
       "      <td>...</td>\n",
       "      <td>...</td>\n",
       "      <td>...</td>\n",
       "      <td>...</td>\n",
       "      <td>...</td>\n",
       "    </tr>\n",
       "    <tr>\n",
       "      <th>471</th>\n",
       "      <td>Ruben Vinagre</td>\n",
       "      <td>Wolverhampton Wanderers</td>\n",
       "      <td>Defender</td>\n",
       "      <td>-0.552608</td>\n",
       "      <td>-0.647555</td>\n",
       "      <td>-1.122506</td>\n",
       "      <td>-1.086016</td>\n",
       "      <td>-0.763215</td>\n",
       "      <td>-0.679404</td>\n",
       "      <td>-0.984745</td>\n",
       "      <td>-0.707638</td>\n",
       "      <td>-0.755435</td>\n",
       "      <td>-1.081123</td>\n",
       "      <td>-2.686929</td>\n",
       "      <td>0.350179</td>\n",
       "    </tr>\n",
       "    <tr>\n",
       "      <th>472</th>\n",
       "      <td>Rui Pedro Patricio</td>\n",
       "      <td>Wolverhampton Wanderers</td>\n",
       "      <td>Goalkeeper</td>\n",
       "      <td>-0.552608</td>\n",
       "      <td>-0.647555</td>\n",
       "      <td>1.434108</td>\n",
       "      <td>1.858107</td>\n",
       "      <td>1.998971</td>\n",
       "      <td>-0.780115</td>\n",
       "      <td>1.753217</td>\n",
       "      <td>-0.707638</td>\n",
       "      <td>1.165778</td>\n",
       "      <td>1.196940</td>\n",
       "      <td>2.333559</td>\n",
       "      <td>-3.137873</td>\n",
       "    </tr>\n",
       "    <tr>\n",
       "      <th>473</th>\n",
       "      <td>Vitor Ferreira</td>\n",
       "      <td>Wolverhampton Wanderers</td>\n",
       "      <td>Midfielder</td>\n",
       "      <td>-0.552608</td>\n",
       "      <td>-0.277967</td>\n",
       "      <td>-0.634602</td>\n",
       "      <td>-0.771839</td>\n",
       "      <td>-0.700438</td>\n",
       "      <td>-0.067576</td>\n",
       "      <td>-0.802314</td>\n",
       "      <td>-0.481156</td>\n",
       "      <td>-0.755435</td>\n",
       "      <td>-1.081123</td>\n",
       "      <td>-1.966630</td>\n",
       "      <td>0.469243</td>\n",
       "    </tr>\n",
       "    <tr>\n",
       "      <th>474</th>\n",
       "      <td>Willian Jose</td>\n",
       "      <td>Wolverhampton Wanderers</td>\n",
       "      <td>Forward</td>\n",
       "      <td>-0.262915</td>\n",
       "      <td>-0.277967</td>\n",
       "      <td>-0.361377</td>\n",
       "      <td>-0.215271</td>\n",
       "      <td>-0.386553</td>\n",
       "      <td>-0.119723</td>\n",
       "      <td>-0.766426</td>\n",
       "      <td>0.097632</td>\n",
       "      <td>-0.275132</td>\n",
       "      <td>0.057909</td>\n",
       "      <td>-0.818000</td>\n",
       "      <td>0.180940</td>\n",
       "    </tr>\n",
       "    <tr>\n",
       "      <th>475</th>\n",
       "      <td>Willy Boly</td>\n",
       "      <td>Wolverhampton Wanderers</td>\n",
       "      <td>Defender</td>\n",
       "      <td>-0.262915</td>\n",
       "      <td>-0.277967</td>\n",
       "      <td>0.185075</td>\n",
       "      <td>0.505377</td>\n",
       "      <td>0.617878</td>\n",
       "      <td>-0.596606</td>\n",
       "      <td>0.446292</td>\n",
       "      <td>-0.135141</td>\n",
       "      <td>-0.115031</td>\n",
       "      <td>0.285715</td>\n",
       "      <td>0.261544</td>\n",
       "      <td>-1.032869</td>\n",
       "    </tr>\n",
       "  </tbody>\n",
       "</table>\n",
       "<p>476 rows × 15 columns</p>\n",
       "</div>"
      ],
      "text/plain": [
       "             Player_Name                     Club    Position  Goals_Scored  \\\n",
       "0        Alex Runnarsson                  Arsenal  Goalkeeper     -0.552608   \n",
       "1    Alexandre Lacazette                  Arsenal     Forward      3.213401   \n",
       "2             Bernd Leno                  Arsenal  Goalkeeper     -0.552608   \n",
       "3            Bukayo Saka                  Arsenal  Midfielder      0.895857   \n",
       "4         Calum Chambers                  Arsenal    Defender     -0.552608   \n",
       "..                   ...                      ...         ...           ...   \n",
       "471        Ruben Vinagre  Wolverhampton Wanderers    Defender     -0.552608   \n",
       "472   Rui Pedro Patricio  Wolverhampton Wanderers  Goalkeeper     -0.552608   \n",
       "473       Vitor Ferreira  Wolverhampton Wanderers  Midfielder     -0.552608   \n",
       "474         Willian Jose  Wolverhampton Wanderers     Forward     -0.262915   \n",
       "475           Willy Boly  Wolverhampton Wanderers    Defender     -0.262915   \n",
       "\n",
       "      Assists  Total_Points   Minutes  Goals_Conceded  Creativity  Influence  \\\n",
       "0   -0.647555     -1.122506 -1.232383       -1.202653   -0.780115  -1.039325   \n",
       "1    0.461208      1.375560  0.539871        0.115663    0.443542   1.150596   \n",
       "2   -0.647555      1.414592  1.672585        1.120094   -0.780115   1.523682   \n",
       "3    1.200384      1.082818  1.134662        0.743432    1.809706   0.741621   \n",
       "4    0.461208     -0.439441 -0.546229       -0.574884   -0.105790  -0.459134   \n",
       "..        ...           ...       ...             ...         ...        ...   \n",
       "471 -0.647555     -1.122506 -1.086016       -0.763215   -0.679404  -0.984745   \n",
       "472 -0.647555      1.434108  1.858107        1.998971   -0.780115   1.753217   \n",
       "473 -0.277967     -0.634602 -0.771839       -0.700438   -0.067576  -0.802314   \n",
       "474 -0.277967     -0.361377 -0.215271       -0.386553   -0.119723  -0.766426   \n",
       "475 -0.277967      0.185075  0.505377        0.617878   -0.596606   0.446292   \n",
       "\n",
       "       Threat     Bonus  Clean_Sheets      PCA1      PCA2  \n",
       "0   -0.707638 -0.755435     -1.081123 -2.916600  0.569939  \n",
       "1    1.799393  2.606688      0.513521  3.815468  1.999554  \n",
       "2   -0.701346  1.005677      1.424747  1.943396 -2.757446  \n",
       "3    2.387618  0.525374      0.741328  3.502427  1.043441  \n",
       "4   -0.465428 -0.275132     -0.625510 -1.153639  0.422189  \n",
       "..        ...       ...           ...       ...       ...  \n",
       "471 -0.707638 -0.755435     -1.081123 -2.686929  0.350179  \n",
       "472 -0.707638  1.165778      1.196940  2.333559 -3.137873  \n",
       "473 -0.481156 -0.755435     -1.081123 -1.966630  0.469243  \n",
       "474  0.097632 -0.275132      0.057909 -0.818000  0.180940  \n",
       "475 -0.135141 -0.115031      0.285715  0.261544 -1.032869  \n",
       "\n",
       "[476 rows x 15 columns]"
      ]
     },
     "execution_count": 79,
     "metadata": {},
     "output_type": "execute_result"
    }
   ],
   "source": [
    "df_original_pca"
   ]
  },
  {
   "cell_type": "code",
   "execution_count": 80,
   "metadata": {},
   "outputs": [],
   "source": [
    "df_original_pca['PCA Cluster'] = kmeans_pca.labels_"
   ]
  },
  {
   "cell_type": "code",
   "execution_count": 81,
   "metadata": {},
   "outputs": [
    {
     "data": {
      "text/html": [
       "<div>\n",
       "<style scoped>\n",
       "    .dataframe tbody tr th:only-of-type {\n",
       "        vertical-align: middle;\n",
       "    }\n",
       "\n",
       "    .dataframe tbody tr th {\n",
       "        vertical-align: top;\n",
       "    }\n",
       "\n",
       "    .dataframe thead th {\n",
       "        text-align: right;\n",
       "    }\n",
       "</style>\n",
       "<table border=\"1\" class=\"dataframe\">\n",
       "  <thead>\n",
       "    <tr style=\"text-align: right;\">\n",
       "      <th></th>\n",
       "      <th>Player_Name</th>\n",
       "      <th>Club</th>\n",
       "      <th>Position</th>\n",
       "      <th>Goals_Scored</th>\n",
       "      <th>Assists</th>\n",
       "      <th>Total_Points</th>\n",
       "      <th>Minutes</th>\n",
       "      <th>Goals_Conceded</th>\n",
       "      <th>Creativity</th>\n",
       "      <th>Influence</th>\n",
       "      <th>Threat</th>\n",
       "      <th>Bonus</th>\n",
       "      <th>Clean_Sheets</th>\n",
       "      <th>PCA1</th>\n",
       "      <th>PCA2</th>\n",
       "      <th>PCA Cluster</th>\n",
       "    </tr>\n",
       "  </thead>\n",
       "  <tbody>\n",
       "    <tr>\n",
       "      <th>0</th>\n",
       "      <td>Alex Runnarsson</td>\n",
       "      <td>Arsenal</td>\n",
       "      <td>Goalkeeper</td>\n",
       "      <td>-0.552608</td>\n",
       "      <td>-0.647555</td>\n",
       "      <td>-1.122506</td>\n",
       "      <td>-1.232383</td>\n",
       "      <td>-1.202653</td>\n",
       "      <td>-0.780115</td>\n",
       "      <td>-1.039325</td>\n",
       "      <td>-0.707638</td>\n",
       "      <td>-0.755435</td>\n",
       "      <td>-1.081123</td>\n",
       "      <td>-2.916600</td>\n",
       "      <td>0.569939</td>\n",
       "      <td>3</td>\n",
       "    </tr>\n",
       "    <tr>\n",
       "      <th>1</th>\n",
       "      <td>Alexandre Lacazette</td>\n",
       "      <td>Arsenal</td>\n",
       "      <td>Forward</td>\n",
       "      <td>3.213401</td>\n",
       "      <td>0.461208</td>\n",
       "      <td>1.375560</td>\n",
       "      <td>0.539871</td>\n",
       "      <td>0.115663</td>\n",
       "      <td>0.443542</td>\n",
       "      <td>1.150596</td>\n",
       "      <td>1.799393</td>\n",
       "      <td>2.606688</td>\n",
       "      <td>0.513521</td>\n",
       "      <td>3.815468</td>\n",
       "      <td>1.999554</td>\n",
       "      <td>1</td>\n",
       "    </tr>\n",
       "    <tr>\n",
       "      <th>2</th>\n",
       "      <td>Bernd Leno</td>\n",
       "      <td>Arsenal</td>\n",
       "      <td>Goalkeeper</td>\n",
       "      <td>-0.552608</td>\n",
       "      <td>-0.647555</td>\n",
       "      <td>1.414592</td>\n",
       "      <td>1.672585</td>\n",
       "      <td>1.120094</td>\n",
       "      <td>-0.780115</td>\n",
       "      <td>1.523682</td>\n",
       "      <td>-0.701346</td>\n",
       "      <td>1.005677</td>\n",
       "      <td>1.424747</td>\n",
       "      <td>1.943396</td>\n",
       "      <td>-2.757446</td>\n",
       "      <td>2</td>\n",
       "    </tr>\n",
       "    <tr>\n",
       "      <th>3</th>\n",
       "      <td>Bukayo Saka</td>\n",
       "      <td>Arsenal</td>\n",
       "      <td>Midfielder</td>\n",
       "      <td>0.895857</td>\n",
       "      <td>1.200384</td>\n",
       "      <td>1.082818</td>\n",
       "      <td>1.134662</td>\n",
       "      <td>0.743432</td>\n",
       "      <td>1.809706</td>\n",
       "      <td>0.741621</td>\n",
       "      <td>2.387618</td>\n",
       "      <td>0.525374</td>\n",
       "      <td>0.741328</td>\n",
       "      <td>3.502427</td>\n",
       "      <td>1.043441</td>\n",
       "      <td>1</td>\n",
       "    </tr>\n",
       "    <tr>\n",
       "      <th>4</th>\n",
       "      <td>Calum Chambers</td>\n",
       "      <td>Arsenal</td>\n",
       "      <td>Defender</td>\n",
       "      <td>-0.552608</td>\n",
       "      <td>0.461208</td>\n",
       "      <td>-0.439441</td>\n",
       "      <td>-0.546229</td>\n",
       "      <td>-0.574884</td>\n",
       "      <td>-0.105790</td>\n",
       "      <td>-0.459134</td>\n",
       "      <td>-0.465428</td>\n",
       "      <td>-0.275132</td>\n",
       "      <td>-0.625510</td>\n",
       "      <td>-1.153639</td>\n",
       "      <td>0.422189</td>\n",
       "      <td>0</td>\n",
       "    </tr>\n",
       "    <tr>\n",
       "      <th>...</th>\n",
       "      <td>...</td>\n",
       "      <td>...</td>\n",
       "      <td>...</td>\n",
       "      <td>...</td>\n",
       "      <td>...</td>\n",
       "      <td>...</td>\n",
       "      <td>...</td>\n",
       "      <td>...</td>\n",
       "      <td>...</td>\n",
       "      <td>...</td>\n",
       "      <td>...</td>\n",
       "      <td>...</td>\n",
       "      <td>...</td>\n",
       "      <td>...</td>\n",
       "      <td>...</td>\n",
       "      <td>...</td>\n",
       "    </tr>\n",
       "    <tr>\n",
       "      <th>471</th>\n",
       "      <td>Ruben Vinagre</td>\n",
       "      <td>Wolverhampton Wanderers</td>\n",
       "      <td>Defender</td>\n",
       "      <td>-0.552608</td>\n",
       "      <td>-0.647555</td>\n",
       "      <td>-1.122506</td>\n",
       "      <td>-1.086016</td>\n",
       "      <td>-0.763215</td>\n",
       "      <td>-0.679404</td>\n",
       "      <td>-0.984745</td>\n",
       "      <td>-0.707638</td>\n",
       "      <td>-0.755435</td>\n",
       "      <td>-1.081123</td>\n",
       "      <td>-2.686929</td>\n",
       "      <td>0.350179</td>\n",
       "      <td>3</td>\n",
       "    </tr>\n",
       "    <tr>\n",
       "      <th>472</th>\n",
       "      <td>Rui Pedro Patricio</td>\n",
       "      <td>Wolverhampton Wanderers</td>\n",
       "      <td>Goalkeeper</td>\n",
       "      <td>-0.552608</td>\n",
       "      <td>-0.647555</td>\n",
       "      <td>1.434108</td>\n",
       "      <td>1.858107</td>\n",
       "      <td>1.998971</td>\n",
       "      <td>-0.780115</td>\n",
       "      <td>1.753217</td>\n",
       "      <td>-0.707638</td>\n",
       "      <td>1.165778</td>\n",
       "      <td>1.196940</td>\n",
       "      <td>2.333559</td>\n",
       "      <td>-3.137873</td>\n",
       "      <td>2</td>\n",
       "    </tr>\n",
       "    <tr>\n",
       "      <th>473</th>\n",
       "      <td>Vitor Ferreira</td>\n",
       "      <td>Wolverhampton Wanderers</td>\n",
       "      <td>Midfielder</td>\n",
       "      <td>-0.552608</td>\n",
       "      <td>-0.277967</td>\n",
       "      <td>-0.634602</td>\n",
       "      <td>-0.771839</td>\n",
       "      <td>-0.700438</td>\n",
       "      <td>-0.067576</td>\n",
       "      <td>-0.802314</td>\n",
       "      <td>-0.481156</td>\n",
       "      <td>-0.755435</td>\n",
       "      <td>-1.081123</td>\n",
       "      <td>-1.966630</td>\n",
       "      <td>0.469243</td>\n",
       "      <td>3</td>\n",
       "    </tr>\n",
       "    <tr>\n",
       "      <th>474</th>\n",
       "      <td>Willian Jose</td>\n",
       "      <td>Wolverhampton Wanderers</td>\n",
       "      <td>Forward</td>\n",
       "      <td>-0.262915</td>\n",
       "      <td>-0.277967</td>\n",
       "      <td>-0.361377</td>\n",
       "      <td>-0.215271</td>\n",
       "      <td>-0.386553</td>\n",
       "      <td>-0.119723</td>\n",
       "      <td>-0.766426</td>\n",
       "      <td>0.097632</td>\n",
       "      <td>-0.275132</td>\n",
       "      <td>0.057909</td>\n",
       "      <td>-0.818000</td>\n",
       "      <td>0.180940</td>\n",
       "      <td>0</td>\n",
       "    </tr>\n",
       "    <tr>\n",
       "      <th>475</th>\n",
       "      <td>Willy Boly</td>\n",
       "      <td>Wolverhampton Wanderers</td>\n",
       "      <td>Defender</td>\n",
       "      <td>-0.262915</td>\n",
       "      <td>-0.277967</td>\n",
       "      <td>0.185075</td>\n",
       "      <td>0.505377</td>\n",
       "      <td>0.617878</td>\n",
       "      <td>-0.596606</td>\n",
       "      <td>0.446292</td>\n",
       "      <td>-0.135141</td>\n",
       "      <td>-0.115031</td>\n",
       "      <td>0.285715</td>\n",
       "      <td>0.261544</td>\n",
       "      <td>-1.032869</td>\n",
       "      <td>0</td>\n",
       "    </tr>\n",
       "  </tbody>\n",
       "</table>\n",
       "<p>476 rows × 16 columns</p>\n",
       "</div>"
      ],
      "text/plain": [
       "             Player_Name                     Club    Position  Goals_Scored  \\\n",
       "0        Alex Runnarsson                  Arsenal  Goalkeeper     -0.552608   \n",
       "1    Alexandre Lacazette                  Arsenal     Forward      3.213401   \n",
       "2             Bernd Leno                  Arsenal  Goalkeeper     -0.552608   \n",
       "3            Bukayo Saka                  Arsenal  Midfielder      0.895857   \n",
       "4         Calum Chambers                  Arsenal    Defender     -0.552608   \n",
       "..                   ...                      ...         ...           ...   \n",
       "471        Ruben Vinagre  Wolverhampton Wanderers    Defender     -0.552608   \n",
       "472   Rui Pedro Patricio  Wolverhampton Wanderers  Goalkeeper     -0.552608   \n",
       "473       Vitor Ferreira  Wolverhampton Wanderers  Midfielder     -0.552608   \n",
       "474         Willian Jose  Wolverhampton Wanderers     Forward     -0.262915   \n",
       "475           Willy Boly  Wolverhampton Wanderers    Defender     -0.262915   \n",
       "\n",
       "      Assists  Total_Points   Minutes  Goals_Conceded  Creativity  Influence  \\\n",
       "0   -0.647555     -1.122506 -1.232383       -1.202653   -0.780115  -1.039325   \n",
       "1    0.461208      1.375560  0.539871        0.115663    0.443542   1.150596   \n",
       "2   -0.647555      1.414592  1.672585        1.120094   -0.780115   1.523682   \n",
       "3    1.200384      1.082818  1.134662        0.743432    1.809706   0.741621   \n",
       "4    0.461208     -0.439441 -0.546229       -0.574884   -0.105790  -0.459134   \n",
       "..        ...           ...       ...             ...         ...        ...   \n",
       "471 -0.647555     -1.122506 -1.086016       -0.763215   -0.679404  -0.984745   \n",
       "472 -0.647555      1.434108  1.858107        1.998971   -0.780115   1.753217   \n",
       "473 -0.277967     -0.634602 -0.771839       -0.700438   -0.067576  -0.802314   \n",
       "474 -0.277967     -0.361377 -0.215271       -0.386553   -0.119723  -0.766426   \n",
       "475 -0.277967      0.185075  0.505377        0.617878   -0.596606   0.446292   \n",
       "\n",
       "       Threat     Bonus  Clean_Sheets      PCA1      PCA2  PCA Cluster  \n",
       "0   -0.707638 -0.755435     -1.081123 -2.916600  0.569939            3  \n",
       "1    1.799393  2.606688      0.513521  3.815468  1.999554            1  \n",
       "2   -0.701346  1.005677      1.424747  1.943396 -2.757446            2  \n",
       "3    2.387618  0.525374      0.741328  3.502427  1.043441            1  \n",
       "4   -0.465428 -0.275132     -0.625510 -1.153639  0.422189            0  \n",
       "..        ...       ...           ...       ...       ...          ...  \n",
       "471 -0.707638 -0.755435     -1.081123 -2.686929  0.350179            3  \n",
       "472 -0.707638  1.165778      1.196940  2.333559 -3.137873            2  \n",
       "473 -0.481156 -0.755435     -1.081123 -1.966630  0.469243            3  \n",
       "474  0.097632 -0.275132      0.057909 -0.818000  0.180940            0  \n",
       "475 -0.135141 -0.115031      0.285715  0.261544 -1.032869            0  \n",
       "\n",
       "[476 rows x 16 columns]"
      ]
     },
     "execution_count": 81,
     "metadata": {},
     "output_type": "execute_result"
    }
   ],
   "source": [
    "df_original_pca"
   ]
  },
  {
   "cell_type": "code",
   "execution_count": 82,
   "metadata": {},
   "outputs": [
    {
     "data": {
      "application/vnd.plotly.v1+json": {
       "config": {
        "plotlyServerURL": "https://plot.ly"
       },
       "data": [
        {
         "hovertemplate": "PCA2=%{x}<br>PCA1=%{y}<br>PCA Cluster=%{marker.color}<extra></extra>",
         "legendgroup": "",
         "marker": {
          "color": [
           3,
           1,
           2,
           1,
           0,
           3,
           0,
           0,
           3,
           0,
           0,
           3,
           2,
           2,
           2,
           0,
           3,
           3,
           0,
           1,
           3,
           1,
           3,
           2,
           3,
           3,
           3,
           0,
           3,
           0,
           0,
           1,
           1,
           3,
           3,
           2,
           2,
           2,
           3,
           1,
           3,
           3,
           2,
           3,
           3,
           3,
           0,
           3,
           2,
           2,
           3,
           1,
           3,
           0,
           2,
           3,
           0,
           0,
           2,
           0,
           3,
           3,
           2,
           3,
           0,
           0,
           3,
           3,
           3,
           3,
           2,
           3,
           1,
           2,
           0,
           1,
           1,
           3,
           3,
           2,
           0,
           0,
           0,
           2,
           3,
           0,
           2,
           3,
           2,
           2,
           1,
           3,
           2,
           0,
           0,
           2,
           0,
           0,
           3,
           3,
           0,
           3,
           2,
           3,
           3,
           0,
           2,
           2,
           3,
           0,
           3,
           0,
           0,
           2,
           3,
           0,
           2,
           0,
           2,
           3,
           3,
           3,
           0,
           2,
           0,
           3,
           3,
           2,
           0,
           1,
           0,
           0,
           0,
           2,
           0,
           2,
           1,
           3,
           3,
           2,
           2,
           1,
           3,
           1,
           0,
           3,
           0,
           0,
           3,
           3,
           3,
           0,
           2,
           0,
           2,
           3,
           3,
           0,
           3,
           0,
           0,
           3,
           3,
           3,
           0,
           3,
           0,
           2,
           1,
           2,
           0,
           0,
           0,
           3,
           2,
           3,
           3,
           1,
           3,
           1,
           1,
           3,
           3,
           2,
           3,
           2,
           2,
           2,
           3,
           3,
           3,
           1,
           3,
           0,
           0,
           0,
           3,
           0,
           2,
           3,
           3,
           0,
           3,
           2,
           1,
           3,
           3,
           3,
           3,
           2,
           3,
           3,
           2,
           2,
           3,
           2,
           3,
           3,
           0,
           1,
           1,
           0,
           1,
           1,
           0,
           0,
           0,
           3,
           3,
           3,
           3,
           0,
           3,
           3,
           1,
           3,
           2,
           1,
           1,
           2,
           2,
           1,
           3,
           0,
           0,
           0,
           3,
           3,
           2,
           3,
           3,
           2,
           2,
           1,
           3,
           3,
           2,
           1,
           3,
           0,
           0,
           0,
           3,
           2,
           2,
           0,
           0,
           0,
           3,
           1,
           3,
           0,
           3,
           3,
           3,
           1,
           1,
           0,
           1,
           3,
           3,
           0,
           0,
           2,
           2,
           3,
           0,
           0,
           1,
           1,
           2,
           2,
           1,
           0,
           3,
           3,
           3,
           3,
           0,
           1,
           1,
           1,
           2,
           2,
           3,
           0,
           3,
           3,
           2,
           3,
           3,
           3,
           0,
           3,
           3,
           1,
           0,
           2,
           3,
           1,
           0,
           2,
           3,
           2,
           3,
           1,
           1,
           1,
           3,
           0,
           3,
           2,
           2,
           3,
           2,
           3,
           0,
           3,
           1,
           0,
           3,
           3,
           3,
           0,
           0,
           0,
           3,
           0,
           0,
           0,
           0,
           3,
           0,
           2,
           0,
           2,
           3,
           0,
           0,
           3,
           2,
           0,
           0,
           0,
           3,
           2,
           3,
           1,
           3,
           1,
           3,
           0,
           0,
           3,
           1,
           2,
           2,
           3,
           2,
           3,
           3,
           0,
           0,
           3,
           0,
           2,
           3,
           2,
           0,
           0,
           3,
           3,
           3,
           0,
           3,
           3,
           3,
           3,
           0,
           2,
           3,
           1,
           0,
           1,
           3,
           1,
           2,
           3,
           3,
           3,
           0,
           0,
           0,
           3,
           2,
           3,
           0,
           2,
           0,
           2,
           2,
           1,
           3,
           3,
           3,
           2,
           0,
           3,
           0,
           3,
           2,
           0,
           3,
           3,
           0,
           3,
           1,
           1,
           3,
           2,
           3,
           3,
           1,
           1,
           3,
           3,
           0,
           0,
           1,
           2,
           2,
           2,
           0,
           0,
           3,
           2,
           3,
           3,
           3,
           2,
           0,
           3,
           2,
           3,
           3,
           3,
           1,
           0,
           0,
           2,
           2,
           3,
           2,
           3,
           0,
           0
          ],
          "coloraxis": "coloraxis",
          "symbol": "circle"
         },
         "mode": "markers",
         "name": "",
         "orientation": "v",
         "showlegend": false,
         "textposition": "top center",
         "type": "scatter",
         "x": [
          0.5699391184372437,
          1.9995541118868478,
          -2.7574459090821626,
          1.0434411428434012,
          0.42218909774181473,
          0.14564953518042204,
          -0.04335233359370443,
          -0.5109807530866691,
          0.9153759681953553,
          0.43108044301296283,
          -0.8805489081618875,
          0.7512976198090876,
          -1.2711192665242688,
          -0.25244557793167094,
          -0.588375496852026,
          0.4954554856060761,
          0.590468219327065,
          0.590468219327065,
          -0.6623241991861303,
          1.7771870740873354,
          -0.3274768267494044,
          1.1022334928662132,
          0.5799861953209404,
          -1.8682378092947374,
          0.5377952604995316,
          0.5365198122745951,
          0.590468219327065,
          -0.5363696530280285,
          0.590468219327065,
          1.0599646522173303,
          -0.011292999900766784,
          1.392274204708686,
          1.1832084542300494,
          0.5875420861507556,
          0.6623676962024435,
          -1.928219346110371,
          -3.4394645573221068,
          -2.4504494981919964,
          0.590468219327065,
          2.0956706829278993,
          0.12225648842667655,
          0.5888538406536996,
          -1.0552961472762254,
          0.590468219327065,
          0.8467225367461916,
          0.10682112318932885,
          0.37562343919803326,
          -0.04273817104987196,
          -2.2724548189169447,
          -1.613295939315565,
          0.31979235710503157,
          2.4754275453206613,
          0.590468219327065,
          0.28626583394314475,
          -2.258434521793626,
          0.5747836982623414,
          0.5758000761944172,
          -0.08896612998684801,
          -1.826170900013396,
          0.08158539555864339,
          0.5639453682124093,
          0.611486525420095,
          -2.598116981424711,
          0.5302310972834151,
          -1.0842518248894557,
          1.3701517610203569,
          0.5066347021909914,
          0.15532965541442664,
          0.590468219327065,
          0.5884776056011387,
          -1.1001197863191605,
          0.5936094639678691,
          0.72283429230679,
          -1.318983315950012,
          -0.7814110247161729,
          0.98161270266989,
          0.6599095654147069,
          0.6386153743153247,
          0.5900734711881326,
          -2.063370254889223,
          -0.1338570267192864,
          -0.23115655609871538,
          0.486336742671023,
          -2.195178166639353,
          0.590468219327065,
          0.46626444917307613,
          -1.500819159294747,
          0.04796968150755889,
          -1.9257350706044678,
          -1.7737679340160395,
          1.247067367975455,
          0.4245610606618684,
          -1.1140025311748023,
          -0.14170577744679408,
          -0.7130911894501802,
          -2.47342836689384,
          0.27926616380921315,
          -0.3086766444531486,
          0.5244715452558082,
          0.5494602875525924,
          -0.25587549819672567,
          0.2518489070470456,
          -1.6547615239455775,
          -0.0664969345373982,
          0.5861414728048596,
          0.5444569665484514,
          -2.1200116155383073,
          -2.6287981475506412,
          0.28079258585121175,
          0.018148664192241783,
          0.41974695458683253,
          -0.929073454893662,
          -0.8430595357756986,
          0.04800264642659883,
          0.3879667207317104,
          0.8409240645620071,
          -1.0195236038781241,
          0.7707420615571764,
          -2.5585389764261603,
          0.4729293458681457,
          0.590468219327065,
          0.5037543641091586,
          0.6351283668003811,
          -0.18350917154510932,
          1.0033094758364753,
          0.590468219327065,
          0.00832063470696122,
          -0.7331621822449923,
          0.3861502309917338,
          1.2228455834447494,
          -1.0435614350727662,
          -1.259835688449301,
          0.9782987891872732,
          -0.33397153514617767,
          1.1806181356360181,
          -1.1779675405749552,
          2.0152005717311336,
          0.590468219327065,
          0.48033116937776926,
          -0.29433760895939226,
          -2.611181170151869,
          1.5625550413673224,
          0.590468219327065,
          0.2916168900683987,
          -1.0441099768269189,
          0.4930943167173729,
          -1.0303928503508242,
          -0.5888098693084426,
          -0.25708557497147433,
          -0.06417404751510257,
          0.641581530344278,
          0.02401346462846463,
          -1.7788671723435452,
          -0.46119104143391954,
          -1.5570270822653336,
          0.2706194953982938,
          0.5866617812400725,
          0.5827718365913328,
          0.590468219327065,
          -0.41787394617412077,
          -0.7611418187523781,
          0.590468219327065,
          0.590468219327065,
          0.590468219327065,
          -0.4805912119652772,
          0.590468219327065,
          -0.8585413624753064,
          -3.2959462069343335,
          1.1204245225747305,
          -0.9703803927187469,
          -0.07870161350076389,
          -1.4939793771502348,
          -0.6230331169633223,
          0.5584085963529046,
          -1.9778938812748408,
          0.36680279894442586,
          0.506934010881955,
          2.405791054400891,
          0.33281612970459695,
          0.6130159514706851,
          1.0099685710246231,
          0.5503042659699419,
          0.5381949474061227,
          -2.622386224310045,
          0.5093611344694129,
          -0.4605859286799491,
          -1.696496213558041,
          -1.9930808971942682,
          0.598142818627278,
          0.5864813371116347,
          0.5281182863483577,
          1.0494866284013005,
          -0.1110149488307726,
          -0.47158717320770666,
          -0.7878493204641058,
          -0.9022217517478487,
          0.590468219327065,
          -0.345756698950984,
          -0.9161740545708635,
          0.33626267974298124,
          0.497358758549218,
          0.5690117649545403,
          0.4535451327790148,
          -3.266411915757491,
          0.9864319803306635,
          0.590468219327065,
          0.08004192865792782,
          0.590468219327065,
          0.590468219327065,
          -1.3199587385050313,
          0.590468219327065,
          0.5746073717112389,
          -1.6785717875507837,
          -2.796347419896526,
          0.590468219327065,
          -0.244916973348823,
          0.5772025907161986,
          0.7829276734693534,
          -1.4303047400385687,
          3.0185333111658124,
          1.6648303963645366,
          -0.5998013831311776,
          1.8162430665227913,
          -0.868479191511595,
          0.11116097651888557,
          0.27247858425594157,
          -1.073919146862885,
          0.7292604812106018,
          -0.14345758319021346,
          0.14559522552651416,
          0.587365551796961,
          0.3750212898442131,
          0.590468219327065,
          0.2915955126673394,
          1.5739158060458847,
          0.574151467623041,
          -0.679511802711954,
          1.4353608497920143,
          3.2216042444862687,
          -1.3447202399327005,
          -3.323514756385823,
          2.1157042533853514,
          -0.09010744069858252,
          0.5880589172532811,
          -0.7490372852902782,
          -0.09966209032864486,
          0.5366917145622426,
          0.5862716863597404,
          -0.6845897751713632,
          0.590468219327065,
          0.5776037531164838,
          -1.4840762050546947,
          -0.8552937379254667,
          -0.7553439561249848,
          0.17563089251274122,
          0.6434690152105477,
          -2.395527260407315,
          -0.4802492959952113,
          0.36979183816069966,
          0.1761959366610534,
          -0.6537727532842152,
          1.494603903698333,
          0.5314044063692591,
          -1.7955386860117053,
          -1.3907322046741988,
          0.08670124153795498,
          0.4331273121271487,
          -0.4600140905919001,
          -0.04902420726129928,
          3.8168276357904136,
          0.22463136984308588,
          -0.5695858093759023,
          0.4387571447944927,
          -0.21146713971577658,
          -0.009674473006632453,
          1.9846138689406077,
          2.926073172091749,
          -0.7215851464243997,
          0.3724515164844873,
          0.2706850434709299,
          0.5833469437270936,
          -0.6508379796597286,
          0.16504864577665204,
          0.5010403935152185,
          -3.0953962837708304,
          0.12423668133558928,
          -0.14749757412096431,
          1.3357369623495672,
          1.8141718122203456,
          1.8895583464838839,
          -0.24467571171233937,
          -0.9413882970133095,
          2.5911568195388406,
          -0.9643380639765525,
          0.4822669139797149,
          0.590468219327065,
          -0.14655885019278436,
          0.590468219327065,
          -0.667053048800628,
          2.4552189256621304,
          2.2995057172814137,
          2.0881965305979704,
          -1.136223599163267,
          -2.0231516142678805,
          0.461662984570384,
          1.0162527972743765,
          0.590468219327065,
          0.5235148280783152,
          -1.4356883222125503,
          0.343896735534762,
          0.5814572457295221,
          0.649558820445281,
          1.5018882409312853,
          0.16901500652591786,
          0.46135298405761344,
          3.860644704225676,
          0.633325261559219,
          -2.0766358337019653,
          0.4997349962072937,
          1.8053631990110561,
          -0.3974959929348471,
          -1.487137831445346,
          0.5850685224571774,
          -1.6984585036129423,
          0.8503781632020334,
          -0.1978304410765737,
          1.9074523022346606,
          1.1549457497716877,
          0.590468219327065,
          -0.40319001163768253,
          0.5637782344529665,
          0.6231020013785404,
          -0.48499960428748795,
          0.584731000556461,
          -1.8515030389966216,
          0.5884776056011387,
          0.4675826964324399,
          0.6835753679471258,
          1.8907968874970942,
          -1.211832271253734,
          0.21065192789137252,
          0.8116724400791532,
          0.590644731290022,
          -0.6947265408749382,
          -0.4460743245454881,
          -1.6665221067791158,
          0.590468219327065,
          -1.1751544109193939,
          -0.023820400481023928,
          -0.6950199643204461,
          -1.0431217335319927,
          -0.31488018188700334,
          0.2727529367445027,
          -1.0287805964916987,
          0.7431412140163028,
          -2.1085380446206603,
          0.590468219327065,
          -0.7446268903339452,
          0.2935043170348325,
          0.17978968283582333,
          -0.47544661485928064,
          -0.5569082898149497,
          0.40649765439945024,
          -0.4083361019884705,
          0.590468219327065,
          -2.8524231409465894,
          0.573593188514041,
          1.2643493370416294,
          0.5367944738309659,
          1.5671951807051696,
          -0.2757416035356729,
          -0.46544633038115085,
          -1.2246260970655047,
          0.5263839723189384,
          -0.4349937683045388,
          -2.6209491522939126,
          -1.5045889027967556,
          0.590468219327065,
          -1.388130699855335,
          0.523676901264626,
          -0.2794450001342164,
          -0.23922435566220546,
          0.25079902577675894,
          0.5525586549746846,
          -0.786926047115325,
          -1.7840896838535218,
          0.3054731177164796,
          -0.44063912020250184,
          0.3183245517302267,
          0.26880958900475177,
          0.40349242929754825,
          0.46302833934158955,
          0.39197199378465086,
          -0.353878321225338,
          0.590468219327065,
          0.6408729664108213,
          0.5884776056011387,
          0.590468219327065,
          -0.8571331906852367,
          -2.0293603928794806,
          0.3961811726824343,
          2.036286825165963,
          0.10916018004829885,
          4.449531864485321,
          -0.21635385702677862,
          2.820206507807794,
          -3.2560080893832644,
          0.0807216330997517,
          -0.21270551278514768,
          0.590468219327065,
          0.7203544132007398,
          -0.19735209045939126,
          -0.8682564354090178,
          0.590468219327065,
          -1.9884523319845164,
          0.590468219327065,
          -0.2068112511084985,
          -0.5237873113254394,
          0.3081124813788749,
          -0.5630301195209827,
          -1.5819475930358573,
          -0.4502367457111668,
          0.590468219327065,
          0.590468219327065,
          0.48454919458083995,
          -1.4504832787626643,
          -0.06011092301201204,
          0.19125498811292035,
          -0.8957392832781753,
          0.29898369167218414,
          -1.5969201795994854,
          -0.6063125216585737,
          0.5874395034123328,
          0.590468219327065,
          -0.5869122571683568,
          0.590468219327065,
          1.0327607922216602,
          1.8164144078363547,
          0.590468219327065,
          -2.9082422594574844,
          0.5721252035427626,
          -0.05627932614241641,
          2.2156334057165545,
          0.5788492541293612,
          0.590468219327065,
          0.44537865127715637,
          0.8310153492529033,
          0.6020879764845543,
          -0.18661128682385747,
          -0.7369205460552565,
          -0.07042525278048137,
          -2.8453979830485574,
          0.1035768956377896,
          1.2323754233985391,
          0.0330668929790222,
          -1.1674085537028087,
          0.5068381992855225,
          0.23512771215655404,
          0.09630412996840589,
          -1.2179174776117505,
          -0.34868834557839096,
          0.6187906638176023,
          -1.4147979726618967,
          0.5811027153505426,
          0.5277252229617465,
          0.5844959369939061,
          1.0571666374428201,
          0.7888062298546603,
          -0.14905376829653944,
          -1.2949800849056683,
          -0.763734318578676,
          0.3501794285342182,
          -3.137872887395063,
          0.4692432016317231,
          0.18094045649407134,
          -1.0328693993110303
         ],
         "xaxis": "x",
         "y": [
          -2.9166003891887553,
          3.815468342817602,
          1.943395925772461,
          3.502426563534147,
          -1.1536385167576493,
          -1.562503341135675,
          0.6392572058641565,
          -1.0318956731771574,
          -1.3897236624320708,
          0.7379878277744711,
          0.5228083975422636,
          -1.2729721508249814,
          1.0408576328982486,
          1.7173472174645117,
          1.6038816234131588,
          -0.7449846210768728,
          -2.9500708683228507,
          -2.9500708683228507,
          -0.6863068437564807,
          2.364044983527851,
          -1.6749362952918732,
          3.4587491253239913,
          -2.8879201265447865,
          1.4764420322467586,
          -2.8742972533917492,
          -2.8795676581071064,
          -2.9500708683228507,
          -0.42027989846613795,
          -2.9500708683228507,
          1.0520115280096238,
          -1.3398876400644164,
          2.427166169284205,
          3.96268125310006,
          -2.9230028592260235,
          -1.9974132994541312,
          1.3511829987378203,
          4.213756284074736,
          2.4134825462258953,
          -2.9500708683228507,
          5.5263510529368265,
          -1.9059601952750385,
          -2.942058506357515,
          3.6796861892918993,
          -2.9500708683228507,
          -2.075967753212408,
          -1.7111770884549828,
          -0.13008440134791588,
          -1.769666374294228,
          3.7120720246285215,
          1.71047903651502,
          -2.564159130455982,
          7.579022741905363,
          -2.9500708683228507,
          1.218857222584576,
          2.986799269624758,
          -2.8815138739079615,
          -1.161967364690102,
          -0.016170282938276288,
          0.8590449672943122,
          -0.60255949533679,
          -1.7744928318230653,
          -2.654629079998383,
          1.7060072153405212,
          -2.6562798867410407,
          0.1654623021547247,
          1.916714563649103,
          -2.6976781636848037,
          -1.9588024569676488,
          -2.9500708683228507,
          -2.9426476892766615,
          1.533883488415219,
          -2.928233676568303,
          4.332134313653168,
          3.2398912002525275,
          -1.4133550637370405,
          3.553818386257509,
          4.050067477606943,
          -2.6412706973759854,
          -2.939853363433913,
          0.9001502237093719,
          0.9976168430305062,
          -1.0653910542282794,
          -0.9610318307049132,
          1.5577745675091268,
          -2.9500708683228507,
          0.229738340742308,
          3.5436469358729137,
          -2.4449241084726463,
          1.9164360967674552,
          1.229849088698261,
          4.676895919558686,
          -2.6495060650378846,
          3.625741775114276,
          -0.6357701061735735,
          -1.1436121186971269,
          2.6350153042207523,
          -0.1804194738591824,
          -0.5638781326333161,
          -2.403119496422193,
          -2.8962746288691297,
          -0.5843245519901922,
          -2.5508386761287927,
          1.2585652622779515,
          -2.1116341995759695,
          -2.9349149065805538,
          0.0877182594695542,
          2.132539350426909,
          2.6365081880267582,
          -2.627956183162415,
          -0.8029338410386522,
          -2.7658197030723506,
          -0.209354822219057,
          0.5482281841743618,
          3.2358044469853025,
          -2.5876050262791597,
          0.1639405247596182,
          2.071227824065325,
          1.4697192808641504,
          1.5661516766841266,
          -2.7662498690140778,
          -2.9500708683228507,
          -2.8634697495741728,
          0.9433357189695538,
          2.764562949773984,
          1.4198952696977167,
          -2.9500708683228507,
          -1.8793771482062944,
          1.4453504286501406,
          -0.2707776657517661,
          6.149983820686715,
          0.28080398169357235,
          0.6378134857630495,
          -0.6489108526202284,
          2.8466814196021697,
          0.5188319634635714,
          1.1961267800581616,
          4.883456149953627,
          -2.9500708683228507,
          -2.8529619929121064,
          2.433000320843467,
          1.423491917377497,
          3.023452478337958,
          -2.9500708683228507,
          3.992082295972512,
          0.2948678823583477,
          -2.848508300630605,
          0.09144883590424424,
          -0.35168365205139246,
          -1.8242901930800215,
          -2.0023328151672306,
          -2.362739618528205,
          0.453206366201295,
          0.6038803401758299,
          1.1038179261546335,
          1.0286095375856628,
          -2.6300877673059646,
          -2.939770082784137,
          -1.025236611215683,
          -2.9500708683228507,
          -1.3994513574695893,
          0.23409418968510576,
          -2.9500708683228507,
          -2.9500708683228507,
          -2.9500708683228507,
          -0.9315227765121785,
          -2.9500708683228507,
          0.09531237488573738,
          2.604200843944392,
          4.317558790355792,
          1.4912509160796001,
          0.07225957745634651,
          -0.10949063636835511,
          -0.6066557532085322,
          -2.8642631061622974,
          1.6728022708787036,
          -1.8720054151332246,
          -2.8310789670116483,
          6.34895718193565,
          -2.6149464292998044,
          3.5104618839575825,
          2.4917921835746393,
          -2.8885922722054556,
          -2.8400799316140883,
          1.5164693469104984,
          -2.7382964267759164,
          3.8121258212714393,
          0.6644758833278075,
          2.910464562087028,
          -2.920026662580125,
          -2.939722079724448,
          -2.8649268188358543,
          4.71705803534648,
          -1.888150962786818,
          0.5098064439952467,
          -0.789598805883217,
          0.45147275090400685,
          -2.9500708683228507,
          -0.9167998388475659,
          2.214411205200952,
          -2.4635686410966526,
          -2.6929795320364414,
          0.0018154153413519846,
          -2.4085073112758475,
          3.2954302792623413,
          5.795921884957693,
          -2.9500708683228507,
          -2.269169939273445,
          -2.9500708683228507,
          -2.9500708683228507,
          1.388338131005751,
          -2.9500708683228507,
          -2.921876576616648,
          0.6167731500440472,
          2.739564585292086,
          -2.9500708683228507,
          2.6183076312936424,
          -2.9251751060591564,
          -1.7469900649857937,
          0.4522888657392972,
          7.921883163955222,
          4.979157897269966,
          -1.052772415826537,
          2.0934049341874337,
          4.957549805975589,
          -0.43860743284014736,
          0.17029413454911532,
          0.008465532322643165,
          -2.1612391482882094,
          -1.8299550723973916,
          -1.9097019338841636,
          -2.9327926787085468,
          -1.268989197148809,
          -2.9500708683228507,
          -2.482840498839579,
          3.369822032800963,
          -2.89855067829189,
          1.7290302187483568,
          4.217864343983339,
          7.279913950412186,
          1.8588788646411107,
          2.083633095470293,
          3.1454515273918995,
          -1.5252810715166993,
          1.2792411893911015,
          -0.9759708039592854,
          -1.2850620018345353,
          -2.8614786314764533,
          -2.9377363461330144,
          1.7512456271859835,
          -2.9500708683228507,
          -2.9197346382980713,
          0.595134076510788,
          1.5279063063300973,
          4.721991797314219,
          -2.363742754112119,
          -2.2298853976031494,
          2.085139963727796,
          5.4862207274127455,
          -2.655642099945265,
          -0.46973942342102976,
          -1.357898287417668,
          1.131563714827415,
          -2.631754145079026,
          0.8166655070012347,
          1.7507245470337458,
          -0.8636923959626921,
          -1.2081184753893266,
          -0.02134326054625235,
          -2.271247751776546,
          8.922489336866237,
          -2.064334947177908,
          -0.3351525349265659,
          -2.5604118863812806,
          -1.8668595956389615,
          -1.9236527997522448,
          5.787007059360687,
          6.807835586363033,
          0.27475802110292186,
          5.96163430452588,
          -2.140947056320126,
          -1.4996738164939518,
          -0.7377629613417944,
          -0.5151218682854658,
          2.3933182199042644,
          2.149117968936846,
          -2.4389969476072446,
          -0.10872494167712106,
          1.3752225357792853,
          3.791100122565407,
          5.047071493345353,
          3.5896041034069057,
          1.6527562727138292,
          5.846368424743309,
          0.6376542264249293,
          -2.851281732206295,
          -2.9500708683228507,
          -1.5998751133770095,
          -2.9500708683228507,
          -0.06617470024401519,
          3.796146882405188,
          5.50291808955326,
          4.702515224316963,
          2.4354927756852507,
          2.5506881121873364,
          -2.7150878030763033,
          -0.8696557267987007,
          -2.9500708683228507,
          -2.876543440997635,
          3.6799078912921313,
          -1.4207713205303247,
          -2.583435946139744,
          -2.484434713107953,
          1.357288185283437,
          -2.493451740220986,
          -2.7245941824329036,
          10.712050067788443,
          -0.858124682155064,
          0.4839238321296718,
          -1.7559035773669753,
          2.0634545262877486,
          -1.331749969708664,
          1.0454504472612158,
          -2.9389108601858553,
          2.7682964950492237,
          -1.4435467981704706,
          4.147972024796114,
          6.224860987635425,
          2.1888840275566874,
          -2.9500708683228507,
          -1.0779483476693636,
          -2.9193083888914932,
          2.00728001509789,
          1.5233114362653983,
          -2.931499481668691,
          1.046890505559373,
          -2.9426476892766615,
          1.5199413490578153,
          -1.7502526414092814,
          4.167686898646296,
          -0.3141381930470659,
          -2.3919996011507454,
          -1.606957626493732,
          -2.939809457332343,
          -0.6693012342345566,
          -1.226254024554898,
          0.31440515916441353,
          -2.9500708683228507,
          -0.5020400615634221,
          0.8039231420000091,
          -0.4210785972949558,
          -0.22405525223147424,
          -1.723376195973267,
          1.2149624441783533,
          1.7128711872330464,
          0.6270873746404096,
          0.6229396425027018,
          -2.9500708683228507,
          -0.9042140426551611,
          0.14092153007563335,
          -2.451952282230942,
          2.2279765819891155,
          -1.0154343759280555,
          -0.5203280757525939,
          -0.8396437422381019,
          -2.9500708683228507,
          1.525851670360109,
          -2.9124499605085576,
          4.860389976703175,
          -2.773649904355854,
          4.319948740868804,
          -1.9100847637368297,
          -1.3944741747596214,
          -0.18635096699641773,
          -2.864970992895159,
          6.137912393938603,
          2.41004072633317,
          1.612945485523585,
          -2.9500708683228507,
          1.9008624773243143,
          -2.8424287219084396,
          -1.9182878215708759,
          -0.7122096019954802,
          0.8132331769887334,
          -1.2999973932452806,
          0.08851694163158758,
          1.2254811195098856,
          -2.5780378827660115,
          3.3635304178129113,
          -0.8778798798044776,
          0.7486004304037883,
          -2.7280759948593345,
          -2.7507006435422072,
          -1.4986210504967392,
          -0.7785188370319607,
          -2.9500708683228507,
          -2.339024598202601,
          -2.9426476892766615,
          -2.9500708683228507,
          -0.7737274742164976,
          0.6658748448248837,
          -1.4202842154807684,
          2.3161448888747795,
          -1.0402523262249233,
          10.737170430896603,
          -1.8932302828707217,
          8.746736640991953,
          2.7035668159154067,
          -2.240442850175857,
          -1.7761298194689947,
          -2.9500708683228507,
          0.7234228073332433,
          -0.6105369290886175,
          -0.8508161771101042,
          -2.9500708683228507,
          2.9495575739085096,
          -2.9500708683228507,
          0.6943979512867962,
          1.4706373146969296,
          -0.32167749496616416,
          1.7698068727817042,
          0.8834048202593345,
          4.987356803595869,
          -2.9500708683228507,
          -2.9500708683228507,
          -2.1450066304043145,
          1.2670483838976327,
          -0.8037599137584766,
          -2.0408895177118946,
          0.36635035187729437,
          -2.605192366267919,
          1.848963759308326,
          -1.1452423988924674,
          -2.9297484419194078,
          -2.9500708683228507,
          -0.8938239966094843,
          -2.9500708683228507,
          3.856720231532254,
          2.4018825913616606,
          -2.9500708683228507,
          2.0769553287385496,
          -1.7895604402815612,
          -2.0416894257252114,
          3.789965080151008,
          3.4371300170198182,
          -2.9500708683228507,
          -1.6566917286079694,
          0.6814420504174921,
          -0.7623147469762327,
          5.037859430591788,
          3.8642754104363526,
          2.778082621041531,
          1.9949057446747782,
          1.0279596730232514,
          0.6441614859993663,
          -2.161551013804,
          1.5272018664140818,
          -2.841340239927045,
          -2.352005248233979,
          -2.246597549518851,
          1.3295217423951304,
          -0.5598166672682197,
          -1.9682042045878017,
          2.769468395321267,
          -2.9347720279385388,
          -2.496157740808422,
          -2.9249918037961984,
          4.510516668505645,
          -0.515138481432751,
          -0.20367949827506737,
          1.8572762725620127,
          2.8836971523832884,
          -2.6869292793929986,
          2.333558542071781,
          -1.9666300209126941,
          -0.8179997111540207,
          0.2615435221807503
         ],
         "yaxis": "y"
        }
       ],
       "layout": {
        "coloraxis": {
         "colorbar": {
          "title": {
           "text": "PCA Cluster"
          }
         },
         "colorscale": [
          [
           0,
           "#0d0887"
          ],
          [
           0.1111111111111111,
           "#46039f"
          ],
          [
           0.2222222222222222,
           "#7201a8"
          ],
          [
           0.3333333333333333,
           "#9c179e"
          ],
          [
           0.4444444444444444,
           "#bd3786"
          ],
          [
           0.5555555555555556,
           "#d8576b"
          ],
          [
           0.6666666666666666,
           "#ed7953"
          ],
          [
           0.7777777777777778,
           "#fb9f3a"
          ],
          [
           0.8888888888888888,
           "#fdca26"
          ],
          [
           1,
           "#f0f921"
          ]
         ]
        },
        "legend": {
         "tracegroupgap": 0
        },
        "template": {
         "data": {
          "bar": [
           {
            "error_x": {
             "color": "#2a3f5f"
            },
            "error_y": {
             "color": "#2a3f5f"
            },
            "marker": {
             "line": {
              "color": "#E5ECF6",
              "width": 0.5
             },
             "pattern": {
              "fillmode": "overlay",
              "size": 10,
              "solidity": 0.2
             }
            },
            "type": "bar"
           }
          ],
          "barpolar": [
           {
            "marker": {
             "line": {
              "color": "#E5ECF6",
              "width": 0.5
             },
             "pattern": {
              "fillmode": "overlay",
              "size": 10,
              "solidity": 0.2
             }
            },
            "type": "barpolar"
           }
          ],
          "carpet": [
           {
            "aaxis": {
             "endlinecolor": "#2a3f5f",
             "gridcolor": "white",
             "linecolor": "white",
             "minorgridcolor": "white",
             "startlinecolor": "#2a3f5f"
            },
            "baxis": {
             "endlinecolor": "#2a3f5f",
             "gridcolor": "white",
             "linecolor": "white",
             "minorgridcolor": "white",
             "startlinecolor": "#2a3f5f"
            },
            "type": "carpet"
           }
          ],
          "choropleth": [
           {
            "colorbar": {
             "outlinewidth": 0,
             "ticks": ""
            },
            "type": "choropleth"
           }
          ],
          "contour": [
           {
            "colorbar": {
             "outlinewidth": 0,
             "ticks": ""
            },
            "colorscale": [
             [
              0,
              "#0d0887"
             ],
             [
              0.1111111111111111,
              "#46039f"
             ],
             [
              0.2222222222222222,
              "#7201a8"
             ],
             [
              0.3333333333333333,
              "#9c179e"
             ],
             [
              0.4444444444444444,
              "#bd3786"
             ],
             [
              0.5555555555555556,
              "#d8576b"
             ],
             [
              0.6666666666666666,
              "#ed7953"
             ],
             [
              0.7777777777777778,
              "#fb9f3a"
             ],
             [
              0.8888888888888888,
              "#fdca26"
             ],
             [
              1,
              "#f0f921"
             ]
            ],
            "type": "contour"
           }
          ],
          "contourcarpet": [
           {
            "colorbar": {
             "outlinewidth": 0,
             "ticks": ""
            },
            "type": "contourcarpet"
           }
          ],
          "heatmap": [
           {
            "colorbar": {
             "outlinewidth": 0,
             "ticks": ""
            },
            "colorscale": [
             [
              0,
              "#0d0887"
             ],
             [
              0.1111111111111111,
              "#46039f"
             ],
             [
              0.2222222222222222,
              "#7201a8"
             ],
             [
              0.3333333333333333,
              "#9c179e"
             ],
             [
              0.4444444444444444,
              "#bd3786"
             ],
             [
              0.5555555555555556,
              "#d8576b"
             ],
             [
              0.6666666666666666,
              "#ed7953"
             ],
             [
              0.7777777777777778,
              "#fb9f3a"
             ],
             [
              0.8888888888888888,
              "#fdca26"
             ],
             [
              1,
              "#f0f921"
             ]
            ],
            "type": "heatmap"
           }
          ],
          "heatmapgl": [
           {
            "colorbar": {
             "outlinewidth": 0,
             "ticks": ""
            },
            "colorscale": [
             [
              0,
              "#0d0887"
             ],
             [
              0.1111111111111111,
              "#46039f"
             ],
             [
              0.2222222222222222,
              "#7201a8"
             ],
             [
              0.3333333333333333,
              "#9c179e"
             ],
             [
              0.4444444444444444,
              "#bd3786"
             ],
             [
              0.5555555555555556,
              "#d8576b"
             ],
             [
              0.6666666666666666,
              "#ed7953"
             ],
             [
              0.7777777777777778,
              "#fb9f3a"
             ],
             [
              0.8888888888888888,
              "#fdca26"
             ],
             [
              1,
              "#f0f921"
             ]
            ],
            "type": "heatmapgl"
           }
          ],
          "histogram": [
           {
            "marker": {
             "pattern": {
              "fillmode": "overlay",
              "size": 10,
              "solidity": 0.2
             }
            },
            "type": "histogram"
           }
          ],
          "histogram2d": [
           {
            "colorbar": {
             "outlinewidth": 0,
             "ticks": ""
            },
            "colorscale": [
             [
              0,
              "#0d0887"
             ],
             [
              0.1111111111111111,
              "#46039f"
             ],
             [
              0.2222222222222222,
              "#7201a8"
             ],
             [
              0.3333333333333333,
              "#9c179e"
             ],
             [
              0.4444444444444444,
              "#bd3786"
             ],
             [
              0.5555555555555556,
              "#d8576b"
             ],
             [
              0.6666666666666666,
              "#ed7953"
             ],
             [
              0.7777777777777778,
              "#fb9f3a"
             ],
             [
              0.8888888888888888,
              "#fdca26"
             ],
             [
              1,
              "#f0f921"
             ]
            ],
            "type": "histogram2d"
           }
          ],
          "histogram2dcontour": [
           {
            "colorbar": {
             "outlinewidth": 0,
             "ticks": ""
            },
            "colorscale": [
             [
              0,
              "#0d0887"
             ],
             [
              0.1111111111111111,
              "#46039f"
             ],
             [
              0.2222222222222222,
              "#7201a8"
             ],
             [
              0.3333333333333333,
              "#9c179e"
             ],
             [
              0.4444444444444444,
              "#bd3786"
             ],
             [
              0.5555555555555556,
              "#d8576b"
             ],
             [
              0.6666666666666666,
              "#ed7953"
             ],
             [
              0.7777777777777778,
              "#fb9f3a"
             ],
             [
              0.8888888888888888,
              "#fdca26"
             ],
             [
              1,
              "#f0f921"
             ]
            ],
            "type": "histogram2dcontour"
           }
          ],
          "mesh3d": [
           {
            "colorbar": {
             "outlinewidth": 0,
             "ticks": ""
            },
            "type": "mesh3d"
           }
          ],
          "parcoords": [
           {
            "line": {
             "colorbar": {
              "outlinewidth": 0,
              "ticks": ""
             }
            },
            "type": "parcoords"
           }
          ],
          "pie": [
           {
            "automargin": true,
            "type": "pie"
           }
          ],
          "scatter": [
           {
            "fillpattern": {
             "fillmode": "overlay",
             "size": 10,
             "solidity": 0.2
            },
            "type": "scatter"
           }
          ],
          "scatter3d": [
           {
            "line": {
             "colorbar": {
              "outlinewidth": 0,
              "ticks": ""
             }
            },
            "marker": {
             "colorbar": {
              "outlinewidth": 0,
              "ticks": ""
             }
            },
            "type": "scatter3d"
           }
          ],
          "scattercarpet": [
           {
            "marker": {
             "colorbar": {
              "outlinewidth": 0,
              "ticks": ""
             }
            },
            "type": "scattercarpet"
           }
          ],
          "scattergeo": [
           {
            "marker": {
             "colorbar": {
              "outlinewidth": 0,
              "ticks": ""
             }
            },
            "type": "scattergeo"
           }
          ],
          "scattergl": [
           {
            "marker": {
             "colorbar": {
              "outlinewidth": 0,
              "ticks": ""
             }
            },
            "type": "scattergl"
           }
          ],
          "scattermapbox": [
           {
            "marker": {
             "colorbar": {
              "outlinewidth": 0,
              "ticks": ""
             }
            },
            "type": "scattermapbox"
           }
          ],
          "scatterpolar": [
           {
            "marker": {
             "colorbar": {
              "outlinewidth": 0,
              "ticks": ""
             }
            },
            "type": "scatterpolar"
           }
          ],
          "scatterpolargl": [
           {
            "marker": {
             "colorbar": {
              "outlinewidth": 0,
              "ticks": ""
             }
            },
            "type": "scatterpolargl"
           }
          ],
          "scatterternary": [
           {
            "marker": {
             "colorbar": {
              "outlinewidth": 0,
              "ticks": ""
             }
            },
            "type": "scatterternary"
           }
          ],
          "surface": [
           {
            "colorbar": {
             "outlinewidth": 0,
             "ticks": ""
            },
            "colorscale": [
             [
              0,
              "#0d0887"
             ],
             [
              0.1111111111111111,
              "#46039f"
             ],
             [
              0.2222222222222222,
              "#7201a8"
             ],
             [
              0.3333333333333333,
              "#9c179e"
             ],
             [
              0.4444444444444444,
              "#bd3786"
             ],
             [
              0.5555555555555556,
              "#d8576b"
             ],
             [
              0.6666666666666666,
              "#ed7953"
             ],
             [
              0.7777777777777778,
              "#fb9f3a"
             ],
             [
              0.8888888888888888,
              "#fdca26"
             ],
             [
              1,
              "#f0f921"
             ]
            ],
            "type": "surface"
           }
          ],
          "table": [
           {
            "cells": {
             "fill": {
              "color": "#EBF0F8"
             },
             "line": {
              "color": "white"
             }
            },
            "header": {
             "fill": {
              "color": "#C8D4E3"
             },
             "line": {
              "color": "white"
             }
            },
            "type": "table"
           }
          ]
         },
         "layout": {
          "annotationdefaults": {
           "arrowcolor": "#2a3f5f",
           "arrowhead": 0,
           "arrowwidth": 1
          },
          "autotypenumbers": "strict",
          "coloraxis": {
           "colorbar": {
            "outlinewidth": 0,
            "ticks": ""
           }
          },
          "colorscale": {
           "diverging": [
            [
             0,
             "#8e0152"
            ],
            [
             0.1,
             "#c51b7d"
            ],
            [
             0.2,
             "#de77ae"
            ],
            [
             0.3,
             "#f1b6da"
            ],
            [
             0.4,
             "#fde0ef"
            ],
            [
             0.5,
             "#f7f7f7"
            ],
            [
             0.6,
             "#e6f5d0"
            ],
            [
             0.7,
             "#b8e186"
            ],
            [
             0.8,
             "#7fbc41"
            ],
            [
             0.9,
             "#4d9221"
            ],
            [
             1,
             "#276419"
            ]
           ],
           "sequential": [
            [
             0,
             "#0d0887"
            ],
            [
             0.1111111111111111,
             "#46039f"
            ],
            [
             0.2222222222222222,
             "#7201a8"
            ],
            [
             0.3333333333333333,
             "#9c179e"
            ],
            [
             0.4444444444444444,
             "#bd3786"
            ],
            [
             0.5555555555555556,
             "#d8576b"
            ],
            [
             0.6666666666666666,
             "#ed7953"
            ],
            [
             0.7777777777777778,
             "#fb9f3a"
            ],
            [
             0.8888888888888888,
             "#fdca26"
            ],
            [
             1,
             "#f0f921"
            ]
           ],
           "sequentialminus": [
            [
             0,
             "#0d0887"
            ],
            [
             0.1111111111111111,
             "#46039f"
            ],
            [
             0.2222222222222222,
             "#7201a8"
            ],
            [
             0.3333333333333333,
             "#9c179e"
            ],
            [
             0.4444444444444444,
             "#bd3786"
            ],
            [
             0.5555555555555556,
             "#d8576b"
            ],
            [
             0.6666666666666666,
             "#ed7953"
            ],
            [
             0.7777777777777778,
             "#fb9f3a"
            ],
            [
             0.8888888888888888,
             "#fdca26"
            ],
            [
             1,
             "#f0f921"
            ]
           ]
          },
          "colorway": [
           "#636efa",
           "#EF553B",
           "#00cc96",
           "#ab63fa",
           "#FFA15A",
           "#19d3f3",
           "#FF6692",
           "#B6E880",
           "#FF97FF",
           "#FECB52"
          ],
          "font": {
           "color": "#2a3f5f"
          },
          "geo": {
           "bgcolor": "white",
           "lakecolor": "white",
           "landcolor": "#E5ECF6",
           "showlakes": true,
           "showland": true,
           "subunitcolor": "white"
          },
          "hoverlabel": {
           "align": "left"
          },
          "hovermode": "closest",
          "mapbox": {
           "style": "light"
          },
          "paper_bgcolor": "white",
          "plot_bgcolor": "#E5ECF6",
          "polar": {
           "angularaxis": {
            "gridcolor": "white",
            "linecolor": "white",
            "ticks": ""
           },
           "bgcolor": "#E5ECF6",
           "radialaxis": {
            "gridcolor": "white",
            "linecolor": "white",
            "ticks": ""
           }
          },
          "scene": {
           "xaxis": {
            "backgroundcolor": "#E5ECF6",
            "gridcolor": "white",
            "gridwidth": 2,
            "linecolor": "white",
            "showbackground": true,
            "ticks": "",
            "zerolinecolor": "white"
           },
           "yaxis": {
            "backgroundcolor": "#E5ECF6",
            "gridcolor": "white",
            "gridwidth": 2,
            "linecolor": "white",
            "showbackground": true,
            "ticks": "",
            "zerolinecolor": "white"
           },
           "zaxis": {
            "backgroundcolor": "#E5ECF6",
            "gridcolor": "white",
            "gridwidth": 2,
            "linecolor": "white",
            "showbackground": true,
            "ticks": "",
            "zerolinecolor": "white"
           }
          },
          "shapedefaults": {
           "line": {
            "color": "#2a3f5f"
           }
          },
          "ternary": {
           "aaxis": {
            "gridcolor": "white",
            "linecolor": "white",
            "ticks": ""
           },
           "baxis": {
            "gridcolor": "white",
            "linecolor": "white",
            "ticks": ""
           },
           "bgcolor": "#E5ECF6",
           "caxis": {
            "gridcolor": "white",
            "linecolor": "white",
            "ticks": ""
           }
          },
          "title": {
           "x": 0.05
          },
          "xaxis": {
           "automargin": true,
           "gridcolor": "white",
           "linecolor": "white",
           "ticks": "",
           "title": {
            "standoff": 15
           },
           "zerolinecolor": "white",
           "zerolinewidth": 2
          },
          "yaxis": {
           "automargin": true,
           "gridcolor": "white",
           "linecolor": "white",
           "ticks": "",
           "title": {
            "standoff": 15
           },
           "zerolinecolor": "white",
           "zerolinewidth": 2
          }
         }
        },
        "title": {
         "text": "PCA K-mean clustering of football players"
        },
        "xaxis": {
         "anchor": "y",
         "domain": [
          0,
          1
         ],
         "title": {
          "text": "PCA2"
         }
        },
        "yaxis": {
         "anchor": "x",
         "domain": [
          0,
          1
         ],
         "title": {
          "text": "PCA1"
         }
        }
       }
      },
      "text/html": [
       "<div>                            <div id=\"d4f705a0-fa74-4150-afa6-6b6cac09a7bd\" class=\"plotly-graph-div\" style=\"height:525px; width:100%;\"></div>            <script type=\"text/javascript\">                require([\"plotly\"], function(Plotly) {                    window.PLOTLYENV=window.PLOTLYENV || {};                                    if (document.getElementById(\"d4f705a0-fa74-4150-afa6-6b6cac09a7bd\")) {                    Plotly.newPlot(                        \"d4f705a0-fa74-4150-afa6-6b6cac09a7bd\",                        [{\"hovertemplate\":\"PCA2=%{x}\\u003cbr\\u003ePCA1=%{y}\\u003cbr\\u003ePCA Cluster=%{marker.color}\\u003cextra\\u003e\\u003c\\u002fextra\\u003e\",\"legendgroup\":\"\",\"marker\":{\"color\":[3,1,2,1,0,3,0,0,3,0,0,3,2,2,2,0,3,3,0,1,3,1,3,2,3,3,3,0,3,0,0,1,1,3,3,2,2,2,3,1,3,3,2,3,3,3,0,3,2,2,3,1,3,0,2,3,0,0,2,0,3,3,2,3,0,0,3,3,3,3,2,3,1,2,0,1,1,3,3,2,0,0,0,2,3,0,2,3,2,2,1,3,2,0,0,2,0,0,3,3,0,3,2,3,3,0,2,2,3,0,3,0,0,2,3,0,2,0,2,3,3,3,0,2,0,3,3,2,0,1,0,0,0,2,0,2,1,3,3,2,2,1,3,1,0,3,0,0,3,3,3,0,2,0,2,3,3,0,3,0,0,3,3,3,0,3,0,2,1,2,0,0,0,3,2,3,3,1,3,1,1,3,3,2,3,2,2,2,3,3,3,1,3,0,0,0,3,0,2,3,3,0,3,2,1,3,3,3,3,2,3,3,2,2,3,2,3,3,0,1,1,0,1,1,0,0,0,3,3,3,3,0,3,3,1,3,2,1,1,2,2,1,3,0,0,0,3,3,2,3,3,2,2,1,3,3,2,1,3,0,0,0,3,2,2,0,0,0,3,1,3,0,3,3,3,1,1,0,1,3,3,0,0,2,2,3,0,0,1,1,2,2,1,0,3,3,3,3,0,1,1,1,2,2,3,0,3,3,2,3,3,3,0,3,3,1,0,2,3,1,0,2,3,2,3,1,1,1,3,0,3,2,2,3,2,3,0,3,1,0,3,3,3,0,0,0,3,0,0,0,0,3,0,2,0,2,3,0,0,3,2,0,0,0,3,2,3,1,3,1,3,0,0,3,1,2,2,3,2,3,3,0,0,3,0,2,3,2,0,0,3,3,3,0,3,3,3,3,0,2,3,1,0,1,3,1,2,3,3,3,0,0,0,3,2,3,0,2,0,2,2,1,3,3,3,2,0,3,0,3,2,0,3,3,0,3,1,1,3,2,3,3,1,1,3,3,0,0,1,2,2,2,0,0,3,2,3,3,3,2,0,3,2,3,3,3,1,0,0,2,2,3,2,3,0,0],\"coloraxis\":\"coloraxis\",\"symbol\":\"circle\"},\"mode\":\"markers\",\"name\":\"\",\"orientation\":\"v\",\"showlegend\":false,\"x\":[0.5699391184372437,1.9995541118868478,-2.7574459090821626,1.0434411428434012,0.42218909774181473,0.14564953518042204,-0.04335233359370443,-0.5109807530866691,0.9153759681953553,0.43108044301296283,-0.8805489081618875,0.7512976198090876,-1.2711192665242688,-0.25244557793167094,-0.588375496852026,0.4954554856060761,0.590468219327065,0.590468219327065,-0.6623241991861303,1.7771870740873354,-0.3274768267494044,1.1022334928662132,0.5799861953209404,-1.8682378092947374,0.5377952604995316,0.5365198122745951,0.590468219327065,-0.5363696530280285,0.590468219327065,1.0599646522173303,-0.011292999900766784,1.392274204708686,1.1832084542300494,0.5875420861507556,0.6623676962024435,-1.928219346110371,-3.4394645573221068,-2.4504494981919964,0.590468219327065,2.0956706829278993,0.12225648842667655,0.5888538406536996,-1.0552961472762254,0.590468219327065,0.8467225367461916,0.10682112318932885,0.37562343919803326,-0.04273817104987196,-2.2724548189169447,-1.613295939315565,0.31979235710503157,2.4754275453206613,0.590468219327065,0.28626583394314475,-2.258434521793626,0.5747836982623414,0.5758000761944172,-0.08896612998684801,-1.826170900013396,0.08158539555864339,0.5639453682124093,0.611486525420095,-2.598116981424711,0.5302310972834151,-1.0842518248894557,1.3701517610203569,0.5066347021909914,0.15532965541442664,0.590468219327065,0.5884776056011387,-1.1001197863191605,0.5936094639678691,0.72283429230679,-1.318983315950012,-0.7814110247161729,0.98161270266989,0.6599095654147069,0.6386153743153247,0.5900734711881326,-2.063370254889223,-0.1338570267192864,-0.23115655609871538,0.486336742671023,-2.195178166639353,0.590468219327065,0.46626444917307613,-1.500819159294747,0.04796968150755889,-1.9257350706044678,-1.7737679340160395,1.247067367975455,0.4245610606618684,-1.1140025311748023,-0.14170577744679408,-0.7130911894501802,-2.47342836689384,0.27926616380921315,-0.3086766444531486,0.5244715452558082,0.5494602875525924,-0.25587549819672567,0.2518489070470456,-1.6547615239455775,-0.0664969345373982,0.5861414728048596,0.5444569665484514,-2.1200116155383073,-2.6287981475506412,0.28079258585121175,0.018148664192241783,0.41974695458683253,-0.929073454893662,-0.8430595357756986,0.04800264642659883,0.3879667207317104,0.8409240645620071,-1.0195236038781241,0.7707420615571764,-2.5585389764261603,0.4729293458681457,0.590468219327065,0.5037543641091586,0.6351283668003811,-0.18350917154510932,1.0033094758364753,0.590468219327065,0.00832063470696122,-0.7331621822449923,0.3861502309917338,1.2228455834447494,-1.0435614350727662,-1.259835688449301,0.9782987891872732,-0.33397153514617767,1.1806181356360181,-1.1779675405749552,2.0152005717311336,0.590468219327065,0.48033116937776926,-0.29433760895939226,-2.611181170151869,1.5625550413673224,0.590468219327065,0.2916168900683987,-1.0441099768269189,0.4930943167173729,-1.0303928503508242,-0.5888098693084426,-0.25708557497147433,-0.06417404751510257,0.641581530344278,0.02401346462846463,-1.7788671723435452,-0.46119104143391954,-1.5570270822653336,0.2706194953982938,0.5866617812400725,0.5827718365913328,0.590468219327065,-0.41787394617412077,-0.7611418187523781,0.590468219327065,0.590468219327065,0.590468219327065,-0.4805912119652772,0.590468219327065,-0.8585413624753064,-3.2959462069343335,1.1204245225747305,-0.9703803927187469,-0.07870161350076389,-1.4939793771502348,-0.6230331169633223,0.5584085963529046,-1.9778938812748408,0.36680279894442586,0.506934010881955,2.405791054400891,0.33281612970459695,0.6130159514706851,1.0099685710246231,0.5503042659699419,0.5381949474061227,-2.622386224310045,0.5093611344694129,-0.4605859286799491,-1.696496213558041,-1.9930808971942682,0.598142818627278,0.5864813371116347,0.5281182863483577,1.0494866284013005,-0.1110149488307726,-0.47158717320770666,-0.7878493204641058,-0.9022217517478487,0.590468219327065,-0.345756698950984,-0.9161740545708635,0.33626267974298124,0.497358758549218,0.5690117649545403,0.4535451327790148,-3.266411915757491,0.9864319803306635,0.590468219327065,0.08004192865792782,0.590468219327065,0.590468219327065,-1.3199587385050313,0.590468219327065,0.5746073717112389,-1.6785717875507837,-2.796347419896526,0.590468219327065,-0.244916973348823,0.5772025907161986,0.7829276734693534,-1.4303047400385687,3.0185333111658124,1.6648303963645366,-0.5998013831311776,1.8162430665227913,-0.868479191511595,0.11116097651888557,0.27247858425594157,-1.073919146862885,0.7292604812106018,-0.14345758319021346,0.14559522552651416,0.587365551796961,0.3750212898442131,0.590468219327065,0.2915955126673394,1.5739158060458847,0.574151467623041,-0.679511802711954,1.4353608497920143,3.2216042444862687,-1.3447202399327005,-3.323514756385823,2.1157042533853514,-0.09010744069858252,0.5880589172532811,-0.7490372852902782,-0.09966209032864486,0.5366917145622426,0.5862716863597404,-0.6845897751713632,0.590468219327065,0.5776037531164838,-1.4840762050546947,-0.8552937379254667,-0.7553439561249848,0.17563089251274122,0.6434690152105477,-2.395527260407315,-0.4802492959952113,0.36979183816069966,0.1761959366610534,-0.6537727532842152,1.494603903698333,0.5314044063692591,-1.7955386860117053,-1.3907322046741988,0.08670124153795498,0.4331273121271487,-0.4600140905919001,-0.04902420726129928,3.8168276357904136,0.22463136984308588,-0.5695858093759023,0.4387571447944927,-0.21146713971577658,-0.009674473006632453,1.9846138689406077,2.926073172091749,-0.7215851464243997,0.3724515164844873,0.2706850434709299,0.5833469437270936,-0.6508379796597286,0.16504864577665204,0.5010403935152185,-3.0953962837708304,0.12423668133558928,-0.14749757412096431,1.3357369623495672,1.8141718122203456,1.8895583464838839,-0.24467571171233937,-0.9413882970133095,2.5911568195388406,-0.9643380639765525,0.4822669139797149,0.590468219327065,-0.14655885019278436,0.590468219327065,-0.667053048800628,2.4552189256621304,2.2995057172814137,2.0881965305979704,-1.136223599163267,-2.0231516142678805,0.461662984570384,1.0162527972743765,0.590468219327065,0.5235148280783152,-1.4356883222125503,0.343896735534762,0.5814572457295221,0.649558820445281,1.5018882409312853,0.16901500652591786,0.46135298405761344,3.860644704225676,0.633325261559219,-2.0766358337019653,0.4997349962072937,1.8053631990110561,-0.3974959929348471,-1.487137831445346,0.5850685224571774,-1.6984585036129423,0.8503781632020334,-0.1978304410765737,1.9074523022346606,1.1549457497716877,0.590468219327065,-0.40319001163768253,0.5637782344529665,0.6231020013785404,-0.48499960428748795,0.584731000556461,-1.8515030389966216,0.5884776056011387,0.4675826964324399,0.6835753679471258,1.8907968874970942,-1.211832271253734,0.21065192789137252,0.8116724400791532,0.590644731290022,-0.6947265408749382,-0.4460743245454881,-1.6665221067791158,0.590468219327065,-1.1751544109193939,-0.023820400481023928,-0.6950199643204461,-1.0431217335319927,-0.31488018188700334,0.2727529367445027,-1.0287805964916987,0.7431412140163028,-2.1085380446206603,0.590468219327065,-0.7446268903339452,0.2935043170348325,0.17978968283582333,-0.47544661485928064,-0.5569082898149497,0.40649765439945024,-0.4083361019884705,0.590468219327065,-2.8524231409465894,0.573593188514041,1.2643493370416294,0.5367944738309659,1.5671951807051696,-0.2757416035356729,-0.46544633038115085,-1.2246260970655047,0.5263839723189384,-0.4349937683045388,-2.6209491522939126,-1.5045889027967556,0.590468219327065,-1.388130699855335,0.523676901264626,-0.2794450001342164,-0.23922435566220546,0.25079902577675894,0.5525586549746846,-0.786926047115325,-1.7840896838535218,0.3054731177164796,-0.44063912020250184,0.3183245517302267,0.26880958900475177,0.40349242929754825,0.46302833934158955,0.39197199378465086,-0.353878321225338,0.590468219327065,0.6408729664108213,0.5884776056011387,0.590468219327065,-0.8571331906852367,-2.0293603928794806,0.3961811726824343,2.036286825165963,0.10916018004829885,4.449531864485321,-0.21635385702677862,2.820206507807794,-3.2560080893832644,0.0807216330997517,-0.21270551278514768,0.590468219327065,0.7203544132007398,-0.19735209045939126,-0.8682564354090178,0.590468219327065,-1.9884523319845164,0.590468219327065,-0.2068112511084985,-0.5237873113254394,0.3081124813788749,-0.5630301195209827,-1.5819475930358573,-0.4502367457111668,0.590468219327065,0.590468219327065,0.48454919458083995,-1.4504832787626643,-0.06011092301201204,0.19125498811292035,-0.8957392832781753,0.29898369167218414,-1.5969201795994854,-0.6063125216585737,0.5874395034123328,0.590468219327065,-0.5869122571683568,0.590468219327065,1.0327607922216602,1.8164144078363547,0.590468219327065,-2.9082422594574844,0.5721252035427626,-0.05627932614241641,2.2156334057165545,0.5788492541293612,0.590468219327065,0.44537865127715637,0.8310153492529033,0.6020879764845543,-0.18661128682385747,-0.7369205460552565,-0.07042525278048137,-2.8453979830485574,0.1035768956377896,1.2323754233985391,0.0330668929790222,-1.1674085537028087,0.5068381992855225,0.23512771215655404,0.09630412996840589,-1.2179174776117505,-0.34868834557839096,0.6187906638176023,-1.4147979726618967,0.5811027153505426,0.5277252229617465,0.5844959369939061,1.0571666374428201,0.7888062298546603,-0.14905376829653944,-1.2949800849056683,-0.763734318578676,0.3501794285342182,-3.137872887395063,0.4692432016317231,0.18094045649407134,-1.0328693993110303],\"xaxis\":\"x\",\"y\":[-2.9166003891887553,3.815468342817602,1.943395925772461,3.502426563534147,-1.1536385167576493,-1.562503341135675,0.6392572058641565,-1.0318956731771574,-1.3897236624320708,0.7379878277744711,0.5228083975422636,-1.2729721508249814,1.0408576328982486,1.7173472174645117,1.6038816234131588,-0.7449846210768728,-2.9500708683228507,-2.9500708683228507,-0.6863068437564807,2.364044983527851,-1.6749362952918732,3.4587491253239913,-2.8879201265447865,1.4764420322467586,-2.8742972533917492,-2.8795676581071064,-2.9500708683228507,-0.42027989846613795,-2.9500708683228507,1.0520115280096238,-1.3398876400644164,2.427166169284205,3.96268125310006,-2.9230028592260235,-1.9974132994541312,1.3511829987378203,4.213756284074736,2.4134825462258953,-2.9500708683228507,5.5263510529368265,-1.9059601952750385,-2.942058506357515,3.6796861892918993,-2.9500708683228507,-2.075967753212408,-1.7111770884549828,-0.13008440134791588,-1.769666374294228,3.7120720246285215,1.71047903651502,-2.564159130455982,7.579022741905363,-2.9500708683228507,1.218857222584576,2.986799269624758,-2.8815138739079615,-1.161967364690102,-0.016170282938276288,0.8590449672943122,-0.60255949533679,-1.7744928318230653,-2.654629079998383,1.7060072153405212,-2.6562798867410407,0.1654623021547247,1.916714563649103,-2.6976781636848037,-1.9588024569676488,-2.9500708683228507,-2.9426476892766615,1.533883488415219,-2.928233676568303,4.332134313653168,3.2398912002525275,-1.4133550637370405,3.553818386257509,4.050067477606943,-2.6412706973759854,-2.939853363433913,0.9001502237093719,0.9976168430305062,-1.0653910542282794,-0.9610318307049132,1.5577745675091268,-2.9500708683228507,0.229738340742308,3.5436469358729137,-2.4449241084726463,1.9164360967674552,1.229849088698261,4.676895919558686,-2.6495060650378846,3.625741775114276,-0.6357701061735735,-1.1436121186971269,2.6350153042207523,-0.1804194738591824,-0.5638781326333161,-2.403119496422193,-2.8962746288691297,-0.5843245519901922,-2.5508386761287927,1.2585652622779515,-2.1116341995759695,-2.9349149065805538,0.0877182594695542,2.132539350426909,2.6365081880267582,-2.627956183162415,-0.8029338410386522,-2.7658197030723506,-0.209354822219057,0.5482281841743618,3.2358044469853025,-2.5876050262791597,0.1639405247596182,2.071227824065325,1.4697192808641504,1.5661516766841266,-2.7662498690140778,-2.9500708683228507,-2.8634697495741728,0.9433357189695538,2.764562949773984,1.4198952696977167,-2.9500708683228507,-1.8793771482062944,1.4453504286501406,-0.2707776657517661,6.149983820686715,0.28080398169357235,0.6378134857630495,-0.6489108526202284,2.8466814196021697,0.5188319634635714,1.1961267800581616,4.883456149953627,-2.9500708683228507,-2.8529619929121064,2.433000320843467,1.423491917377497,3.023452478337958,-2.9500708683228507,3.992082295972512,0.2948678823583477,-2.848508300630605,0.09144883590424424,-0.35168365205139246,-1.8242901930800215,-2.0023328151672306,-2.362739618528205,0.453206366201295,0.6038803401758299,1.1038179261546335,1.0286095375856628,-2.6300877673059646,-2.939770082784137,-1.025236611215683,-2.9500708683228507,-1.3994513574695893,0.23409418968510576,-2.9500708683228507,-2.9500708683228507,-2.9500708683228507,-0.9315227765121785,-2.9500708683228507,0.09531237488573738,2.604200843944392,4.317558790355792,1.4912509160796001,0.07225957745634651,-0.10949063636835511,-0.6066557532085322,-2.8642631061622974,1.6728022708787036,-1.8720054151332246,-2.8310789670116483,6.34895718193565,-2.6149464292998044,3.5104618839575825,2.4917921835746393,-2.8885922722054556,-2.8400799316140883,1.5164693469104984,-2.7382964267759164,3.8121258212714393,0.6644758833278075,2.910464562087028,-2.920026662580125,-2.939722079724448,-2.8649268188358543,4.71705803534648,-1.888150962786818,0.5098064439952467,-0.789598805883217,0.45147275090400685,-2.9500708683228507,-0.9167998388475659,2.214411205200952,-2.4635686410966526,-2.6929795320364414,0.0018154153413519846,-2.4085073112758475,3.2954302792623413,5.795921884957693,-2.9500708683228507,-2.269169939273445,-2.9500708683228507,-2.9500708683228507,1.388338131005751,-2.9500708683228507,-2.921876576616648,0.6167731500440472,2.739564585292086,-2.9500708683228507,2.6183076312936424,-2.9251751060591564,-1.7469900649857937,0.4522888657392972,7.921883163955222,4.979157897269966,-1.052772415826537,2.0934049341874337,4.957549805975589,-0.43860743284014736,0.17029413454911532,0.008465532322643165,-2.1612391482882094,-1.8299550723973916,-1.9097019338841636,-2.9327926787085468,-1.268989197148809,-2.9500708683228507,-2.482840498839579,3.369822032800963,-2.89855067829189,1.7290302187483568,4.217864343983339,7.279913950412186,1.8588788646411107,2.083633095470293,3.1454515273918995,-1.5252810715166993,1.2792411893911015,-0.9759708039592854,-1.2850620018345353,-2.8614786314764533,-2.9377363461330144,1.7512456271859835,-2.9500708683228507,-2.9197346382980713,0.595134076510788,1.5279063063300973,4.721991797314219,-2.363742754112119,-2.2298853976031494,2.085139963727796,5.4862207274127455,-2.655642099945265,-0.46973942342102976,-1.357898287417668,1.131563714827415,-2.631754145079026,0.8166655070012347,1.7507245470337458,-0.8636923959626921,-1.2081184753893266,-0.02134326054625235,-2.271247751776546,8.922489336866237,-2.064334947177908,-0.3351525349265659,-2.5604118863812806,-1.8668595956389615,-1.9236527997522448,5.787007059360687,6.807835586363033,0.27475802110292186,5.96163430452588,-2.140947056320126,-1.4996738164939518,-0.7377629613417944,-0.5151218682854658,2.3933182199042644,2.149117968936846,-2.4389969476072446,-0.10872494167712106,1.3752225357792853,3.791100122565407,5.047071493345353,3.5896041034069057,1.6527562727138292,5.846368424743309,0.6376542264249293,-2.851281732206295,-2.9500708683228507,-1.5998751133770095,-2.9500708683228507,-0.06617470024401519,3.796146882405188,5.50291808955326,4.702515224316963,2.4354927756852507,2.5506881121873364,-2.7150878030763033,-0.8696557267987007,-2.9500708683228507,-2.876543440997635,3.6799078912921313,-1.4207713205303247,-2.583435946139744,-2.484434713107953,1.357288185283437,-2.493451740220986,-2.7245941824329036,10.712050067788443,-0.858124682155064,0.4839238321296718,-1.7559035773669753,2.0634545262877486,-1.331749969708664,1.0454504472612158,-2.9389108601858553,2.7682964950492237,-1.4435467981704706,4.147972024796114,6.224860987635425,2.1888840275566874,-2.9500708683228507,-1.0779483476693636,-2.9193083888914932,2.00728001509789,1.5233114362653983,-2.931499481668691,1.046890505559373,-2.9426476892766615,1.5199413490578153,-1.7502526414092814,4.167686898646296,-0.3141381930470659,-2.3919996011507454,-1.606957626493732,-2.939809457332343,-0.6693012342345566,-1.226254024554898,0.31440515916441353,-2.9500708683228507,-0.5020400615634221,0.8039231420000091,-0.4210785972949558,-0.22405525223147424,-1.723376195973267,1.2149624441783533,1.7128711872330464,0.6270873746404096,0.6229396425027018,-2.9500708683228507,-0.9042140426551611,0.14092153007563335,-2.451952282230942,2.2279765819891155,-1.0154343759280555,-0.5203280757525939,-0.8396437422381019,-2.9500708683228507,1.525851670360109,-2.9124499605085576,4.860389976703175,-2.773649904355854,4.319948740868804,-1.9100847637368297,-1.3944741747596214,-0.18635096699641773,-2.864970992895159,6.137912393938603,2.41004072633317,1.612945485523585,-2.9500708683228507,1.9008624773243143,-2.8424287219084396,-1.9182878215708759,-0.7122096019954802,0.8132331769887334,-1.2999973932452806,0.08851694163158758,1.2254811195098856,-2.5780378827660115,3.3635304178129113,-0.8778798798044776,0.7486004304037883,-2.7280759948593345,-2.7507006435422072,-1.4986210504967392,-0.7785188370319607,-2.9500708683228507,-2.339024598202601,-2.9426476892766615,-2.9500708683228507,-0.7737274742164976,0.6658748448248837,-1.4202842154807684,2.3161448888747795,-1.0402523262249233,10.737170430896603,-1.8932302828707217,8.746736640991953,2.7035668159154067,-2.240442850175857,-1.7761298194689947,-2.9500708683228507,0.7234228073332433,-0.6105369290886175,-0.8508161771101042,-2.9500708683228507,2.9495575739085096,-2.9500708683228507,0.6943979512867962,1.4706373146969296,-0.32167749496616416,1.7698068727817042,0.8834048202593345,4.987356803595869,-2.9500708683228507,-2.9500708683228507,-2.1450066304043145,1.2670483838976327,-0.8037599137584766,-2.0408895177118946,0.36635035187729437,-2.605192366267919,1.848963759308326,-1.1452423988924674,-2.9297484419194078,-2.9500708683228507,-0.8938239966094843,-2.9500708683228507,3.856720231532254,2.4018825913616606,-2.9500708683228507,2.0769553287385496,-1.7895604402815612,-2.0416894257252114,3.789965080151008,3.4371300170198182,-2.9500708683228507,-1.6566917286079694,0.6814420504174921,-0.7623147469762327,5.037859430591788,3.8642754104363526,2.778082621041531,1.9949057446747782,1.0279596730232514,0.6441614859993663,-2.161551013804,1.5272018664140818,-2.841340239927045,-2.352005248233979,-2.246597549518851,1.3295217423951304,-0.5598166672682197,-1.9682042045878017,2.769468395321267,-2.9347720279385388,-2.496157740808422,-2.9249918037961984,4.510516668505645,-0.515138481432751,-0.20367949827506737,1.8572762725620127,2.8836971523832884,-2.6869292793929986,2.333558542071781,-1.9666300209126941,-0.8179997111540207,0.2615435221807503],\"yaxis\":\"y\",\"type\":\"scatter\",\"textposition\":\"top center\"}],                        {\"template\":{\"data\":{\"histogram2dcontour\":[{\"type\":\"histogram2dcontour\",\"colorbar\":{\"outlinewidth\":0,\"ticks\":\"\"},\"colorscale\":[[0.0,\"#0d0887\"],[0.1111111111111111,\"#46039f\"],[0.2222222222222222,\"#7201a8\"],[0.3333333333333333,\"#9c179e\"],[0.4444444444444444,\"#bd3786\"],[0.5555555555555556,\"#d8576b\"],[0.6666666666666666,\"#ed7953\"],[0.7777777777777778,\"#fb9f3a\"],[0.8888888888888888,\"#fdca26\"],[1.0,\"#f0f921\"]]}],\"choropleth\":[{\"type\":\"choropleth\",\"colorbar\":{\"outlinewidth\":0,\"ticks\":\"\"}}],\"histogram2d\":[{\"type\":\"histogram2d\",\"colorbar\":{\"outlinewidth\":0,\"ticks\":\"\"},\"colorscale\":[[0.0,\"#0d0887\"],[0.1111111111111111,\"#46039f\"],[0.2222222222222222,\"#7201a8\"],[0.3333333333333333,\"#9c179e\"],[0.4444444444444444,\"#bd3786\"],[0.5555555555555556,\"#d8576b\"],[0.6666666666666666,\"#ed7953\"],[0.7777777777777778,\"#fb9f3a\"],[0.8888888888888888,\"#fdca26\"],[1.0,\"#f0f921\"]]}],\"heatmap\":[{\"type\":\"heatmap\",\"colorbar\":{\"outlinewidth\":0,\"ticks\":\"\"},\"colorscale\":[[0.0,\"#0d0887\"],[0.1111111111111111,\"#46039f\"],[0.2222222222222222,\"#7201a8\"],[0.3333333333333333,\"#9c179e\"],[0.4444444444444444,\"#bd3786\"],[0.5555555555555556,\"#d8576b\"],[0.6666666666666666,\"#ed7953\"],[0.7777777777777778,\"#fb9f3a\"],[0.8888888888888888,\"#fdca26\"],[1.0,\"#f0f921\"]]}],\"heatmapgl\":[{\"type\":\"heatmapgl\",\"colorbar\":{\"outlinewidth\":0,\"ticks\":\"\"},\"colorscale\":[[0.0,\"#0d0887\"],[0.1111111111111111,\"#46039f\"],[0.2222222222222222,\"#7201a8\"],[0.3333333333333333,\"#9c179e\"],[0.4444444444444444,\"#bd3786\"],[0.5555555555555556,\"#d8576b\"],[0.6666666666666666,\"#ed7953\"],[0.7777777777777778,\"#fb9f3a\"],[0.8888888888888888,\"#fdca26\"],[1.0,\"#f0f921\"]]}],\"contourcarpet\":[{\"type\":\"contourcarpet\",\"colorbar\":{\"outlinewidth\":0,\"ticks\":\"\"}}],\"contour\":[{\"type\":\"contour\",\"colorbar\":{\"outlinewidth\":0,\"ticks\":\"\"},\"colorscale\":[[0.0,\"#0d0887\"],[0.1111111111111111,\"#46039f\"],[0.2222222222222222,\"#7201a8\"],[0.3333333333333333,\"#9c179e\"],[0.4444444444444444,\"#bd3786\"],[0.5555555555555556,\"#d8576b\"],[0.6666666666666666,\"#ed7953\"],[0.7777777777777778,\"#fb9f3a\"],[0.8888888888888888,\"#fdca26\"],[1.0,\"#f0f921\"]]}],\"surface\":[{\"type\":\"surface\",\"colorbar\":{\"outlinewidth\":0,\"ticks\":\"\"},\"colorscale\":[[0.0,\"#0d0887\"],[0.1111111111111111,\"#46039f\"],[0.2222222222222222,\"#7201a8\"],[0.3333333333333333,\"#9c179e\"],[0.4444444444444444,\"#bd3786\"],[0.5555555555555556,\"#d8576b\"],[0.6666666666666666,\"#ed7953\"],[0.7777777777777778,\"#fb9f3a\"],[0.8888888888888888,\"#fdca26\"],[1.0,\"#f0f921\"]]}],\"mesh3d\":[{\"type\":\"mesh3d\",\"colorbar\":{\"outlinewidth\":0,\"ticks\":\"\"}}],\"scatter\":[{\"fillpattern\":{\"fillmode\":\"overlay\",\"size\":10,\"solidity\":0.2},\"type\":\"scatter\"}],\"parcoords\":[{\"type\":\"parcoords\",\"line\":{\"colorbar\":{\"outlinewidth\":0,\"ticks\":\"\"}}}],\"scatterpolargl\":[{\"type\":\"scatterpolargl\",\"marker\":{\"colorbar\":{\"outlinewidth\":0,\"ticks\":\"\"}}}],\"bar\":[{\"error_x\":{\"color\":\"#2a3f5f\"},\"error_y\":{\"color\":\"#2a3f5f\"},\"marker\":{\"line\":{\"color\":\"#E5ECF6\",\"width\":0.5},\"pattern\":{\"fillmode\":\"overlay\",\"size\":10,\"solidity\":0.2}},\"type\":\"bar\"}],\"scattergeo\":[{\"type\":\"scattergeo\",\"marker\":{\"colorbar\":{\"outlinewidth\":0,\"ticks\":\"\"}}}],\"scatterpolar\":[{\"type\":\"scatterpolar\",\"marker\":{\"colorbar\":{\"outlinewidth\":0,\"ticks\":\"\"}}}],\"histogram\":[{\"marker\":{\"pattern\":{\"fillmode\":\"overlay\",\"size\":10,\"solidity\":0.2}},\"type\":\"histogram\"}],\"scattergl\":[{\"type\":\"scattergl\",\"marker\":{\"colorbar\":{\"outlinewidth\":0,\"ticks\":\"\"}}}],\"scatter3d\":[{\"type\":\"scatter3d\",\"line\":{\"colorbar\":{\"outlinewidth\":0,\"ticks\":\"\"}},\"marker\":{\"colorbar\":{\"outlinewidth\":0,\"ticks\":\"\"}}}],\"scattermapbox\":[{\"type\":\"scattermapbox\",\"marker\":{\"colorbar\":{\"outlinewidth\":0,\"ticks\":\"\"}}}],\"scatterternary\":[{\"type\":\"scatterternary\",\"marker\":{\"colorbar\":{\"outlinewidth\":0,\"ticks\":\"\"}}}],\"scattercarpet\":[{\"type\":\"scattercarpet\",\"marker\":{\"colorbar\":{\"outlinewidth\":0,\"ticks\":\"\"}}}],\"carpet\":[{\"aaxis\":{\"endlinecolor\":\"#2a3f5f\",\"gridcolor\":\"white\",\"linecolor\":\"white\",\"minorgridcolor\":\"white\",\"startlinecolor\":\"#2a3f5f\"},\"baxis\":{\"endlinecolor\":\"#2a3f5f\",\"gridcolor\":\"white\",\"linecolor\":\"white\",\"minorgridcolor\":\"white\",\"startlinecolor\":\"#2a3f5f\"},\"type\":\"carpet\"}],\"table\":[{\"cells\":{\"fill\":{\"color\":\"#EBF0F8\"},\"line\":{\"color\":\"white\"}},\"header\":{\"fill\":{\"color\":\"#C8D4E3\"},\"line\":{\"color\":\"white\"}},\"type\":\"table\"}],\"barpolar\":[{\"marker\":{\"line\":{\"color\":\"#E5ECF6\",\"width\":0.5},\"pattern\":{\"fillmode\":\"overlay\",\"size\":10,\"solidity\":0.2}},\"type\":\"barpolar\"}],\"pie\":[{\"automargin\":true,\"type\":\"pie\"}]},\"layout\":{\"autotypenumbers\":\"strict\",\"colorway\":[\"#636efa\",\"#EF553B\",\"#00cc96\",\"#ab63fa\",\"#FFA15A\",\"#19d3f3\",\"#FF6692\",\"#B6E880\",\"#FF97FF\",\"#FECB52\"],\"font\":{\"color\":\"#2a3f5f\"},\"hovermode\":\"closest\",\"hoverlabel\":{\"align\":\"left\"},\"paper_bgcolor\":\"white\",\"plot_bgcolor\":\"#E5ECF6\",\"polar\":{\"bgcolor\":\"#E5ECF6\",\"angularaxis\":{\"gridcolor\":\"white\",\"linecolor\":\"white\",\"ticks\":\"\"},\"radialaxis\":{\"gridcolor\":\"white\",\"linecolor\":\"white\",\"ticks\":\"\"}},\"ternary\":{\"bgcolor\":\"#E5ECF6\",\"aaxis\":{\"gridcolor\":\"white\",\"linecolor\":\"white\",\"ticks\":\"\"},\"baxis\":{\"gridcolor\":\"white\",\"linecolor\":\"white\",\"ticks\":\"\"},\"caxis\":{\"gridcolor\":\"white\",\"linecolor\":\"white\",\"ticks\":\"\"}},\"coloraxis\":{\"colorbar\":{\"outlinewidth\":0,\"ticks\":\"\"}},\"colorscale\":{\"sequential\":[[0.0,\"#0d0887\"],[0.1111111111111111,\"#46039f\"],[0.2222222222222222,\"#7201a8\"],[0.3333333333333333,\"#9c179e\"],[0.4444444444444444,\"#bd3786\"],[0.5555555555555556,\"#d8576b\"],[0.6666666666666666,\"#ed7953\"],[0.7777777777777778,\"#fb9f3a\"],[0.8888888888888888,\"#fdca26\"],[1.0,\"#f0f921\"]],\"sequentialminus\":[[0.0,\"#0d0887\"],[0.1111111111111111,\"#46039f\"],[0.2222222222222222,\"#7201a8\"],[0.3333333333333333,\"#9c179e\"],[0.4444444444444444,\"#bd3786\"],[0.5555555555555556,\"#d8576b\"],[0.6666666666666666,\"#ed7953\"],[0.7777777777777778,\"#fb9f3a\"],[0.8888888888888888,\"#fdca26\"],[1.0,\"#f0f921\"]],\"diverging\":[[0,\"#8e0152\"],[0.1,\"#c51b7d\"],[0.2,\"#de77ae\"],[0.3,\"#f1b6da\"],[0.4,\"#fde0ef\"],[0.5,\"#f7f7f7\"],[0.6,\"#e6f5d0\"],[0.7,\"#b8e186\"],[0.8,\"#7fbc41\"],[0.9,\"#4d9221\"],[1,\"#276419\"]]},\"xaxis\":{\"gridcolor\":\"white\",\"linecolor\":\"white\",\"ticks\":\"\",\"title\":{\"standoff\":15},\"zerolinecolor\":\"white\",\"automargin\":true,\"zerolinewidth\":2},\"yaxis\":{\"gridcolor\":\"white\",\"linecolor\":\"white\",\"ticks\":\"\",\"title\":{\"standoff\":15},\"zerolinecolor\":\"white\",\"automargin\":true,\"zerolinewidth\":2},\"scene\":{\"xaxis\":{\"backgroundcolor\":\"#E5ECF6\",\"gridcolor\":\"white\",\"linecolor\":\"white\",\"showbackground\":true,\"ticks\":\"\",\"zerolinecolor\":\"white\",\"gridwidth\":2},\"yaxis\":{\"backgroundcolor\":\"#E5ECF6\",\"gridcolor\":\"white\",\"linecolor\":\"white\",\"showbackground\":true,\"ticks\":\"\",\"zerolinecolor\":\"white\",\"gridwidth\":2},\"zaxis\":{\"backgroundcolor\":\"#E5ECF6\",\"gridcolor\":\"white\",\"linecolor\":\"white\",\"showbackground\":true,\"ticks\":\"\",\"zerolinecolor\":\"white\",\"gridwidth\":2}},\"shapedefaults\":{\"line\":{\"color\":\"#2a3f5f\"}},\"annotationdefaults\":{\"arrowcolor\":\"#2a3f5f\",\"arrowhead\":0,\"arrowwidth\":1},\"geo\":{\"bgcolor\":\"white\",\"landcolor\":\"#E5ECF6\",\"subunitcolor\":\"white\",\"showland\":true,\"showlakes\":true,\"lakecolor\":\"white\"},\"title\":{\"x\":0.05},\"mapbox\":{\"style\":\"light\"}}},\"xaxis\":{\"anchor\":\"y\",\"domain\":[0.0,1.0],\"title\":{\"text\":\"PCA2\"}},\"yaxis\":{\"anchor\":\"x\",\"domain\":[0.0,1.0],\"title\":{\"text\":\"PCA1\"}},\"coloraxis\":{\"colorbar\":{\"title\":{\"text\":\"PCA Cluster\"}},\"colorscale\":[[0.0,\"#0d0887\"],[0.1111111111111111,\"#46039f\"],[0.2222222222222222,\"#7201a8\"],[0.3333333333333333,\"#9c179e\"],[0.4444444444444444,\"#bd3786\"],[0.5555555555555556,\"#d8576b\"],[0.6666666666666666,\"#ed7953\"],[0.7777777777777778,\"#fb9f3a\"],[0.8888888888888888,\"#fdca26\"],[1.0,\"#f0f921\"]]},\"legend\":{\"tracegroupgap\":0},\"title\":{\"text\":\"PCA K-mean clustering of football players\"}},                        {\"responsive\": true}                    ).then(function(){\n",
       "                            \n",
       "var gd = document.getElementById('d4f705a0-fa74-4150-afa6-6b6cac09a7bd');\n",
       "var x = new MutationObserver(function (mutations, observer) {{\n",
       "        var display = window.getComputedStyle(gd).display;\n",
       "        if (!display || display === 'none') {{\n",
       "            console.log([gd, 'removed!']);\n",
       "            Plotly.purge(gd);\n",
       "            observer.disconnect();\n",
       "        }}\n",
       "}});\n",
       "\n",
       "// Listen for the removal of the full notebook cells\n",
       "var notebookContainer = gd.closest('#notebook-container');\n",
       "if (notebookContainer) {{\n",
       "    x.observe(notebookContainer, {childList: true});\n",
       "}}\n",
       "\n",
       "// Listen for the clearing of the current output cell\n",
       "var outputEl = gd.closest('.output');\n",
       "if (outputEl) {{\n",
       "    x.observe(outputEl, {childList: true});\n",
       "}}\n",
       "\n",
       "                        })                };                });            </script>        </div>"
      ]
     },
     "metadata": {},
     "output_type": "display_data"
    }
   ],
   "source": [
    "\n",
    "fig = px.scatter(df_original_pca,x=\"PCA2\",y=\"PCA1\",color=\"PCA Cluster\",title=\"PCA K-mean clustering of football players\")\n",
    "fig.update_traces(textposition='top center')\n",
    "fig.show()"
   ]
  },
  {
   "cell_type": "code",
   "execution_count": 85,
   "metadata": {},
   "outputs": [],
   "source": [
    "df_0 = df_original_pca.loc[df_original_pca['PCA Cluster']==0].sort_values(by=[\"Goals_Scored\",\"Assists\"],ascending=False)\n",
    "df_1 = df_original_pca.loc[df_original_pca['PCA Cluster']==1].sort_values(by=[\"Goals_Scored\",\"Assists\"],ascending=False)\n",
    "df_2 = df_original_pca.loc[df_original_pca['PCA Cluster']==2].sort_values(by=[\"Goals_Scored\",\"Assists\"],ascending=False)\n",
    "df_3 = df_original_pca.loc[df_original_pca['PCA Cluster']==3].sort_values(by=[\"Goals_Scored\",\"Assists\"],ascending=False)"
   ]
  },
  {
   "cell_type": "code",
   "execution_count": 89,
   "metadata": {},
   "outputs": [],
   "source": [
    "Avg_Goal_Scored_0 = df_0[\"Goals_Scored\"].mean()\n",
    "Avg_Goal_Scored_1 = df_1[\"Goals_Scored\"].mean()\n",
    "Avg_Goal_Scored_2 = df_2[\"Goals_Scored\"].mean()\n",
    "Avg_Goal_Scored_3 = df_3[\"Goals_Scored\"].mean()"
   ]
  },
  {
   "cell_type": "code",
   "execution_count": 90,
   "metadata": {},
   "outputs": [
    {
     "name": "stdout",
     "output_type": "stream",
     "text": [
      "-0.1336669901508698 2.0973706341016336 -0.15757172378772422 -0.5105553726107641\n"
     ]
    }
   ],
   "source": [
    "print(Avg_Goal_Scored_0,Avg_Goal_Scored_1,Avg_Goal_Scored_2,Avg_Goal_Scored_3)"
   ]
  },
  {
   "cell_type": "code",
   "execution_count": 87,
   "metadata": {},
   "outputs": [],
   "source": [
    "Cluster_0 = df_0[\"Player_Name\"].tolist()[:5]\n",
    "Cluster_1 = df_1[\"Player_Name\"].tolist()[:5]\n",
    "Cluster_2 = df_2[\"Player_Name\"].tolist()[:5]\n",
    "Cluster_3 = df_3[\"Player_Name\"].tolist()[:5]"
   ]
  },
  {
   "cell_type": "code",
   "execution_count": 88,
   "metadata": {},
   "outputs": [
    {
     "name": "stdout",
     "output_type": "stream",
     "text": [
      "['Diogo Jota', 'Joseph Willock', 'Ferran Torres', 'Danny Welbeck', 'Tammy Abraham'] ['Harry Kane', 'Mohamed Salah', 'Bruno Fernandes', 'Patrick Bamford', 'Heung-Min Son'] ['Jorge Luiz Frello Filho', 'Ruben Neves', 'Lewis Dunk', 'Kurt Zouma', 'Stuart Armstrong'] ['Edward Nketiah', 'Gabriel Teodoro Martinelli Silva', 'Juan Mata', 'Donny van de Beek', 'Nathan Tella']\n"
     ]
    }
   ],
   "source": [
    "print(Cluster_0,Cluster_1,Cluster_2,Cluster_3)"
   ]
  },
  {
   "cell_type": "code",
   "execution_count": 49,
   "metadata": {},
   "outputs": [],
   "source": [
    "df_groupby = df_original_pca.groupby('PCA Cluster').agg(Count = ('Player_Name','nunique')).reset_index()\n",
    "df_groupby = df_groupby.sort_values(by = 'Count',ascending=False).reset_index(drop = True)"
   ]
  },
  {
   "cell_type": "code",
   "execution_count": 86,
   "metadata": {},
   "outputs": [
    {
     "ename": "NameError",
     "evalue": "name 'Cluster_0' is not defined",
     "output_type": "error",
     "traceback": [
      "\u001b[1;31m---------------------------------------------------------------------------\u001b[0m",
      "\u001b[1;31mNameError\u001b[0m                                 Traceback (most recent call last)",
      "\u001b[1;32m<ipython-input-86-b8393296ab07>\u001b[0m in \u001b[0;36m<module>\u001b[1;34m()\u001b[0m\n\u001b[1;32m----> 1\u001b[1;33m \u001b[0mprint\u001b[0m\u001b[1;33m(\u001b[0m\u001b[0mCluster_0\u001b[0m\u001b[1;33m,\u001b[0m\u001b[0mCluster_1\u001b[0m\u001b[1;33m,\u001b[0m\u001b[0mCluster_2\u001b[0m\u001b[1;33m,\u001b[0m\u001b[0mCluster_3\u001b[0m\u001b[1;33m)\u001b[0m\u001b[1;33m\u001b[0m\u001b[0m\n\u001b[0m",
      "\u001b[1;31mNameError\u001b[0m: name 'Cluster_0' is not defined"
     ]
    }
   ],
   "source": []
  },
  {
   "cell_type": "code",
   "execution_count": 52,
   "metadata": {},
   "outputs": [
    {
     "data": {
      "application/vnd.plotly.v1+json": {
       "config": {
        "plotlyServerURL": "https://plot.ly"
       },
       "data": [
        {
         "hovertemplate": "PCA Cluster=%{marker.color}<br>Count=%{y}<extra></extra>",
         "legendgroup": "",
         "marker": {
          "color": [
           3,
           0,
           2,
           1
          ],
          "coloraxis": "coloraxis",
          "symbol": "circle"
         },
         "mode": "markers",
         "name": "",
         "orientation": "v",
         "showlegend": false,
         "textposition": "top center",
         "type": "scatter",
         "x": [
          3,
          0,
          2,
          1
         ],
         "xaxis": "x",
         "y": [
          186,
          130,
          99,
          61
         ],
         "yaxis": "y"
        }
       ],
       "layout": {
        "coloraxis": {
         "colorbar": {
          "title": {
           "text": "PCA Cluster"
          }
         },
         "colorscale": [
          [
           0,
           "#0d0887"
          ],
          [
           0.1111111111111111,
           "#46039f"
          ],
          [
           0.2222222222222222,
           "#7201a8"
          ],
          [
           0.3333333333333333,
           "#9c179e"
          ],
          [
           0.4444444444444444,
           "#bd3786"
          ],
          [
           0.5555555555555556,
           "#d8576b"
          ],
          [
           0.6666666666666666,
           "#ed7953"
          ],
          [
           0.7777777777777778,
           "#fb9f3a"
          ],
          [
           0.8888888888888888,
           "#fdca26"
          ],
          [
           1,
           "#f0f921"
          ]
         ]
        },
        "legend": {
         "tracegroupgap": 0
        },
        "template": {
         "data": {
          "bar": [
           {
            "error_x": {
             "color": "#2a3f5f"
            },
            "error_y": {
             "color": "#2a3f5f"
            },
            "marker": {
             "line": {
              "color": "#E5ECF6",
              "width": 0.5
             },
             "pattern": {
              "fillmode": "overlay",
              "size": 10,
              "solidity": 0.2
             }
            },
            "type": "bar"
           }
          ],
          "barpolar": [
           {
            "marker": {
             "line": {
              "color": "#E5ECF6",
              "width": 0.5
             },
             "pattern": {
              "fillmode": "overlay",
              "size": 10,
              "solidity": 0.2
             }
            },
            "type": "barpolar"
           }
          ],
          "carpet": [
           {
            "aaxis": {
             "endlinecolor": "#2a3f5f",
             "gridcolor": "white",
             "linecolor": "white",
             "minorgridcolor": "white",
             "startlinecolor": "#2a3f5f"
            },
            "baxis": {
             "endlinecolor": "#2a3f5f",
             "gridcolor": "white",
             "linecolor": "white",
             "minorgridcolor": "white",
             "startlinecolor": "#2a3f5f"
            },
            "type": "carpet"
           }
          ],
          "choropleth": [
           {
            "colorbar": {
             "outlinewidth": 0,
             "ticks": ""
            },
            "type": "choropleth"
           }
          ],
          "contour": [
           {
            "colorbar": {
             "outlinewidth": 0,
             "ticks": ""
            },
            "colorscale": [
             [
              0,
              "#0d0887"
             ],
             [
              0.1111111111111111,
              "#46039f"
             ],
             [
              0.2222222222222222,
              "#7201a8"
             ],
             [
              0.3333333333333333,
              "#9c179e"
             ],
             [
              0.4444444444444444,
              "#bd3786"
             ],
             [
              0.5555555555555556,
              "#d8576b"
             ],
             [
              0.6666666666666666,
              "#ed7953"
             ],
             [
              0.7777777777777778,
              "#fb9f3a"
             ],
             [
              0.8888888888888888,
              "#fdca26"
             ],
             [
              1,
              "#f0f921"
             ]
            ],
            "type": "contour"
           }
          ],
          "contourcarpet": [
           {
            "colorbar": {
             "outlinewidth": 0,
             "ticks": ""
            },
            "type": "contourcarpet"
           }
          ],
          "heatmap": [
           {
            "colorbar": {
             "outlinewidth": 0,
             "ticks": ""
            },
            "colorscale": [
             [
              0,
              "#0d0887"
             ],
             [
              0.1111111111111111,
              "#46039f"
             ],
             [
              0.2222222222222222,
              "#7201a8"
             ],
             [
              0.3333333333333333,
              "#9c179e"
             ],
             [
              0.4444444444444444,
              "#bd3786"
             ],
             [
              0.5555555555555556,
              "#d8576b"
             ],
             [
              0.6666666666666666,
              "#ed7953"
             ],
             [
              0.7777777777777778,
              "#fb9f3a"
             ],
             [
              0.8888888888888888,
              "#fdca26"
             ],
             [
              1,
              "#f0f921"
             ]
            ],
            "type": "heatmap"
           }
          ],
          "heatmapgl": [
           {
            "colorbar": {
             "outlinewidth": 0,
             "ticks": ""
            },
            "colorscale": [
             [
              0,
              "#0d0887"
             ],
             [
              0.1111111111111111,
              "#46039f"
             ],
             [
              0.2222222222222222,
              "#7201a8"
             ],
             [
              0.3333333333333333,
              "#9c179e"
             ],
             [
              0.4444444444444444,
              "#bd3786"
             ],
             [
              0.5555555555555556,
              "#d8576b"
             ],
             [
              0.6666666666666666,
              "#ed7953"
             ],
             [
              0.7777777777777778,
              "#fb9f3a"
             ],
             [
              0.8888888888888888,
              "#fdca26"
             ],
             [
              1,
              "#f0f921"
             ]
            ],
            "type": "heatmapgl"
           }
          ],
          "histogram": [
           {
            "marker": {
             "pattern": {
              "fillmode": "overlay",
              "size": 10,
              "solidity": 0.2
             }
            },
            "type": "histogram"
           }
          ],
          "histogram2d": [
           {
            "colorbar": {
             "outlinewidth": 0,
             "ticks": ""
            },
            "colorscale": [
             [
              0,
              "#0d0887"
             ],
             [
              0.1111111111111111,
              "#46039f"
             ],
             [
              0.2222222222222222,
              "#7201a8"
             ],
             [
              0.3333333333333333,
              "#9c179e"
             ],
             [
              0.4444444444444444,
              "#bd3786"
             ],
             [
              0.5555555555555556,
              "#d8576b"
             ],
             [
              0.6666666666666666,
              "#ed7953"
             ],
             [
              0.7777777777777778,
              "#fb9f3a"
             ],
             [
              0.8888888888888888,
              "#fdca26"
             ],
             [
              1,
              "#f0f921"
             ]
            ],
            "type": "histogram2d"
           }
          ],
          "histogram2dcontour": [
           {
            "colorbar": {
             "outlinewidth": 0,
             "ticks": ""
            },
            "colorscale": [
             [
              0,
              "#0d0887"
             ],
             [
              0.1111111111111111,
              "#46039f"
             ],
             [
              0.2222222222222222,
              "#7201a8"
             ],
             [
              0.3333333333333333,
              "#9c179e"
             ],
             [
              0.4444444444444444,
              "#bd3786"
             ],
             [
              0.5555555555555556,
              "#d8576b"
             ],
             [
              0.6666666666666666,
              "#ed7953"
             ],
             [
              0.7777777777777778,
              "#fb9f3a"
             ],
             [
              0.8888888888888888,
              "#fdca26"
             ],
             [
              1,
              "#f0f921"
             ]
            ],
            "type": "histogram2dcontour"
           }
          ],
          "mesh3d": [
           {
            "colorbar": {
             "outlinewidth": 0,
             "ticks": ""
            },
            "type": "mesh3d"
           }
          ],
          "parcoords": [
           {
            "line": {
             "colorbar": {
              "outlinewidth": 0,
              "ticks": ""
             }
            },
            "type": "parcoords"
           }
          ],
          "pie": [
           {
            "automargin": true,
            "type": "pie"
           }
          ],
          "scatter": [
           {
            "fillpattern": {
             "fillmode": "overlay",
             "size": 10,
             "solidity": 0.2
            },
            "type": "scatter"
           }
          ],
          "scatter3d": [
           {
            "line": {
             "colorbar": {
              "outlinewidth": 0,
              "ticks": ""
             }
            },
            "marker": {
             "colorbar": {
              "outlinewidth": 0,
              "ticks": ""
             }
            },
            "type": "scatter3d"
           }
          ],
          "scattercarpet": [
           {
            "marker": {
             "colorbar": {
              "outlinewidth": 0,
              "ticks": ""
             }
            },
            "type": "scattercarpet"
           }
          ],
          "scattergeo": [
           {
            "marker": {
             "colorbar": {
              "outlinewidth": 0,
              "ticks": ""
             }
            },
            "type": "scattergeo"
           }
          ],
          "scattergl": [
           {
            "marker": {
             "colorbar": {
              "outlinewidth": 0,
              "ticks": ""
             }
            },
            "type": "scattergl"
           }
          ],
          "scattermapbox": [
           {
            "marker": {
             "colorbar": {
              "outlinewidth": 0,
              "ticks": ""
             }
            },
            "type": "scattermapbox"
           }
          ],
          "scatterpolar": [
           {
            "marker": {
             "colorbar": {
              "outlinewidth": 0,
              "ticks": ""
             }
            },
            "type": "scatterpolar"
           }
          ],
          "scatterpolargl": [
           {
            "marker": {
             "colorbar": {
              "outlinewidth": 0,
              "ticks": ""
             }
            },
            "type": "scatterpolargl"
           }
          ],
          "scatterternary": [
           {
            "marker": {
             "colorbar": {
              "outlinewidth": 0,
              "ticks": ""
             }
            },
            "type": "scatterternary"
           }
          ],
          "surface": [
           {
            "colorbar": {
             "outlinewidth": 0,
             "ticks": ""
            },
            "colorscale": [
             [
              0,
              "#0d0887"
             ],
             [
              0.1111111111111111,
              "#46039f"
             ],
             [
              0.2222222222222222,
              "#7201a8"
             ],
             [
              0.3333333333333333,
              "#9c179e"
             ],
             [
              0.4444444444444444,
              "#bd3786"
             ],
             [
              0.5555555555555556,
              "#d8576b"
             ],
             [
              0.6666666666666666,
              "#ed7953"
             ],
             [
              0.7777777777777778,
              "#fb9f3a"
             ],
             [
              0.8888888888888888,
              "#fdca26"
             ],
             [
              1,
              "#f0f921"
             ]
            ],
            "type": "surface"
           }
          ],
          "table": [
           {
            "cells": {
             "fill": {
              "color": "#EBF0F8"
             },
             "line": {
              "color": "white"
             }
            },
            "header": {
             "fill": {
              "color": "#C8D4E3"
             },
             "line": {
              "color": "white"
             }
            },
            "type": "table"
           }
          ]
         },
         "layout": {
          "annotationdefaults": {
           "arrowcolor": "#2a3f5f",
           "arrowhead": 0,
           "arrowwidth": 1
          },
          "autotypenumbers": "strict",
          "coloraxis": {
           "colorbar": {
            "outlinewidth": 0,
            "ticks": ""
           }
          },
          "colorscale": {
           "diverging": [
            [
             0,
             "#8e0152"
            ],
            [
             0.1,
             "#c51b7d"
            ],
            [
             0.2,
             "#de77ae"
            ],
            [
             0.3,
             "#f1b6da"
            ],
            [
             0.4,
             "#fde0ef"
            ],
            [
             0.5,
             "#f7f7f7"
            ],
            [
             0.6,
             "#e6f5d0"
            ],
            [
             0.7,
             "#b8e186"
            ],
            [
             0.8,
             "#7fbc41"
            ],
            [
             0.9,
             "#4d9221"
            ],
            [
             1,
             "#276419"
            ]
           ],
           "sequential": [
            [
             0,
             "#0d0887"
            ],
            [
             0.1111111111111111,
             "#46039f"
            ],
            [
             0.2222222222222222,
             "#7201a8"
            ],
            [
             0.3333333333333333,
             "#9c179e"
            ],
            [
             0.4444444444444444,
             "#bd3786"
            ],
            [
             0.5555555555555556,
             "#d8576b"
            ],
            [
             0.6666666666666666,
             "#ed7953"
            ],
            [
             0.7777777777777778,
             "#fb9f3a"
            ],
            [
             0.8888888888888888,
             "#fdca26"
            ],
            [
             1,
             "#f0f921"
            ]
           ],
           "sequentialminus": [
            [
             0,
             "#0d0887"
            ],
            [
             0.1111111111111111,
             "#46039f"
            ],
            [
             0.2222222222222222,
             "#7201a8"
            ],
            [
             0.3333333333333333,
             "#9c179e"
            ],
            [
             0.4444444444444444,
             "#bd3786"
            ],
            [
             0.5555555555555556,
             "#d8576b"
            ],
            [
             0.6666666666666666,
             "#ed7953"
            ],
            [
             0.7777777777777778,
             "#fb9f3a"
            ],
            [
             0.8888888888888888,
             "#fdca26"
            ],
            [
             1,
             "#f0f921"
            ]
           ]
          },
          "colorway": [
           "#636efa",
           "#EF553B",
           "#00cc96",
           "#ab63fa",
           "#FFA15A",
           "#19d3f3",
           "#FF6692",
           "#B6E880",
           "#FF97FF",
           "#FECB52"
          ],
          "font": {
           "color": "#2a3f5f"
          },
          "geo": {
           "bgcolor": "white",
           "lakecolor": "white",
           "landcolor": "#E5ECF6",
           "showlakes": true,
           "showland": true,
           "subunitcolor": "white"
          },
          "hoverlabel": {
           "align": "left"
          },
          "hovermode": "closest",
          "mapbox": {
           "style": "light"
          },
          "paper_bgcolor": "white",
          "plot_bgcolor": "#E5ECF6",
          "polar": {
           "angularaxis": {
            "gridcolor": "white",
            "linecolor": "white",
            "ticks": ""
           },
           "bgcolor": "#E5ECF6",
           "radialaxis": {
            "gridcolor": "white",
            "linecolor": "white",
            "ticks": ""
           }
          },
          "scene": {
           "xaxis": {
            "backgroundcolor": "#E5ECF6",
            "gridcolor": "white",
            "gridwidth": 2,
            "linecolor": "white",
            "showbackground": true,
            "ticks": "",
            "zerolinecolor": "white"
           },
           "yaxis": {
            "backgroundcolor": "#E5ECF6",
            "gridcolor": "white",
            "gridwidth": 2,
            "linecolor": "white",
            "showbackground": true,
            "ticks": "",
            "zerolinecolor": "white"
           },
           "zaxis": {
            "backgroundcolor": "#E5ECF6",
            "gridcolor": "white",
            "gridwidth": 2,
            "linecolor": "white",
            "showbackground": true,
            "ticks": "",
            "zerolinecolor": "white"
           }
          },
          "shapedefaults": {
           "line": {
            "color": "#2a3f5f"
           }
          },
          "ternary": {
           "aaxis": {
            "gridcolor": "white",
            "linecolor": "white",
            "ticks": ""
           },
           "baxis": {
            "gridcolor": "white",
            "linecolor": "white",
            "ticks": ""
           },
           "bgcolor": "#E5ECF6",
           "caxis": {
            "gridcolor": "white",
            "linecolor": "white",
            "ticks": ""
           }
          },
          "title": {
           "x": 0.05
          },
          "xaxis": {
           "automargin": true,
           "gridcolor": "white",
           "linecolor": "white",
           "ticks": "",
           "title": {
            "standoff": 15
           },
           "zerolinecolor": "white",
           "zerolinewidth": 2
          },
          "yaxis": {
           "automargin": true,
           "gridcolor": "white",
           "linecolor": "white",
           "ticks": "",
           "title": {
            "standoff": 15
           },
           "zerolinecolor": "white",
           "zerolinewidth": 2
          }
         }
        },
        "title": {
         "text": "PCA K-mean clustering of football players"
        },
        "xaxis": {
         "anchor": "y",
         "domain": [
          0,
          1
         ],
         "title": {
          "text": "PCA Cluster"
         }
        },
        "yaxis": {
         "anchor": "x",
         "domain": [
          0,
          1
         ],
         "title": {
          "text": "Count"
         }
        }
       }
      },
      "text/html": [
       "<div>                            <div id=\"9dca3cab-c96c-42f2-a98b-f67578bee487\" class=\"plotly-graph-div\" style=\"height:525px; width:100%;\"></div>            <script type=\"text/javascript\">                require([\"plotly\"], function(Plotly) {                    window.PLOTLYENV=window.PLOTLYENV || {};                                    if (document.getElementById(\"9dca3cab-c96c-42f2-a98b-f67578bee487\")) {                    Plotly.newPlot(                        \"9dca3cab-c96c-42f2-a98b-f67578bee487\",                        [{\"hovertemplate\":\"PCA Cluster=%{marker.color}\\u003cbr\\u003eCount=%{y}\\u003cextra\\u003e\\u003c\\u002fextra\\u003e\",\"legendgroup\":\"\",\"marker\":{\"color\":[3,0,2,1],\"coloraxis\":\"coloraxis\",\"symbol\":\"circle\"},\"mode\":\"markers\",\"name\":\"\",\"orientation\":\"v\",\"showlegend\":false,\"x\":[3,0,2,1],\"xaxis\":\"x\",\"y\":[186,130,99,61],\"yaxis\":\"y\",\"type\":\"scatter\",\"textposition\":\"top center\"}],                        {\"template\":{\"data\":{\"histogram2dcontour\":[{\"type\":\"histogram2dcontour\",\"colorbar\":{\"outlinewidth\":0,\"ticks\":\"\"},\"colorscale\":[[0.0,\"#0d0887\"],[0.1111111111111111,\"#46039f\"],[0.2222222222222222,\"#7201a8\"],[0.3333333333333333,\"#9c179e\"],[0.4444444444444444,\"#bd3786\"],[0.5555555555555556,\"#d8576b\"],[0.6666666666666666,\"#ed7953\"],[0.7777777777777778,\"#fb9f3a\"],[0.8888888888888888,\"#fdca26\"],[1.0,\"#f0f921\"]]}],\"choropleth\":[{\"type\":\"choropleth\",\"colorbar\":{\"outlinewidth\":0,\"ticks\":\"\"}}],\"histogram2d\":[{\"type\":\"histogram2d\",\"colorbar\":{\"outlinewidth\":0,\"ticks\":\"\"},\"colorscale\":[[0.0,\"#0d0887\"],[0.1111111111111111,\"#46039f\"],[0.2222222222222222,\"#7201a8\"],[0.3333333333333333,\"#9c179e\"],[0.4444444444444444,\"#bd3786\"],[0.5555555555555556,\"#d8576b\"],[0.6666666666666666,\"#ed7953\"],[0.7777777777777778,\"#fb9f3a\"],[0.8888888888888888,\"#fdca26\"],[1.0,\"#f0f921\"]]}],\"heatmap\":[{\"type\":\"heatmap\",\"colorbar\":{\"outlinewidth\":0,\"ticks\":\"\"},\"colorscale\":[[0.0,\"#0d0887\"],[0.1111111111111111,\"#46039f\"],[0.2222222222222222,\"#7201a8\"],[0.3333333333333333,\"#9c179e\"],[0.4444444444444444,\"#bd3786\"],[0.5555555555555556,\"#d8576b\"],[0.6666666666666666,\"#ed7953\"],[0.7777777777777778,\"#fb9f3a\"],[0.8888888888888888,\"#fdca26\"],[1.0,\"#f0f921\"]]}],\"heatmapgl\":[{\"type\":\"heatmapgl\",\"colorbar\":{\"outlinewidth\":0,\"ticks\":\"\"},\"colorscale\":[[0.0,\"#0d0887\"],[0.1111111111111111,\"#46039f\"],[0.2222222222222222,\"#7201a8\"],[0.3333333333333333,\"#9c179e\"],[0.4444444444444444,\"#bd3786\"],[0.5555555555555556,\"#d8576b\"],[0.6666666666666666,\"#ed7953\"],[0.7777777777777778,\"#fb9f3a\"],[0.8888888888888888,\"#fdca26\"],[1.0,\"#f0f921\"]]}],\"contourcarpet\":[{\"type\":\"contourcarpet\",\"colorbar\":{\"outlinewidth\":0,\"ticks\":\"\"}}],\"contour\":[{\"type\":\"contour\",\"colorbar\":{\"outlinewidth\":0,\"ticks\":\"\"},\"colorscale\":[[0.0,\"#0d0887\"],[0.1111111111111111,\"#46039f\"],[0.2222222222222222,\"#7201a8\"],[0.3333333333333333,\"#9c179e\"],[0.4444444444444444,\"#bd3786\"],[0.5555555555555556,\"#d8576b\"],[0.6666666666666666,\"#ed7953\"],[0.7777777777777778,\"#fb9f3a\"],[0.8888888888888888,\"#fdca26\"],[1.0,\"#f0f921\"]]}],\"surface\":[{\"type\":\"surface\",\"colorbar\":{\"outlinewidth\":0,\"ticks\":\"\"},\"colorscale\":[[0.0,\"#0d0887\"],[0.1111111111111111,\"#46039f\"],[0.2222222222222222,\"#7201a8\"],[0.3333333333333333,\"#9c179e\"],[0.4444444444444444,\"#bd3786\"],[0.5555555555555556,\"#d8576b\"],[0.6666666666666666,\"#ed7953\"],[0.7777777777777778,\"#fb9f3a\"],[0.8888888888888888,\"#fdca26\"],[1.0,\"#f0f921\"]]}],\"mesh3d\":[{\"type\":\"mesh3d\",\"colorbar\":{\"outlinewidth\":0,\"ticks\":\"\"}}],\"scatter\":[{\"fillpattern\":{\"fillmode\":\"overlay\",\"size\":10,\"solidity\":0.2},\"type\":\"scatter\"}],\"parcoords\":[{\"type\":\"parcoords\",\"line\":{\"colorbar\":{\"outlinewidth\":0,\"ticks\":\"\"}}}],\"scatterpolargl\":[{\"type\":\"scatterpolargl\",\"marker\":{\"colorbar\":{\"outlinewidth\":0,\"ticks\":\"\"}}}],\"bar\":[{\"error_x\":{\"color\":\"#2a3f5f\"},\"error_y\":{\"color\":\"#2a3f5f\"},\"marker\":{\"line\":{\"color\":\"#E5ECF6\",\"width\":0.5},\"pattern\":{\"fillmode\":\"overlay\",\"size\":10,\"solidity\":0.2}},\"type\":\"bar\"}],\"scattergeo\":[{\"type\":\"scattergeo\",\"marker\":{\"colorbar\":{\"outlinewidth\":0,\"ticks\":\"\"}}}],\"scatterpolar\":[{\"type\":\"scatterpolar\",\"marker\":{\"colorbar\":{\"outlinewidth\":0,\"ticks\":\"\"}}}],\"histogram\":[{\"marker\":{\"pattern\":{\"fillmode\":\"overlay\",\"size\":10,\"solidity\":0.2}},\"type\":\"histogram\"}],\"scattergl\":[{\"type\":\"scattergl\",\"marker\":{\"colorbar\":{\"outlinewidth\":0,\"ticks\":\"\"}}}],\"scatter3d\":[{\"type\":\"scatter3d\",\"line\":{\"colorbar\":{\"outlinewidth\":0,\"ticks\":\"\"}},\"marker\":{\"colorbar\":{\"outlinewidth\":0,\"ticks\":\"\"}}}],\"scattermapbox\":[{\"type\":\"scattermapbox\",\"marker\":{\"colorbar\":{\"outlinewidth\":0,\"ticks\":\"\"}}}],\"scatterternary\":[{\"type\":\"scatterternary\",\"marker\":{\"colorbar\":{\"outlinewidth\":0,\"ticks\":\"\"}}}],\"scattercarpet\":[{\"type\":\"scattercarpet\",\"marker\":{\"colorbar\":{\"outlinewidth\":0,\"ticks\":\"\"}}}],\"carpet\":[{\"aaxis\":{\"endlinecolor\":\"#2a3f5f\",\"gridcolor\":\"white\",\"linecolor\":\"white\",\"minorgridcolor\":\"white\",\"startlinecolor\":\"#2a3f5f\"},\"baxis\":{\"endlinecolor\":\"#2a3f5f\",\"gridcolor\":\"white\",\"linecolor\":\"white\",\"minorgridcolor\":\"white\",\"startlinecolor\":\"#2a3f5f\"},\"type\":\"carpet\"}],\"table\":[{\"cells\":{\"fill\":{\"color\":\"#EBF0F8\"},\"line\":{\"color\":\"white\"}},\"header\":{\"fill\":{\"color\":\"#C8D4E3\"},\"line\":{\"color\":\"white\"}},\"type\":\"table\"}],\"barpolar\":[{\"marker\":{\"line\":{\"color\":\"#E5ECF6\",\"width\":0.5},\"pattern\":{\"fillmode\":\"overlay\",\"size\":10,\"solidity\":0.2}},\"type\":\"barpolar\"}],\"pie\":[{\"automargin\":true,\"type\":\"pie\"}]},\"layout\":{\"autotypenumbers\":\"strict\",\"colorway\":[\"#636efa\",\"#EF553B\",\"#00cc96\",\"#ab63fa\",\"#FFA15A\",\"#19d3f3\",\"#FF6692\",\"#B6E880\",\"#FF97FF\",\"#FECB52\"],\"font\":{\"color\":\"#2a3f5f\"},\"hovermode\":\"closest\",\"hoverlabel\":{\"align\":\"left\"},\"paper_bgcolor\":\"white\",\"plot_bgcolor\":\"#E5ECF6\",\"polar\":{\"bgcolor\":\"#E5ECF6\",\"angularaxis\":{\"gridcolor\":\"white\",\"linecolor\":\"white\",\"ticks\":\"\"},\"radialaxis\":{\"gridcolor\":\"white\",\"linecolor\":\"white\",\"ticks\":\"\"}},\"ternary\":{\"bgcolor\":\"#E5ECF6\",\"aaxis\":{\"gridcolor\":\"white\",\"linecolor\":\"white\",\"ticks\":\"\"},\"baxis\":{\"gridcolor\":\"white\",\"linecolor\":\"white\",\"ticks\":\"\"},\"caxis\":{\"gridcolor\":\"white\",\"linecolor\":\"white\",\"ticks\":\"\"}},\"coloraxis\":{\"colorbar\":{\"outlinewidth\":0,\"ticks\":\"\"}},\"colorscale\":{\"sequential\":[[0.0,\"#0d0887\"],[0.1111111111111111,\"#46039f\"],[0.2222222222222222,\"#7201a8\"],[0.3333333333333333,\"#9c179e\"],[0.4444444444444444,\"#bd3786\"],[0.5555555555555556,\"#d8576b\"],[0.6666666666666666,\"#ed7953\"],[0.7777777777777778,\"#fb9f3a\"],[0.8888888888888888,\"#fdca26\"],[1.0,\"#f0f921\"]],\"sequentialminus\":[[0.0,\"#0d0887\"],[0.1111111111111111,\"#46039f\"],[0.2222222222222222,\"#7201a8\"],[0.3333333333333333,\"#9c179e\"],[0.4444444444444444,\"#bd3786\"],[0.5555555555555556,\"#d8576b\"],[0.6666666666666666,\"#ed7953\"],[0.7777777777777778,\"#fb9f3a\"],[0.8888888888888888,\"#fdca26\"],[1.0,\"#f0f921\"]],\"diverging\":[[0,\"#8e0152\"],[0.1,\"#c51b7d\"],[0.2,\"#de77ae\"],[0.3,\"#f1b6da\"],[0.4,\"#fde0ef\"],[0.5,\"#f7f7f7\"],[0.6,\"#e6f5d0\"],[0.7,\"#b8e186\"],[0.8,\"#7fbc41\"],[0.9,\"#4d9221\"],[1,\"#276419\"]]},\"xaxis\":{\"gridcolor\":\"white\",\"linecolor\":\"white\",\"ticks\":\"\",\"title\":{\"standoff\":15},\"zerolinecolor\":\"white\",\"automargin\":true,\"zerolinewidth\":2},\"yaxis\":{\"gridcolor\":\"white\",\"linecolor\":\"white\",\"ticks\":\"\",\"title\":{\"standoff\":15},\"zerolinecolor\":\"white\",\"automargin\":true,\"zerolinewidth\":2},\"scene\":{\"xaxis\":{\"backgroundcolor\":\"#E5ECF6\",\"gridcolor\":\"white\",\"linecolor\":\"white\",\"showbackground\":true,\"ticks\":\"\",\"zerolinecolor\":\"white\",\"gridwidth\":2},\"yaxis\":{\"backgroundcolor\":\"#E5ECF6\",\"gridcolor\":\"white\",\"linecolor\":\"white\",\"showbackground\":true,\"ticks\":\"\",\"zerolinecolor\":\"white\",\"gridwidth\":2},\"zaxis\":{\"backgroundcolor\":\"#E5ECF6\",\"gridcolor\":\"white\",\"linecolor\":\"white\",\"showbackground\":true,\"ticks\":\"\",\"zerolinecolor\":\"white\",\"gridwidth\":2}},\"shapedefaults\":{\"line\":{\"color\":\"#2a3f5f\"}},\"annotationdefaults\":{\"arrowcolor\":\"#2a3f5f\",\"arrowhead\":0,\"arrowwidth\":1},\"geo\":{\"bgcolor\":\"white\",\"landcolor\":\"#E5ECF6\",\"subunitcolor\":\"white\",\"showland\":true,\"showlakes\":true,\"lakecolor\":\"white\"},\"title\":{\"x\":0.05},\"mapbox\":{\"style\":\"light\"}}},\"xaxis\":{\"anchor\":\"y\",\"domain\":[0.0,1.0],\"title\":{\"text\":\"PCA Cluster\"}},\"yaxis\":{\"anchor\":\"x\",\"domain\":[0.0,1.0],\"title\":{\"text\":\"Count\"}},\"coloraxis\":{\"colorbar\":{\"title\":{\"text\":\"PCA Cluster\"}},\"colorscale\":[[0.0,\"#0d0887\"],[0.1111111111111111,\"#46039f\"],[0.2222222222222222,\"#7201a8\"],[0.3333333333333333,\"#9c179e\"],[0.4444444444444444,\"#bd3786\"],[0.5555555555555556,\"#d8576b\"],[0.6666666666666666,\"#ed7953\"],[0.7777777777777778,\"#fb9f3a\"],[0.8888888888888888,\"#fdca26\"],[1.0,\"#f0f921\"]]},\"legend\":{\"tracegroupgap\":0},\"title\":{\"text\":\"PCA K-mean clustering of football players\"}},                        {\"responsive\": true}                    ).then(function(){\n",
       "                            \n",
       "var gd = document.getElementById('9dca3cab-c96c-42f2-a98b-f67578bee487');\n",
       "var x = new MutationObserver(function (mutations, observer) {{\n",
       "        var display = window.getComputedStyle(gd).display;\n",
       "        if (!display || display === 'none') {{\n",
       "            console.log([gd, 'removed!']);\n",
       "            Plotly.purge(gd);\n",
       "            observer.disconnect();\n",
       "        }}\n",
       "}});\n",
       "\n",
       "// Listen for the removal of the full notebook cells\n",
       "var notebookContainer = gd.closest('#notebook-container');\n",
       "if (notebookContainer) {{\n",
       "    x.observe(notebookContainer, {childList: true});\n",
       "}}\n",
       "\n",
       "// Listen for the clearing of the current output cell\n",
       "var outputEl = gd.closest('.output');\n",
       "if (outputEl) {{\n",
       "    x.observe(outputEl, {childList: true});\n",
       "}}\n",
       "\n",
       "                        })                };                });            </script>        </div>"
      ]
     },
     "metadata": {},
     "output_type": "display_data"
    }
   ],
   "source": [
    "fig = px.scatter(df_groupby,x=\"PCA Cluster\",y=\"Count\",color=\"PCA Cluster\",title=\"PCA K-mean clustering of football players\")\n",
    "fig.update_traces(textposition='top center')\n",
    "fig.show()"
   ]
  },
  {
   "cell_type": "code",
   "execution_count": 53,
   "metadata": {},
   "outputs": [],
   "source": [
    "df_groupby = df_original_pca.groupby('PCA Cluster').agg(Goals = ('Goals_Scored','sum')).reset_index()\n",
    "df_groupby = df_groupby.sort_values(by = 'Goals',ascending=False).reset_index(drop = True)"
   ]
  },
  {
   "cell_type": "code",
   "execution_count": 54,
   "metadata": {},
   "outputs": [
    {
     "data": {
      "application/vnd.plotly.v1+json": {
       "config": {
        "plotlyServerURL": "https://plot.ly"
       },
       "data": [
        {
         "hovertemplate": "PCA Cluster=%{marker.color}<br>Goals=%{y}<extra></extra>",
         "legendgroup": "",
         "marker": {
          "color": [
           1,
           2,
           0,
           3
          ],
          "coloraxis": "coloraxis",
          "symbol": "circle"
         },
         "mode": "markers",
         "name": "",
         "orientation": "v",
         "showlegend": false,
         "textposition": "top center",
         "type": "scatter",
         "x": [
          1,
          2,
          0,
          3
         ],
         "xaxis": "x",
         "y": [
          127.93960868019964,
          -15.599600654984696,
          -17.376708719613102,
          -94.96329930560205
         ],
         "yaxis": "y"
        }
       ],
       "layout": {
        "coloraxis": {
         "colorbar": {
          "title": {
           "text": "PCA Cluster"
          }
         },
         "colorscale": [
          [
           0,
           "#0d0887"
          ],
          [
           0.1111111111111111,
           "#46039f"
          ],
          [
           0.2222222222222222,
           "#7201a8"
          ],
          [
           0.3333333333333333,
           "#9c179e"
          ],
          [
           0.4444444444444444,
           "#bd3786"
          ],
          [
           0.5555555555555556,
           "#d8576b"
          ],
          [
           0.6666666666666666,
           "#ed7953"
          ],
          [
           0.7777777777777778,
           "#fb9f3a"
          ],
          [
           0.8888888888888888,
           "#fdca26"
          ],
          [
           1,
           "#f0f921"
          ]
         ]
        },
        "legend": {
         "tracegroupgap": 0
        },
        "template": {
         "data": {
          "bar": [
           {
            "error_x": {
             "color": "#2a3f5f"
            },
            "error_y": {
             "color": "#2a3f5f"
            },
            "marker": {
             "line": {
              "color": "#E5ECF6",
              "width": 0.5
             },
             "pattern": {
              "fillmode": "overlay",
              "size": 10,
              "solidity": 0.2
             }
            },
            "type": "bar"
           }
          ],
          "barpolar": [
           {
            "marker": {
             "line": {
              "color": "#E5ECF6",
              "width": 0.5
             },
             "pattern": {
              "fillmode": "overlay",
              "size": 10,
              "solidity": 0.2
             }
            },
            "type": "barpolar"
           }
          ],
          "carpet": [
           {
            "aaxis": {
             "endlinecolor": "#2a3f5f",
             "gridcolor": "white",
             "linecolor": "white",
             "minorgridcolor": "white",
             "startlinecolor": "#2a3f5f"
            },
            "baxis": {
             "endlinecolor": "#2a3f5f",
             "gridcolor": "white",
             "linecolor": "white",
             "minorgridcolor": "white",
             "startlinecolor": "#2a3f5f"
            },
            "type": "carpet"
           }
          ],
          "choropleth": [
           {
            "colorbar": {
             "outlinewidth": 0,
             "ticks": ""
            },
            "type": "choropleth"
           }
          ],
          "contour": [
           {
            "colorbar": {
             "outlinewidth": 0,
             "ticks": ""
            },
            "colorscale": [
             [
              0,
              "#0d0887"
             ],
             [
              0.1111111111111111,
              "#46039f"
             ],
             [
              0.2222222222222222,
              "#7201a8"
             ],
             [
              0.3333333333333333,
              "#9c179e"
             ],
             [
              0.4444444444444444,
              "#bd3786"
             ],
             [
              0.5555555555555556,
              "#d8576b"
             ],
             [
              0.6666666666666666,
              "#ed7953"
             ],
             [
              0.7777777777777778,
              "#fb9f3a"
             ],
             [
              0.8888888888888888,
              "#fdca26"
             ],
             [
              1,
              "#f0f921"
             ]
            ],
            "type": "contour"
           }
          ],
          "contourcarpet": [
           {
            "colorbar": {
             "outlinewidth": 0,
             "ticks": ""
            },
            "type": "contourcarpet"
           }
          ],
          "heatmap": [
           {
            "colorbar": {
             "outlinewidth": 0,
             "ticks": ""
            },
            "colorscale": [
             [
              0,
              "#0d0887"
             ],
             [
              0.1111111111111111,
              "#46039f"
             ],
             [
              0.2222222222222222,
              "#7201a8"
             ],
             [
              0.3333333333333333,
              "#9c179e"
             ],
             [
              0.4444444444444444,
              "#bd3786"
             ],
             [
              0.5555555555555556,
              "#d8576b"
             ],
             [
              0.6666666666666666,
              "#ed7953"
             ],
             [
              0.7777777777777778,
              "#fb9f3a"
             ],
             [
              0.8888888888888888,
              "#fdca26"
             ],
             [
              1,
              "#f0f921"
             ]
            ],
            "type": "heatmap"
           }
          ],
          "heatmapgl": [
           {
            "colorbar": {
             "outlinewidth": 0,
             "ticks": ""
            },
            "colorscale": [
             [
              0,
              "#0d0887"
             ],
             [
              0.1111111111111111,
              "#46039f"
             ],
             [
              0.2222222222222222,
              "#7201a8"
             ],
             [
              0.3333333333333333,
              "#9c179e"
             ],
             [
              0.4444444444444444,
              "#bd3786"
             ],
             [
              0.5555555555555556,
              "#d8576b"
             ],
             [
              0.6666666666666666,
              "#ed7953"
             ],
             [
              0.7777777777777778,
              "#fb9f3a"
             ],
             [
              0.8888888888888888,
              "#fdca26"
             ],
             [
              1,
              "#f0f921"
             ]
            ],
            "type": "heatmapgl"
           }
          ],
          "histogram": [
           {
            "marker": {
             "pattern": {
              "fillmode": "overlay",
              "size": 10,
              "solidity": 0.2
             }
            },
            "type": "histogram"
           }
          ],
          "histogram2d": [
           {
            "colorbar": {
             "outlinewidth": 0,
             "ticks": ""
            },
            "colorscale": [
             [
              0,
              "#0d0887"
             ],
             [
              0.1111111111111111,
              "#46039f"
             ],
             [
              0.2222222222222222,
              "#7201a8"
             ],
             [
              0.3333333333333333,
              "#9c179e"
             ],
             [
              0.4444444444444444,
              "#bd3786"
             ],
             [
              0.5555555555555556,
              "#d8576b"
             ],
             [
              0.6666666666666666,
              "#ed7953"
             ],
             [
              0.7777777777777778,
              "#fb9f3a"
             ],
             [
              0.8888888888888888,
              "#fdca26"
             ],
             [
              1,
              "#f0f921"
             ]
            ],
            "type": "histogram2d"
           }
          ],
          "histogram2dcontour": [
           {
            "colorbar": {
             "outlinewidth": 0,
             "ticks": ""
            },
            "colorscale": [
             [
              0,
              "#0d0887"
             ],
             [
              0.1111111111111111,
              "#46039f"
             ],
             [
              0.2222222222222222,
              "#7201a8"
             ],
             [
              0.3333333333333333,
              "#9c179e"
             ],
             [
              0.4444444444444444,
              "#bd3786"
             ],
             [
              0.5555555555555556,
              "#d8576b"
             ],
             [
              0.6666666666666666,
              "#ed7953"
             ],
             [
              0.7777777777777778,
              "#fb9f3a"
             ],
             [
              0.8888888888888888,
              "#fdca26"
             ],
             [
              1,
              "#f0f921"
             ]
            ],
            "type": "histogram2dcontour"
           }
          ],
          "mesh3d": [
           {
            "colorbar": {
             "outlinewidth": 0,
             "ticks": ""
            },
            "type": "mesh3d"
           }
          ],
          "parcoords": [
           {
            "line": {
             "colorbar": {
              "outlinewidth": 0,
              "ticks": ""
             }
            },
            "type": "parcoords"
           }
          ],
          "pie": [
           {
            "automargin": true,
            "type": "pie"
           }
          ],
          "scatter": [
           {
            "fillpattern": {
             "fillmode": "overlay",
             "size": 10,
             "solidity": 0.2
            },
            "type": "scatter"
           }
          ],
          "scatter3d": [
           {
            "line": {
             "colorbar": {
              "outlinewidth": 0,
              "ticks": ""
             }
            },
            "marker": {
             "colorbar": {
              "outlinewidth": 0,
              "ticks": ""
             }
            },
            "type": "scatter3d"
           }
          ],
          "scattercarpet": [
           {
            "marker": {
             "colorbar": {
              "outlinewidth": 0,
              "ticks": ""
             }
            },
            "type": "scattercarpet"
           }
          ],
          "scattergeo": [
           {
            "marker": {
             "colorbar": {
              "outlinewidth": 0,
              "ticks": ""
             }
            },
            "type": "scattergeo"
           }
          ],
          "scattergl": [
           {
            "marker": {
             "colorbar": {
              "outlinewidth": 0,
              "ticks": ""
             }
            },
            "type": "scattergl"
           }
          ],
          "scattermapbox": [
           {
            "marker": {
             "colorbar": {
              "outlinewidth": 0,
              "ticks": ""
             }
            },
            "type": "scattermapbox"
           }
          ],
          "scatterpolar": [
           {
            "marker": {
             "colorbar": {
              "outlinewidth": 0,
              "ticks": ""
             }
            },
            "type": "scatterpolar"
           }
          ],
          "scatterpolargl": [
           {
            "marker": {
             "colorbar": {
              "outlinewidth": 0,
              "ticks": ""
             }
            },
            "type": "scatterpolargl"
           }
          ],
          "scatterternary": [
           {
            "marker": {
             "colorbar": {
              "outlinewidth": 0,
              "ticks": ""
             }
            },
            "type": "scatterternary"
           }
          ],
          "surface": [
           {
            "colorbar": {
             "outlinewidth": 0,
             "ticks": ""
            },
            "colorscale": [
             [
              0,
              "#0d0887"
             ],
             [
              0.1111111111111111,
              "#46039f"
             ],
             [
              0.2222222222222222,
              "#7201a8"
             ],
             [
              0.3333333333333333,
              "#9c179e"
             ],
             [
              0.4444444444444444,
              "#bd3786"
             ],
             [
              0.5555555555555556,
              "#d8576b"
             ],
             [
              0.6666666666666666,
              "#ed7953"
             ],
             [
              0.7777777777777778,
              "#fb9f3a"
             ],
             [
              0.8888888888888888,
              "#fdca26"
             ],
             [
              1,
              "#f0f921"
             ]
            ],
            "type": "surface"
           }
          ],
          "table": [
           {
            "cells": {
             "fill": {
              "color": "#EBF0F8"
             },
             "line": {
              "color": "white"
             }
            },
            "header": {
             "fill": {
              "color": "#C8D4E3"
             },
             "line": {
              "color": "white"
             }
            },
            "type": "table"
           }
          ]
         },
         "layout": {
          "annotationdefaults": {
           "arrowcolor": "#2a3f5f",
           "arrowhead": 0,
           "arrowwidth": 1
          },
          "autotypenumbers": "strict",
          "coloraxis": {
           "colorbar": {
            "outlinewidth": 0,
            "ticks": ""
           }
          },
          "colorscale": {
           "diverging": [
            [
             0,
             "#8e0152"
            ],
            [
             0.1,
             "#c51b7d"
            ],
            [
             0.2,
             "#de77ae"
            ],
            [
             0.3,
             "#f1b6da"
            ],
            [
             0.4,
             "#fde0ef"
            ],
            [
             0.5,
             "#f7f7f7"
            ],
            [
             0.6,
             "#e6f5d0"
            ],
            [
             0.7,
             "#b8e186"
            ],
            [
             0.8,
             "#7fbc41"
            ],
            [
             0.9,
             "#4d9221"
            ],
            [
             1,
             "#276419"
            ]
           ],
           "sequential": [
            [
             0,
             "#0d0887"
            ],
            [
             0.1111111111111111,
             "#46039f"
            ],
            [
             0.2222222222222222,
             "#7201a8"
            ],
            [
             0.3333333333333333,
             "#9c179e"
            ],
            [
             0.4444444444444444,
             "#bd3786"
            ],
            [
             0.5555555555555556,
             "#d8576b"
            ],
            [
             0.6666666666666666,
             "#ed7953"
            ],
            [
             0.7777777777777778,
             "#fb9f3a"
            ],
            [
             0.8888888888888888,
             "#fdca26"
            ],
            [
             1,
             "#f0f921"
            ]
           ],
           "sequentialminus": [
            [
             0,
             "#0d0887"
            ],
            [
             0.1111111111111111,
             "#46039f"
            ],
            [
             0.2222222222222222,
             "#7201a8"
            ],
            [
             0.3333333333333333,
             "#9c179e"
            ],
            [
             0.4444444444444444,
             "#bd3786"
            ],
            [
             0.5555555555555556,
             "#d8576b"
            ],
            [
             0.6666666666666666,
             "#ed7953"
            ],
            [
             0.7777777777777778,
             "#fb9f3a"
            ],
            [
             0.8888888888888888,
             "#fdca26"
            ],
            [
             1,
             "#f0f921"
            ]
           ]
          },
          "colorway": [
           "#636efa",
           "#EF553B",
           "#00cc96",
           "#ab63fa",
           "#FFA15A",
           "#19d3f3",
           "#FF6692",
           "#B6E880",
           "#FF97FF",
           "#FECB52"
          ],
          "font": {
           "color": "#2a3f5f"
          },
          "geo": {
           "bgcolor": "white",
           "lakecolor": "white",
           "landcolor": "#E5ECF6",
           "showlakes": true,
           "showland": true,
           "subunitcolor": "white"
          },
          "hoverlabel": {
           "align": "left"
          },
          "hovermode": "closest",
          "mapbox": {
           "style": "light"
          },
          "paper_bgcolor": "white",
          "plot_bgcolor": "#E5ECF6",
          "polar": {
           "angularaxis": {
            "gridcolor": "white",
            "linecolor": "white",
            "ticks": ""
           },
           "bgcolor": "#E5ECF6",
           "radialaxis": {
            "gridcolor": "white",
            "linecolor": "white",
            "ticks": ""
           }
          },
          "scene": {
           "xaxis": {
            "backgroundcolor": "#E5ECF6",
            "gridcolor": "white",
            "gridwidth": 2,
            "linecolor": "white",
            "showbackground": true,
            "ticks": "",
            "zerolinecolor": "white"
           },
           "yaxis": {
            "backgroundcolor": "#E5ECF6",
            "gridcolor": "white",
            "gridwidth": 2,
            "linecolor": "white",
            "showbackground": true,
            "ticks": "",
            "zerolinecolor": "white"
           },
           "zaxis": {
            "backgroundcolor": "#E5ECF6",
            "gridcolor": "white",
            "gridwidth": 2,
            "linecolor": "white",
            "showbackground": true,
            "ticks": "",
            "zerolinecolor": "white"
           }
          },
          "shapedefaults": {
           "line": {
            "color": "#2a3f5f"
           }
          },
          "ternary": {
           "aaxis": {
            "gridcolor": "white",
            "linecolor": "white",
            "ticks": ""
           },
           "baxis": {
            "gridcolor": "white",
            "linecolor": "white",
            "ticks": ""
           },
           "bgcolor": "#E5ECF6",
           "caxis": {
            "gridcolor": "white",
            "linecolor": "white",
            "ticks": ""
           }
          },
          "title": {
           "x": 0.05
          },
          "xaxis": {
           "automargin": true,
           "gridcolor": "white",
           "linecolor": "white",
           "ticks": "",
           "title": {
            "standoff": 15
           },
           "zerolinecolor": "white",
           "zerolinewidth": 2
          },
          "yaxis": {
           "automargin": true,
           "gridcolor": "white",
           "linecolor": "white",
           "ticks": "",
           "title": {
            "standoff": 15
           },
           "zerolinecolor": "white",
           "zerolinewidth": 2
          }
         }
        },
        "title": {
         "text": "PCA K-mean clustering of football players"
        },
        "xaxis": {
         "anchor": "y",
         "domain": [
          0,
          1
         ],
         "title": {
          "text": "PCA Cluster"
         }
        },
        "yaxis": {
         "anchor": "x",
         "domain": [
          0,
          1
         ],
         "title": {
          "text": "Goals"
         }
        }
       }
      },
      "text/html": [
       "<div>                            <div id=\"464c3177-887f-4579-994e-100d42161c30\" class=\"plotly-graph-div\" style=\"height:525px; width:100%;\"></div>            <script type=\"text/javascript\">                require([\"plotly\"], function(Plotly) {                    window.PLOTLYENV=window.PLOTLYENV || {};                                    if (document.getElementById(\"464c3177-887f-4579-994e-100d42161c30\")) {                    Plotly.newPlot(                        \"464c3177-887f-4579-994e-100d42161c30\",                        [{\"hovertemplate\":\"PCA Cluster=%{marker.color}\\u003cbr\\u003eGoals=%{y}\\u003cextra\\u003e\\u003c\\u002fextra\\u003e\",\"legendgroup\":\"\",\"marker\":{\"color\":[1,2,0,3],\"coloraxis\":\"coloraxis\",\"symbol\":\"circle\"},\"mode\":\"markers\",\"name\":\"\",\"orientation\":\"v\",\"showlegend\":false,\"x\":[1,2,0,3],\"xaxis\":\"x\",\"y\":[127.93960868019964,-15.599600654984696,-17.376708719613102,-94.96329930560205],\"yaxis\":\"y\",\"type\":\"scatter\",\"textposition\":\"top center\"}],                        {\"template\":{\"data\":{\"histogram2dcontour\":[{\"type\":\"histogram2dcontour\",\"colorbar\":{\"outlinewidth\":0,\"ticks\":\"\"},\"colorscale\":[[0.0,\"#0d0887\"],[0.1111111111111111,\"#46039f\"],[0.2222222222222222,\"#7201a8\"],[0.3333333333333333,\"#9c179e\"],[0.4444444444444444,\"#bd3786\"],[0.5555555555555556,\"#d8576b\"],[0.6666666666666666,\"#ed7953\"],[0.7777777777777778,\"#fb9f3a\"],[0.8888888888888888,\"#fdca26\"],[1.0,\"#f0f921\"]]}],\"choropleth\":[{\"type\":\"choropleth\",\"colorbar\":{\"outlinewidth\":0,\"ticks\":\"\"}}],\"histogram2d\":[{\"type\":\"histogram2d\",\"colorbar\":{\"outlinewidth\":0,\"ticks\":\"\"},\"colorscale\":[[0.0,\"#0d0887\"],[0.1111111111111111,\"#46039f\"],[0.2222222222222222,\"#7201a8\"],[0.3333333333333333,\"#9c179e\"],[0.4444444444444444,\"#bd3786\"],[0.5555555555555556,\"#d8576b\"],[0.6666666666666666,\"#ed7953\"],[0.7777777777777778,\"#fb9f3a\"],[0.8888888888888888,\"#fdca26\"],[1.0,\"#f0f921\"]]}],\"heatmap\":[{\"type\":\"heatmap\",\"colorbar\":{\"outlinewidth\":0,\"ticks\":\"\"},\"colorscale\":[[0.0,\"#0d0887\"],[0.1111111111111111,\"#46039f\"],[0.2222222222222222,\"#7201a8\"],[0.3333333333333333,\"#9c179e\"],[0.4444444444444444,\"#bd3786\"],[0.5555555555555556,\"#d8576b\"],[0.6666666666666666,\"#ed7953\"],[0.7777777777777778,\"#fb9f3a\"],[0.8888888888888888,\"#fdca26\"],[1.0,\"#f0f921\"]]}],\"heatmapgl\":[{\"type\":\"heatmapgl\",\"colorbar\":{\"outlinewidth\":0,\"ticks\":\"\"},\"colorscale\":[[0.0,\"#0d0887\"],[0.1111111111111111,\"#46039f\"],[0.2222222222222222,\"#7201a8\"],[0.3333333333333333,\"#9c179e\"],[0.4444444444444444,\"#bd3786\"],[0.5555555555555556,\"#d8576b\"],[0.6666666666666666,\"#ed7953\"],[0.7777777777777778,\"#fb9f3a\"],[0.8888888888888888,\"#fdca26\"],[1.0,\"#f0f921\"]]}],\"contourcarpet\":[{\"type\":\"contourcarpet\",\"colorbar\":{\"outlinewidth\":0,\"ticks\":\"\"}}],\"contour\":[{\"type\":\"contour\",\"colorbar\":{\"outlinewidth\":0,\"ticks\":\"\"},\"colorscale\":[[0.0,\"#0d0887\"],[0.1111111111111111,\"#46039f\"],[0.2222222222222222,\"#7201a8\"],[0.3333333333333333,\"#9c179e\"],[0.4444444444444444,\"#bd3786\"],[0.5555555555555556,\"#d8576b\"],[0.6666666666666666,\"#ed7953\"],[0.7777777777777778,\"#fb9f3a\"],[0.8888888888888888,\"#fdca26\"],[1.0,\"#f0f921\"]]}],\"surface\":[{\"type\":\"surface\",\"colorbar\":{\"outlinewidth\":0,\"ticks\":\"\"},\"colorscale\":[[0.0,\"#0d0887\"],[0.1111111111111111,\"#46039f\"],[0.2222222222222222,\"#7201a8\"],[0.3333333333333333,\"#9c179e\"],[0.4444444444444444,\"#bd3786\"],[0.5555555555555556,\"#d8576b\"],[0.6666666666666666,\"#ed7953\"],[0.7777777777777778,\"#fb9f3a\"],[0.8888888888888888,\"#fdca26\"],[1.0,\"#f0f921\"]]}],\"mesh3d\":[{\"type\":\"mesh3d\",\"colorbar\":{\"outlinewidth\":0,\"ticks\":\"\"}}],\"scatter\":[{\"fillpattern\":{\"fillmode\":\"overlay\",\"size\":10,\"solidity\":0.2},\"type\":\"scatter\"}],\"parcoords\":[{\"type\":\"parcoords\",\"line\":{\"colorbar\":{\"outlinewidth\":0,\"ticks\":\"\"}}}],\"scatterpolargl\":[{\"type\":\"scatterpolargl\",\"marker\":{\"colorbar\":{\"outlinewidth\":0,\"ticks\":\"\"}}}],\"bar\":[{\"error_x\":{\"color\":\"#2a3f5f\"},\"error_y\":{\"color\":\"#2a3f5f\"},\"marker\":{\"line\":{\"color\":\"#E5ECF6\",\"width\":0.5},\"pattern\":{\"fillmode\":\"overlay\",\"size\":10,\"solidity\":0.2}},\"type\":\"bar\"}],\"scattergeo\":[{\"type\":\"scattergeo\",\"marker\":{\"colorbar\":{\"outlinewidth\":0,\"ticks\":\"\"}}}],\"scatterpolar\":[{\"type\":\"scatterpolar\",\"marker\":{\"colorbar\":{\"outlinewidth\":0,\"ticks\":\"\"}}}],\"histogram\":[{\"marker\":{\"pattern\":{\"fillmode\":\"overlay\",\"size\":10,\"solidity\":0.2}},\"type\":\"histogram\"}],\"scattergl\":[{\"type\":\"scattergl\",\"marker\":{\"colorbar\":{\"outlinewidth\":0,\"ticks\":\"\"}}}],\"scatter3d\":[{\"type\":\"scatter3d\",\"line\":{\"colorbar\":{\"outlinewidth\":0,\"ticks\":\"\"}},\"marker\":{\"colorbar\":{\"outlinewidth\":0,\"ticks\":\"\"}}}],\"scattermapbox\":[{\"type\":\"scattermapbox\",\"marker\":{\"colorbar\":{\"outlinewidth\":0,\"ticks\":\"\"}}}],\"scatterternary\":[{\"type\":\"scatterternary\",\"marker\":{\"colorbar\":{\"outlinewidth\":0,\"ticks\":\"\"}}}],\"scattercarpet\":[{\"type\":\"scattercarpet\",\"marker\":{\"colorbar\":{\"outlinewidth\":0,\"ticks\":\"\"}}}],\"carpet\":[{\"aaxis\":{\"endlinecolor\":\"#2a3f5f\",\"gridcolor\":\"white\",\"linecolor\":\"white\",\"minorgridcolor\":\"white\",\"startlinecolor\":\"#2a3f5f\"},\"baxis\":{\"endlinecolor\":\"#2a3f5f\",\"gridcolor\":\"white\",\"linecolor\":\"white\",\"minorgridcolor\":\"white\",\"startlinecolor\":\"#2a3f5f\"},\"type\":\"carpet\"}],\"table\":[{\"cells\":{\"fill\":{\"color\":\"#EBF0F8\"},\"line\":{\"color\":\"white\"}},\"header\":{\"fill\":{\"color\":\"#C8D4E3\"},\"line\":{\"color\":\"white\"}},\"type\":\"table\"}],\"barpolar\":[{\"marker\":{\"line\":{\"color\":\"#E5ECF6\",\"width\":0.5},\"pattern\":{\"fillmode\":\"overlay\",\"size\":10,\"solidity\":0.2}},\"type\":\"barpolar\"}],\"pie\":[{\"automargin\":true,\"type\":\"pie\"}]},\"layout\":{\"autotypenumbers\":\"strict\",\"colorway\":[\"#636efa\",\"#EF553B\",\"#00cc96\",\"#ab63fa\",\"#FFA15A\",\"#19d3f3\",\"#FF6692\",\"#B6E880\",\"#FF97FF\",\"#FECB52\"],\"font\":{\"color\":\"#2a3f5f\"},\"hovermode\":\"closest\",\"hoverlabel\":{\"align\":\"left\"},\"paper_bgcolor\":\"white\",\"plot_bgcolor\":\"#E5ECF6\",\"polar\":{\"bgcolor\":\"#E5ECF6\",\"angularaxis\":{\"gridcolor\":\"white\",\"linecolor\":\"white\",\"ticks\":\"\"},\"radialaxis\":{\"gridcolor\":\"white\",\"linecolor\":\"white\",\"ticks\":\"\"}},\"ternary\":{\"bgcolor\":\"#E5ECF6\",\"aaxis\":{\"gridcolor\":\"white\",\"linecolor\":\"white\",\"ticks\":\"\"},\"baxis\":{\"gridcolor\":\"white\",\"linecolor\":\"white\",\"ticks\":\"\"},\"caxis\":{\"gridcolor\":\"white\",\"linecolor\":\"white\",\"ticks\":\"\"}},\"coloraxis\":{\"colorbar\":{\"outlinewidth\":0,\"ticks\":\"\"}},\"colorscale\":{\"sequential\":[[0.0,\"#0d0887\"],[0.1111111111111111,\"#46039f\"],[0.2222222222222222,\"#7201a8\"],[0.3333333333333333,\"#9c179e\"],[0.4444444444444444,\"#bd3786\"],[0.5555555555555556,\"#d8576b\"],[0.6666666666666666,\"#ed7953\"],[0.7777777777777778,\"#fb9f3a\"],[0.8888888888888888,\"#fdca26\"],[1.0,\"#f0f921\"]],\"sequentialminus\":[[0.0,\"#0d0887\"],[0.1111111111111111,\"#46039f\"],[0.2222222222222222,\"#7201a8\"],[0.3333333333333333,\"#9c179e\"],[0.4444444444444444,\"#bd3786\"],[0.5555555555555556,\"#d8576b\"],[0.6666666666666666,\"#ed7953\"],[0.7777777777777778,\"#fb9f3a\"],[0.8888888888888888,\"#fdca26\"],[1.0,\"#f0f921\"]],\"diverging\":[[0,\"#8e0152\"],[0.1,\"#c51b7d\"],[0.2,\"#de77ae\"],[0.3,\"#f1b6da\"],[0.4,\"#fde0ef\"],[0.5,\"#f7f7f7\"],[0.6,\"#e6f5d0\"],[0.7,\"#b8e186\"],[0.8,\"#7fbc41\"],[0.9,\"#4d9221\"],[1,\"#276419\"]]},\"xaxis\":{\"gridcolor\":\"white\",\"linecolor\":\"white\",\"ticks\":\"\",\"title\":{\"standoff\":15},\"zerolinecolor\":\"white\",\"automargin\":true,\"zerolinewidth\":2},\"yaxis\":{\"gridcolor\":\"white\",\"linecolor\":\"white\",\"ticks\":\"\",\"title\":{\"standoff\":15},\"zerolinecolor\":\"white\",\"automargin\":true,\"zerolinewidth\":2},\"scene\":{\"xaxis\":{\"backgroundcolor\":\"#E5ECF6\",\"gridcolor\":\"white\",\"linecolor\":\"white\",\"showbackground\":true,\"ticks\":\"\",\"zerolinecolor\":\"white\",\"gridwidth\":2},\"yaxis\":{\"backgroundcolor\":\"#E5ECF6\",\"gridcolor\":\"white\",\"linecolor\":\"white\",\"showbackground\":true,\"ticks\":\"\",\"zerolinecolor\":\"white\",\"gridwidth\":2},\"zaxis\":{\"backgroundcolor\":\"#E5ECF6\",\"gridcolor\":\"white\",\"linecolor\":\"white\",\"showbackground\":true,\"ticks\":\"\",\"zerolinecolor\":\"white\",\"gridwidth\":2}},\"shapedefaults\":{\"line\":{\"color\":\"#2a3f5f\"}},\"annotationdefaults\":{\"arrowcolor\":\"#2a3f5f\",\"arrowhead\":0,\"arrowwidth\":1},\"geo\":{\"bgcolor\":\"white\",\"landcolor\":\"#E5ECF6\",\"subunitcolor\":\"white\",\"showland\":true,\"showlakes\":true,\"lakecolor\":\"white\"},\"title\":{\"x\":0.05},\"mapbox\":{\"style\":\"light\"}}},\"xaxis\":{\"anchor\":\"y\",\"domain\":[0.0,1.0],\"title\":{\"text\":\"PCA Cluster\"}},\"yaxis\":{\"anchor\":\"x\",\"domain\":[0.0,1.0],\"title\":{\"text\":\"Goals\"}},\"coloraxis\":{\"colorbar\":{\"title\":{\"text\":\"PCA Cluster\"}},\"colorscale\":[[0.0,\"#0d0887\"],[0.1111111111111111,\"#46039f\"],[0.2222222222222222,\"#7201a8\"],[0.3333333333333333,\"#9c179e\"],[0.4444444444444444,\"#bd3786\"],[0.5555555555555556,\"#d8576b\"],[0.6666666666666666,\"#ed7953\"],[0.7777777777777778,\"#fb9f3a\"],[0.8888888888888888,\"#fdca26\"],[1.0,\"#f0f921\"]]},\"legend\":{\"tracegroupgap\":0},\"title\":{\"text\":\"PCA K-mean clustering of football players\"}},                        {\"responsive\": true}                    ).then(function(){\n",
       "                            \n",
       "var gd = document.getElementById('464c3177-887f-4579-994e-100d42161c30');\n",
       "var x = new MutationObserver(function (mutations, observer) {{\n",
       "        var display = window.getComputedStyle(gd).display;\n",
       "        if (!display || display === 'none') {{\n",
       "            console.log([gd, 'removed!']);\n",
       "            Plotly.purge(gd);\n",
       "            observer.disconnect();\n",
       "        }}\n",
       "}});\n",
       "\n",
       "// Listen for the removal of the full notebook cells\n",
       "var notebookContainer = gd.closest('#notebook-container');\n",
       "if (notebookContainer) {{\n",
       "    x.observe(notebookContainer, {childList: true});\n",
       "}}\n",
       "\n",
       "// Listen for the clearing of the current output cell\n",
       "var outputEl = gd.closest('.output');\n",
       "if (outputEl) {{\n",
       "    x.observe(outputEl, {childList: true});\n",
       "}}\n",
       "\n",
       "                        })                };                });            </script>        </div>"
      ]
     },
     "metadata": {},
     "output_type": "display_data"
    }
   ],
   "source": [
    "fig = px.scatter(df_groupby,x=\"PCA Cluster\",y=\"Goals\",color=\"PCA Cluster\",title=\"PCA K-mean clustering of football players\")\n",
    "fig.update_traces(textposition='top center')\n",
    "fig.show()"
   ]
  },
  {
   "cell_type": "code",
   "execution_count": 55,
   "metadata": {},
   "outputs": [],
   "source": [
    "df[newdf] = scaler.inverse_transform(df[newdf])"
   ]
  },
  {
   "cell_type": "code",
   "execution_count": 56,
   "metadata": {},
   "outputs": [
    {
     "data": {
      "text/html": [
       "<div>\n",
       "<style scoped>\n",
       "    .dataframe tbody tr th:only-of-type {\n",
       "        vertical-align: middle;\n",
       "    }\n",
       "\n",
       "    .dataframe tbody tr th {\n",
       "        vertical-align: top;\n",
       "    }\n",
       "\n",
       "    .dataframe thead th {\n",
       "        text-align: right;\n",
       "    }\n",
       "</style>\n",
       "<table border=\"1\" class=\"dataframe\">\n",
       "  <thead>\n",
       "    <tr style=\"text-align: right;\">\n",
       "      <th></th>\n",
       "      <th>Player_Name</th>\n",
       "      <th>Club</th>\n",
       "      <th>Position</th>\n",
       "      <th>Goals_Scored</th>\n",
       "      <th>Assists</th>\n",
       "      <th>Total_Points</th>\n",
       "      <th>Minutes</th>\n",
       "      <th>Goals_Conceded</th>\n",
       "      <th>Creativity</th>\n",
       "      <th>Influence</th>\n",
       "      <th>Threat</th>\n",
       "      <th>Bonus</th>\n",
       "      <th>Clean_Sheets</th>\n",
       "    </tr>\n",
       "  </thead>\n",
       "  <tbody>\n",
       "    <tr>\n",
       "      <th>0</th>\n",
       "      <td>Alex Runnarsson</td>\n",
       "      <td>Arsenal</td>\n",
       "      <td>Goalkeeper</td>\n",
       "      <td>-2.220446e-16</td>\n",
       "      <td>-2.220446e-16</td>\n",
       "      <td>1.0</td>\n",
       "      <td>15.0</td>\n",
       "      <td>0.0</td>\n",
       "      <td>0.0</td>\n",
       "      <td>16.6</td>\n",
       "      <td>2.842171e-14</td>\n",
       "      <td>0.0</td>\n",
       "      <td>0.0</td>\n",
       "    </tr>\n",
       "    <tr>\n",
       "      <th>1</th>\n",
       "      <td>Alexandre Lacazette</td>\n",
       "      <td>Arsenal</td>\n",
       "      <td>Forward</td>\n",
       "      <td>1.300000e+01</td>\n",
       "      <td>3.000000e+00</td>\n",
       "      <td>129.0</td>\n",
       "      <td>1916.0</td>\n",
       "      <td>21.0</td>\n",
       "      <td>307.4</td>\n",
       "      <td>602.4</td>\n",
       "      <td>7.970000e+02</td>\n",
       "      <td>21.0</td>\n",
       "      <td>7.0</td>\n",
       "    </tr>\n",
       "    <tr>\n",
       "      <th>2</th>\n",
       "      <td>Bernd Leno</td>\n",
       "      <td>Arsenal</td>\n",
       "      <td>Goalkeeper</td>\n",
       "      <td>-2.220446e-16</td>\n",
       "      <td>-2.220446e-16</td>\n",
       "      <td>131.0</td>\n",
       "      <td>3131.0</td>\n",
       "      <td>37.0</td>\n",
       "      <td>0.0</td>\n",
       "      <td>702.2</td>\n",
       "      <td>2.000000e+00</td>\n",
       "      <td>11.0</td>\n",
       "      <td>11.0</td>\n",
       "    </tr>\n",
       "    <tr>\n",
       "      <th>3</th>\n",
       "      <td>Bukayo Saka</td>\n",
       "      <td>Arsenal</td>\n",
       "      <td>Midfielder</td>\n",
       "      <td>5.000000e+00</td>\n",
       "      <td>5.000000e+00</td>\n",
       "      <td>114.0</td>\n",
       "      <td>2554.0</td>\n",
       "      <td>31.0</td>\n",
       "      <td>650.6</td>\n",
       "      <td>493.0</td>\n",
       "      <td>9.840000e+02</td>\n",
       "      <td>8.0</td>\n",
       "      <td>8.0</td>\n",
       "    </tr>\n",
       "    <tr>\n",
       "      <th>4</th>\n",
       "      <td>Calum Chambers</td>\n",
       "      <td>Arsenal</td>\n",
       "      <td>Defender</td>\n",
       "      <td>-2.220446e-16</td>\n",
       "      <td>3.000000e+00</td>\n",
       "      <td>36.0</td>\n",
       "      <td>751.0</td>\n",
       "      <td>10.0</td>\n",
       "      <td>169.4</td>\n",
       "      <td>171.8</td>\n",
       "      <td>7.700000e+01</td>\n",
       "      <td>3.0</td>\n",
       "      <td>2.0</td>\n",
       "    </tr>\n",
       "    <tr>\n",
       "      <th>...</th>\n",
       "      <td>...</td>\n",
       "      <td>...</td>\n",
       "      <td>...</td>\n",
       "      <td>...</td>\n",
       "      <td>...</td>\n",
       "      <td>...</td>\n",
       "      <td>...</td>\n",
       "      <td>...</td>\n",
       "      <td>...</td>\n",
       "      <td>...</td>\n",
       "      <td>...</td>\n",
       "      <td>...</td>\n",
       "      <td>...</td>\n",
       "    </tr>\n",
       "    <tr>\n",
       "      <th>471</th>\n",
       "      <td>Ruben Vinagre</td>\n",
       "      <td>Wolverhampton Wanderers</td>\n",
       "      <td>Defender</td>\n",
       "      <td>-2.220446e-16</td>\n",
       "      <td>-2.220446e-16</td>\n",
       "      <td>1.0</td>\n",
       "      <td>172.0</td>\n",
       "      <td>7.0</td>\n",
       "      <td>25.3</td>\n",
       "      <td>31.2</td>\n",
       "      <td>2.842171e-14</td>\n",
       "      <td>0.0</td>\n",
       "      <td>0.0</td>\n",
       "    </tr>\n",
       "    <tr>\n",
       "      <th>472</th>\n",
       "      <td>Rui Pedro Patricio</td>\n",
       "      <td>Wolverhampton Wanderers</td>\n",
       "      <td>Goalkeeper</td>\n",
       "      <td>-2.220446e-16</td>\n",
       "      <td>-2.220446e-16</td>\n",
       "      <td>132.0</td>\n",
       "      <td>3330.0</td>\n",
       "      <td>51.0</td>\n",
       "      <td>0.0</td>\n",
       "      <td>763.6</td>\n",
       "      <td>2.842171e-14</td>\n",
       "      <td>12.0</td>\n",
       "      <td>10.0</td>\n",
       "    </tr>\n",
       "    <tr>\n",
       "      <th>473</th>\n",
       "      <td>Vitor Ferreira</td>\n",
       "      <td>Wolverhampton Wanderers</td>\n",
       "      <td>Midfielder</td>\n",
       "      <td>-2.220446e-16</td>\n",
       "      <td>1.000000e+00</td>\n",
       "      <td>26.0</td>\n",
       "      <td>509.0</td>\n",
       "      <td>8.0</td>\n",
       "      <td>179.0</td>\n",
       "      <td>80.0</td>\n",
       "      <td>7.200000e+01</td>\n",
       "      <td>0.0</td>\n",
       "      <td>0.0</td>\n",
       "    </tr>\n",
       "    <tr>\n",
       "      <th>474</th>\n",
       "      <td>Willian Jose</td>\n",
       "      <td>Wolverhampton Wanderers</td>\n",
       "      <td>Forward</td>\n",
       "      <td>1.000000e+00</td>\n",
       "      <td>1.000000e+00</td>\n",
       "      <td>40.0</td>\n",
       "      <td>1106.0</td>\n",
       "      <td>13.0</td>\n",
       "      <td>165.9</td>\n",
       "      <td>89.6</td>\n",
       "      <td>2.560000e+02</td>\n",
       "      <td>3.0</td>\n",
       "      <td>5.0</td>\n",
       "    </tr>\n",
       "    <tr>\n",
       "      <th>475</th>\n",
       "      <td>Willy Boly</td>\n",
       "      <td>Wolverhampton Wanderers</td>\n",
       "      <td>Defender</td>\n",
       "      <td>1.000000e+00</td>\n",
       "      <td>1.000000e+00</td>\n",
       "      <td>68.0</td>\n",
       "      <td>1879.0</td>\n",
       "      <td>29.0</td>\n",
       "      <td>46.1</td>\n",
       "      <td>414.0</td>\n",
       "      <td>1.820000e+02</td>\n",
       "      <td>4.0</td>\n",
       "      <td>6.0</td>\n",
       "    </tr>\n",
       "  </tbody>\n",
       "</table>\n",
       "<p>476 rows × 13 columns</p>\n",
       "</div>"
      ],
      "text/plain": [
       "             Player_Name                     Club    Position  Goals_Scored  \\\n",
       "0        Alex Runnarsson                  Arsenal  Goalkeeper -2.220446e-16   \n",
       "1    Alexandre Lacazette                  Arsenal     Forward  1.300000e+01   \n",
       "2             Bernd Leno                  Arsenal  Goalkeeper -2.220446e-16   \n",
       "3            Bukayo Saka                  Arsenal  Midfielder  5.000000e+00   \n",
       "4         Calum Chambers                  Arsenal    Defender -2.220446e-16   \n",
       "..                   ...                      ...         ...           ...   \n",
       "471        Ruben Vinagre  Wolverhampton Wanderers    Defender -2.220446e-16   \n",
       "472   Rui Pedro Patricio  Wolverhampton Wanderers  Goalkeeper -2.220446e-16   \n",
       "473       Vitor Ferreira  Wolverhampton Wanderers  Midfielder -2.220446e-16   \n",
       "474         Willian Jose  Wolverhampton Wanderers     Forward  1.000000e+00   \n",
       "475           Willy Boly  Wolverhampton Wanderers    Defender  1.000000e+00   \n",
       "\n",
       "          Assists  Total_Points  Minutes  Goals_Conceded  Creativity  \\\n",
       "0   -2.220446e-16           1.0     15.0             0.0         0.0   \n",
       "1    3.000000e+00         129.0   1916.0            21.0       307.4   \n",
       "2   -2.220446e-16         131.0   3131.0            37.0         0.0   \n",
       "3    5.000000e+00         114.0   2554.0            31.0       650.6   \n",
       "4    3.000000e+00          36.0    751.0            10.0       169.4   \n",
       "..            ...           ...      ...             ...         ...   \n",
       "471 -2.220446e-16           1.0    172.0             7.0        25.3   \n",
       "472 -2.220446e-16         132.0   3330.0            51.0         0.0   \n",
       "473  1.000000e+00          26.0    509.0             8.0       179.0   \n",
       "474  1.000000e+00          40.0   1106.0            13.0       165.9   \n",
       "475  1.000000e+00          68.0   1879.0            29.0        46.1   \n",
       "\n",
       "     Influence        Threat  Bonus  Clean_Sheets  \n",
       "0         16.6  2.842171e-14    0.0           0.0  \n",
       "1        602.4  7.970000e+02   21.0           7.0  \n",
       "2        702.2  2.000000e+00   11.0          11.0  \n",
       "3        493.0  9.840000e+02    8.0           8.0  \n",
       "4        171.8  7.700000e+01    3.0           2.0  \n",
       "..         ...           ...    ...           ...  \n",
       "471       31.2  2.842171e-14    0.0           0.0  \n",
       "472      763.6  2.842171e-14   12.0          10.0  \n",
       "473       80.0  7.200000e+01    0.0           0.0  \n",
       "474       89.6  2.560000e+02    3.0           5.0  \n",
       "475      414.0  1.820000e+02    4.0           6.0  \n",
       "\n",
       "[476 rows x 13 columns]"
      ]
     },
     "execution_count": 56,
     "metadata": {},
     "output_type": "execute_result"
    }
   ],
   "source": [
    "df"
   ]
  },
  {
   "cell_type": "code",
   "execution_count": null,
   "metadata": {},
   "outputs": [],
   "source": []
  }
 ],
 "metadata": {
  "kernelspec": {
   "display_name": "Python 3",
   "language": "python",
   "name": "python3"
  },
  "language_info": {
   "codemirror_mode": {
    "name": "ipython",
    "version": 3
   },
   "file_extension": ".py",
   "mimetype": "text/x-python",
   "name": "python",
   "nbconvert_exporter": "python",
   "pygments_lexer": "ipython3",
   "version": "3.7.0"
  }
 },
 "nbformat": 4,
 "nbformat_minor": 2
}
