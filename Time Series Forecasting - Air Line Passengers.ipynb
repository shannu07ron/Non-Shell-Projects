{
 "cells": [
  {
   "cell_type": "markdown",
   "metadata": {},
   "source": [
    "Airline passenger forecast next 10 months"
   ]
  },
  {
   "cell_type": "code",
   "execution_count": 1,
   "metadata": {},
   "outputs": [
    {
     "name": "stderr",
     "output_type": "stream",
     "text": [
      "C:\\Users\\Shanmukh.Maddila\\AppData\\Local\\Continuum\\anaconda3\\lib\\site-packages\\statsmodels\\compat\\pandas.py:49: FutureWarning: The Panel class is removed from pandas. Accessing it from the top-level namespace will also be removed in the next version\n",
      "  data_klasses = (pandas.Series, pandas.DataFrame, pandas.Panel)\n"
     ]
    }
   ],
   "source": [
    " import numpy as np\n",
    " import pandas as pd\n",
    " from scipy import stats\n",
    " import statsmodels.api as sm\n",
    " import matplotlib.pyplot as plt\n",
    " import seaborn as sns"
   ]
  },
  {
   "cell_type": "code",
   "execution_count": 5,
   "metadata": {},
   "outputs": [
    {
     "name": "stdout",
     "output_type": "stream",
     "text": [
      "Collecting pip\n",
      "  Downloading https://files.pythonhosted.org/packages/8a/6a/19e9fe04fca059ccf770861c7d5721ab4c2aebc539889e97c7977528a53b/pip-24.0-py3-none-any.whl (2.1MB)\n",
      "Installing collected packages: pip\n",
      "  Found existing installation: pip 10.0.1\n",
      "    Uninstalling pip-10.0.1:\n",
      "      Successfully uninstalled pip-10.0.1\n",
      "Successfully installed pip-24.0\n"
     ]
    },
    {
     "name": "stderr",
     "output_type": "stream",
     "text": [
      "twisted 18.7.0 requires PyHamcrest>=1.9.0, which is not installed.\n"
     ]
    }
   ],
   "source": [
    "!python -m pip install --upgrade pip"
   ]
  },
  {
   "cell_type": "code",
   "execution_count": 8,
   "metadata": {
    "scrolled": false
   },
   "outputs": [
    {
     "name": "stdout",
     "output_type": "stream",
     "text": [
      "Collecting prophet\n",
      "  Downloading prophet-1.1.5-py3-none-win_amd64.whl.metadata (3.6 kB)\n",
      "Collecting cmdstanpy>=1.0.4 (from prophet)\n",
      "  Downloading cmdstanpy-1.1.0-py3-none-any.whl.metadata (3.8 kB)\n",
      "Collecting numpy>=1.15.4 (from prophet)\n",
      "  Using cached numpy-1.21.6-cp37-cp37m-win_amd64.whl.metadata (2.2 kB)\n",
      "Requirement already satisfied: matplotlib>=2.0.0 in c:\\users\\shanmukh.maddila\\appdata\\local\\continuum\\anaconda3\\lib\\site-packages (from prophet) (2.2.3)\n",
      "Collecting pandas>=1.0.4 (from prophet)\n",
      "  Using cached pandas-1.1.5-cp37-cp37m-win_amd64.whl.metadata (4.7 kB)\n",
      "Collecting holidays>=0.25 (from prophet)\n",
      "  Using cached holidays-0.27.1-py3-none-any.whl.metadata (15 kB)\n",
      "Collecting tqdm>=4.36.1 (from prophet)\n",
      "  Using cached tqdm-4.66.4-py3-none-any.whl.metadata (57 kB)\n",
      "Collecting importlib-resources (from prophet)\n",
      "  Downloading importlib_resources-5.12.0-py3-none-any.whl.metadata (4.1 kB)\n",
      "Requirement already satisfied: python-dateutil in c:\\users\\shanmukh.maddila\\appdata\\local\\continuum\\anaconda3\\lib\\site-packages (from holidays>=0.25->prophet) (2.7.3)\n",
      "Requirement already satisfied: cycler>=0.10 in c:\\users\\shanmukh.maddila\\appdata\\local\\continuum\\anaconda3\\lib\\site-packages (from matplotlib>=2.0.0->prophet) (0.10.0)\n",
      "Requirement already satisfied: pyparsing!=2.0.4,!=2.1.2,!=2.1.6,>=2.0.1 in c:\\users\\shanmukh.maddila\\appdata\\local\\continuum\\anaconda3\\lib\\site-packages (from matplotlib>=2.0.0->prophet) (2.2.0)\n",
      "Requirement already satisfied: pytz in c:\\users\\shanmukh.maddila\\appdata\\local\\continuum\\anaconda3\\lib\\site-packages (from matplotlib>=2.0.0->prophet) (2018.5)\n",
      "Requirement already satisfied: six>=1.10 in c:\\users\\shanmukh.maddila\\appdata\\local\\continuum\\anaconda3\\lib\\site-packages (from matplotlib>=2.0.0->prophet) (1.11.0)\n",
      "Requirement already satisfied: kiwisolver>=1.0.1 in c:\\users\\shanmukh.maddila\\appdata\\local\\continuum\\anaconda3\\lib\\site-packages (from matplotlib>=2.0.0->prophet) (1.0.1)\n",
      "Requirement already satisfied: colorama in c:\\users\\shanmukh.maddila\\appdata\\local\\continuum\\anaconda3\\lib\\site-packages (from tqdm>=4.36.1->prophet) (0.3.9)\n",
      "Collecting zipp>=3.1.0 (from importlib-resources->prophet)\n",
      "  Downloading zipp-3.15.0-py3-none-any.whl.metadata (3.7 kB)\n",
      "Requirement already satisfied: setuptools in c:\\users\\shanmukh.maddila\\appdata\\local\\continuum\\anaconda3\\lib\\site-packages (from kiwisolver>=1.0.1->matplotlib>=2.0.0->prophet) (40.2.0)\n",
      "Downloading prophet-1.1.5-py3-none-win_amd64.whl (13.3 MB)\n",
      "   ---------------------------------------- 13.3/13.3 MB 9.5 MB/s eta 0:00:00\n",
      "Downloading cmdstanpy-1.1.0-py3-none-any.whl (83 kB)\n",
      "   ---------------------------------------- 83.2/83.2 kB 2.4 MB/s eta 0:00:00\n",
      "Using cached holidays-0.27.1-py3-none-any.whl (598 kB)\n",
      "Using cached numpy-1.21.6-cp37-cp37m-win_amd64.whl (14.0 MB)\n",
      "Using cached pandas-1.1.5-cp37-cp37m-win_amd64.whl (8.7 MB)\n",
      "Using cached tqdm-4.66.4-py3-none-any.whl (78 kB)\n",
      "Downloading importlib_resources-5.12.0-py3-none-any.whl (36 kB)\n",
      "Downloading zipp-3.15.0-py3-none-any.whl (6.8 kB)\n",
      "Installing collected packages: zipp, tqdm, numpy, pandas, importlib-resources, holidays, cmdstanpy, prophet\n",
      "  Attempting uninstall: tqdm\n",
      "    Found existing installation: tqdm 4.26.0\n",
      "    Uninstalling tqdm-4.26.0:\n",
      "      Successfully uninstalled tqdm-4.26.0\n",
      "  Attempting uninstall: numpy\n",
      "    Found existing installation: numpy 1.15.1\n",
      "    Uninstalling numpy-1.15.1:\n",
      "      Successfully uninstalled numpy-1.15.1\n",
      "  Attempting uninstall: pandas\n",
      "    Found existing installation: pandas 0.23.4\n",
      "    Uninstalling pandas-0.23.4:\n",
      "      Successfully uninstalled pandas-0.23.4\n",
      "Successfully installed cmdstanpy-1.1.0 holidays-0.27.1 importlib-resources-5.12.0 numpy-1.21.6 pandas-1.1.5 prophet-1.1.5 tqdm-4.66.4 zipp-3.15.0\n"
     ]
    }
   ],
   "source": [
    "!pip install prophet"
   ]
  },
  {
   "cell_type": "code",
   "execution_count": 2,
   "metadata": {},
   "outputs": [
    {
     "name": "stderr",
     "output_type": "stream",
     "text": [
      "Importing plotly failed. Interactive plots will not work.\n"
     ]
    }
   ],
   "source": [
    "from prophet import Prophet"
   ]
  },
  {
   "cell_type": "code",
   "execution_count": 3,
   "metadata": {},
   "outputs": [],
   "source": [
    "from pandas.io.common import is_url"
   ]
  },
  {
   "cell_type": "code",
   "execution_count": 4,
   "metadata": {},
   "outputs": [],
   "source": [
    "df = pd.read_csv(\"C:/Users/Shanmukh.Maddila/Downloads/AirPassengers.csv\")"
   ]
  },
  {
   "cell_type": "code",
   "execution_count": 5,
   "metadata": {},
   "outputs": [
    {
     "data": {
      "text/html": [
       "<div>\n",
       "<style scoped>\n",
       "    .dataframe tbody tr th:only-of-type {\n",
       "        vertical-align: middle;\n",
       "    }\n",
       "\n",
       "    .dataframe tbody tr th {\n",
       "        vertical-align: top;\n",
       "    }\n",
       "\n",
       "    .dataframe thead th {\n",
       "        text-align: right;\n",
       "    }\n",
       "</style>\n",
       "<table border=\"1\" class=\"dataframe\">\n",
       "  <thead>\n",
       "    <tr style=\"text-align: right;\">\n",
       "      <th></th>\n",
       "      <th>Month</th>\n",
       "      <th>#Passengers</th>\n",
       "    </tr>\n",
       "  </thead>\n",
       "  <tbody>\n",
       "    <tr>\n",
       "      <th>0</th>\n",
       "      <td>1949-01</td>\n",
       "      <td>112</td>\n",
       "    </tr>\n",
       "    <tr>\n",
       "      <th>1</th>\n",
       "      <td>1949-02</td>\n",
       "      <td>118</td>\n",
       "    </tr>\n",
       "  </tbody>\n",
       "</table>\n",
       "</div>"
      ],
      "text/plain": [
       "     Month  #Passengers\n",
       "0  1949-01          112\n",
       "1  1949-02          118"
      ]
     },
     "execution_count": 5,
     "metadata": {},
     "output_type": "execute_result"
    }
   ],
   "source": [
    "df.head(2)"
   ]
  },
  {
   "cell_type": "code",
   "execution_count": 7,
   "metadata": {},
   "outputs": [],
   "source": [
    "x = df[\"Month\"]"
   ]
  },
  {
   "cell_type": "code",
   "execution_count": 8,
   "metadata": {},
   "outputs": [],
   "source": [
    "y= df[\"#Passengers\"]"
   ]
  },
  {
   "cell_type": "code",
   "execution_count": 11,
   "metadata": {},
   "outputs": [
    {
     "name": "stderr",
     "output_type": "stream",
     "text": [
      "C:\\Users\\Shanmukh.Maddila\\AppData\\Local\\Continuum\\anaconda3\\lib\\site-packages\\matplotlib\\cbook\\__init__.py:2064: FutureWarning: Support for multi-dimensional indexing (e.g. `obj[:, None]`) is deprecated and will be removed in a future version.  Convert to a numpy array before indexing instead.\n",
      "  x[:, None]\n",
      "C:\\Users\\Shanmukh.Maddila\\AppData\\Local\\Continuum\\anaconda3\\lib\\site-packages\\matplotlib\\axes\\_base.py:248: FutureWarning: Support for multi-dimensional indexing (e.g. `obj[:, None]`) is deprecated and will be removed in a future version.  Convert to a numpy array before indexing instead.\n",
      "  x = x[:, np.newaxis]\n",
      "C:\\Users\\Shanmukh.Maddila\\AppData\\Local\\Continuum\\anaconda3\\lib\\site-packages\\matplotlib\\axes\\_base.py:250: FutureWarning: Support for multi-dimensional indexing (e.g. `obj[:, None]`) is deprecated and will be removed in a future version.  Convert to a numpy array before indexing instead.\n",
      "  y = y[:, np.newaxis]\n"
     ]
    },
    {
     "data": {
      "text/plain": [
       "Text(0.5,1,'Passenger trend')"
      ]
     },
     "execution_count": 11,
     "metadata": {},
     "output_type": "execute_result"
    },
    {
     "data": {
      "image/png": "[encoded data removed]",
      "text/plain": [
       "<Figure size 432x288 with 1 Axes>"
      ]
     },
     "metadata": {
      "needs_background": "light"
     },
     "output_type": "display_data"
    }
   ],
   "source": [
    "plt.plot(x,y)\n",
    "plt.title(\"Passenger trend\")"
   ]
  },
  {
   "cell_type": "code",
   "execution_count": 12,
   "metadata": {},
   "outputs": [
    {
     "data": {
      "text/plain": [
       "Month          object\n",
       "#Passengers     int64\n",
       "dtype: object"
      ]
     },
     "execution_count": 12,
     "metadata": {},
     "output_type": "execute_result"
    }
   ],
   "source": [
    "df.dtypes"
   ]
  },
  {
   "cell_type": "code",
   "execution_count": 13,
   "metadata": {},
   "outputs": [],
   "source": [
    "df['Date'] = pd.to_datetime(df['Month'])"
   ]
  },
  {
   "cell_type": "code",
   "execution_count": 14,
   "metadata": {},
   "outputs": [
    {
     "data": {
      "text/html": [
       "<div>\n",
       "<style scoped>\n",
       "    .dataframe tbody tr th:only-of-type {\n",
       "        vertical-align: middle;\n",
       "    }\n",
       "\n",
       "    .dataframe tbody tr th {\n",
       "        vertical-align: top;\n",
       "    }\n",
       "\n",
       "    .dataframe thead th {\n",
       "        text-align: right;\n",
       "    }\n",
       "</style>\n",
       "<table border=\"1\" class=\"dataframe\">\n",
       "  <thead>\n",
       "    <tr style=\"text-align: right;\">\n",
       "      <th></th>\n",
       "      <th>Month</th>\n",
       "      <th>#Passengers</th>\n",
       "      <th>Date</th>\n",
       "    </tr>\n",
       "  </thead>\n",
       "  <tbody>\n",
       "    <tr>\n",
       "      <th>0</th>\n",
       "      <td>1949-01</td>\n",
       "      <td>112</td>\n",
       "      <td>1949-01-01</td>\n",
       "    </tr>\n",
       "    <tr>\n",
       "      <th>1</th>\n",
       "      <td>1949-02</td>\n",
       "      <td>118</td>\n",
       "      <td>1949-02-01</td>\n",
       "    </tr>\n",
       "    <tr>\n",
       "      <th>2</th>\n",
       "      <td>1949-03</td>\n",
       "      <td>132</td>\n",
       "      <td>1949-03-01</td>\n",
       "    </tr>\n",
       "    <tr>\n",
       "      <th>3</th>\n",
       "      <td>1949-04</td>\n",
       "      <td>129</td>\n",
       "      <td>1949-04-01</td>\n",
       "    </tr>\n",
       "    <tr>\n",
       "      <th>4</th>\n",
       "      <td>1949-05</td>\n",
       "      <td>121</td>\n",
       "      <td>1949-05-01</td>\n",
       "    </tr>\n",
       "  </tbody>\n",
       "</table>\n",
       "</div>"
      ],
      "text/plain": [
       "     Month  #Passengers       Date\n",
       "0  1949-01          112 1949-01-01\n",
       "1  1949-02          118 1949-02-01\n",
       "2  1949-03          132 1949-03-01\n",
       "3  1949-04          129 1949-04-01\n",
       "4  1949-05          121 1949-05-01"
      ]
     },
     "execution_count": 14,
     "metadata": {},
     "output_type": "execute_result"
    }
   ],
   "source": [
    "df.head(5)"
   ]
  },
  {
   "cell_type": "code",
   "execution_count": 21,
   "metadata": {},
   "outputs": [],
   "source": [
    "df = df.drop(columns=\"Month\")"
   ]
  },
  {
   "cell_type": "code",
   "execution_count": 22,
   "metadata": {},
   "outputs": [
    {
     "data": {
      "text/plain": [
       "Timestamp('1949-01-01 00:00:00')"
      ]
     },
     "execution_count": 22,
     "metadata": {},
     "output_type": "execute_result"
    }
   ],
   "source": [
    "df['Date'].min()"
   ]
  },
  {
   "cell_type": "code",
   "execution_count": 23,
   "metadata": {},
   "outputs": [
    {
     "data": {
      "text/plain": [
       "Timestamp('1960-12-01 00:00:00')"
      ]
     },
     "execution_count": 23,
     "metadata": {},
     "output_type": "execute_result"
    }
   ],
   "source": [
    "df['Date'].max()"
   ]
  },
  {
   "cell_type": "code",
   "execution_count": 24,
   "metadata": {},
   "outputs": [
    {
     "data": {
      "text/html": [
       "<div>\n",
       "<style scoped>\n",
       "    .dataframe tbody tr th:only-of-type {\n",
       "        vertical-align: middle;\n",
       "    }\n",
       "\n",
       "    .dataframe tbody tr th {\n",
       "        vertical-align: top;\n",
       "    }\n",
       "\n",
       "    .dataframe thead th {\n",
       "        text-align: right;\n",
       "    }\n",
       "</style>\n",
       "<table border=\"1\" class=\"dataframe\">\n",
       "  <thead>\n",
       "    <tr style=\"text-align: right;\">\n",
       "      <th></th>\n",
       "      <th>#Passengers</th>\n",
       "      <th>Date</th>\n",
       "    </tr>\n",
       "  </thead>\n",
       "  <tbody>\n",
       "    <tr>\n",
       "      <th>0</th>\n",
       "      <td>112</td>\n",
       "      <td>1949-01-01</td>\n",
       "    </tr>\n",
       "  </tbody>\n",
       "</table>\n",
       "</div>"
      ],
      "text/plain": [
       "   #Passengers       Date\n",
       "0          112 1949-01-01"
      ]
     },
     "execution_count": 24,
     "metadata": {},
     "output_type": "execute_result"
    }
   ],
   "source": [
    "df.head(1)"
   ]
  },
  {
   "cell_type": "code",
   "execution_count": 26,
   "metadata": {},
   "outputs": [],
   "source": [
    "df = df[[\"Date\",\"#Passengers\"]]"
   ]
  },
  {
   "cell_type": "code",
   "execution_count": 27,
   "metadata": {},
   "outputs": [
    {
     "data": {
      "text/html": [
       "<div>\n",
       "<style scoped>\n",
       "    .dataframe tbody tr th:only-of-type {\n",
       "        vertical-align: middle;\n",
       "    }\n",
       "\n",
       "    .dataframe tbody tr th {\n",
       "        vertical-align: top;\n",
       "    }\n",
       "\n",
       "    .dataframe thead th {\n",
       "        text-align: right;\n",
       "    }\n",
       "</style>\n",
       "<table border=\"1\" class=\"dataframe\">\n",
       "  <thead>\n",
       "    <tr style=\"text-align: right;\">\n",
       "      <th></th>\n",
       "      <th>Date</th>\n",
       "      <th>#Passengers</th>\n",
       "    </tr>\n",
       "  </thead>\n",
       "  <tbody>\n",
       "    <tr>\n",
       "      <th>0</th>\n",
       "      <td>1949-01-01</td>\n",
       "      <td>112</td>\n",
       "    </tr>\n",
       "  </tbody>\n",
       "</table>\n",
       "</div>"
      ],
      "text/plain": [
       "        Date  #Passengers\n",
       "0 1949-01-01          112"
      ]
     },
     "execution_count": 27,
     "metadata": {},
     "output_type": "execute_result"
    }
   ],
   "source": [
    "df.head(1)"
   ]
  },
  {
   "cell_type": "code",
   "execution_count": 29,
   "metadata": {},
   "outputs": [],
   "source": [
    "df.columns = [\"ds\",\"y\"]"
   ]
  },
  {
   "cell_type": "code",
   "execution_count": 30,
   "metadata": {},
   "outputs": [
    {
     "data": {
      "text/html": [
       "<div>\n",
       "<style scoped>\n",
       "    .dataframe tbody tr th:only-of-type {\n",
       "        vertical-align: middle;\n",
       "    }\n",
       "\n",
       "    .dataframe tbody tr th {\n",
       "        vertical-align: top;\n",
       "    }\n",
       "\n",
       "    .dataframe thead th {\n",
       "        text-align: right;\n",
       "    }\n",
       "</style>\n",
       "<table border=\"1\" class=\"dataframe\">\n",
       "  <thead>\n",
       "    <tr style=\"text-align: right;\">\n",
       "      <th></th>\n",
       "      <th>ds</th>\n",
       "      <th>y</th>\n",
       "    </tr>\n",
       "  </thead>\n",
       "  <tbody>\n",
       "    <tr>\n",
       "      <th>0</th>\n",
       "      <td>1949-01-01</td>\n",
       "      <td>112</td>\n",
       "    </tr>\n",
       "  </tbody>\n",
       "</table>\n",
       "</div>"
      ],
      "text/plain": [
       "          ds    y\n",
       "0 1949-01-01  112"
      ]
     },
     "execution_count": 30,
     "metadata": {},
     "output_type": "execute_result"
    }
   ],
   "source": [
    "df.head(1)"
   ]
  },
  {
   "cell_type": "code",
   "execution_count": 32,
   "metadata": {},
   "outputs": [],
   "source": [
    "m = Prophet(weekly_seasonality= True,daily_seasonality = True)"
   ]
  },
  {
   "cell_type": "code",
   "execution_count": 33,
   "metadata": {},
   "outputs": [
    {
     "name": "stderr",
     "output_type": "stream",
     "text": [
      "22:52:41 - cmdstanpy - INFO - Chain [1] start processing\n",
      "22:52:46 - cmdstanpy - INFO - Chain [1] done processing\n"
     ]
    },
    {
     "data": {
      "text/plain": [
       "<prophet.forecaster.Prophet at 0x24f9e9d5550>"
      ]
     },
     "execution_count": 33,
     "metadata": {},
     "output_type": "execute_result"
    }
   ],
   "source": [
    "m.fit(df)"
   ]
  },
  {
   "cell_type": "code",
   "execution_count": 35,
   "metadata": {},
   "outputs": [],
   "source": [
    "future = m.make_future_dataframe(periods = 10,freq = 'm')"
   ]
  },
  {
   "cell_type": "code",
   "execution_count": 37,
   "metadata": {},
   "outputs": [
    {
     "data": {
      "text/html": [
       "<div>\n",
       "<style scoped>\n",
       "    .dataframe tbody tr th:only-of-type {\n",
       "        vertical-align: middle;\n",
       "    }\n",
       "\n",
       "    .dataframe tbody tr th {\n",
       "        vertical-align: top;\n",
       "    }\n",
       "\n",
       "    .dataframe thead th {\n",
       "        text-align: right;\n",
       "    }\n",
       "</style>\n",
       "<table border=\"1\" class=\"dataframe\">\n",
       "  <thead>\n",
       "    <tr style=\"text-align: right;\">\n",
       "      <th></th>\n",
       "      <th>ds</th>\n",
       "    </tr>\n",
       "  </thead>\n",
       "  <tbody>\n",
       "    <tr>\n",
       "      <th>0</th>\n",
       "      <td>1949-01-01</td>\n",
       "    </tr>\n",
       "    <tr>\n",
       "      <th>1</th>\n",
       "      <td>1949-02-01</td>\n",
       "    </tr>\n",
       "    <tr>\n",
       "      <th>2</th>\n",
       "      <td>1949-03-01</td>\n",
       "    </tr>\n",
       "    <tr>\n",
       "      <th>3</th>\n",
       "      <td>1949-04-01</td>\n",
       "    </tr>\n",
       "    <tr>\n",
       "      <th>4</th>\n",
       "      <td>1949-05-01</td>\n",
       "    </tr>\n",
       "    <tr>\n",
       "      <th>...</th>\n",
       "      <td>...</td>\n",
       "    </tr>\n",
       "    <tr>\n",
       "      <th>149</th>\n",
       "      <td>1961-05-31</td>\n",
       "    </tr>\n",
       "    <tr>\n",
       "      <th>150</th>\n",
       "      <td>1961-06-30</td>\n",
       "    </tr>\n",
       "    <tr>\n",
       "      <th>151</th>\n",
       "      <td>1961-07-31</td>\n",
       "    </tr>\n",
       "    <tr>\n",
       "      <th>152</th>\n",
       "      <td>1961-08-31</td>\n",
       "    </tr>\n",
       "    <tr>\n",
       "      <th>153</th>\n",
       "      <td>1961-09-30</td>\n",
       "    </tr>\n",
       "  </tbody>\n",
       "</table>\n",
       "<p>154 rows × 1 columns</p>\n",
       "</div>"
      ],
      "text/plain": [
       "            ds\n",
       "0   1949-01-01\n",
       "1   1949-02-01\n",
       "2   1949-03-01\n",
       "3   1949-04-01\n",
       "4   1949-05-01\n",
       "..         ...\n",
       "149 1961-05-31\n",
       "150 1961-06-30\n",
       "151 1961-07-31\n",
       "152 1961-08-31\n",
       "153 1961-09-30\n",
       "\n",
       "[154 rows x 1 columns]"
      ]
     },
     "execution_count": 37,
     "metadata": {},
     "output_type": "execute_result"
    }
   ],
   "source": [
    "future"
   ]
  },
  {
   "cell_type": "code",
   "execution_count": 38,
   "metadata": {},
   "outputs": [],
   "source": [
    "forecast = m.predict(future)"
   ]
  },
  {
   "cell_type": "code",
   "execution_count": 39,
   "metadata": {},
   "outputs": [
    {
     "name": "stderr",
     "output_type": "stream",
     "text": [
      "C:\\Users\\Shanmukh.Maddila\\AppData\\Local\\Continuum\\anaconda3\\lib\\site-packages\\matplotlib\\cbook\\__init__.py:2064: FutureWarning: Support for multi-dimensional indexing (e.g. `obj[:, None]`) is deprecated and will be removed in a future version.  Convert to a numpy array before indexing instead.\n",
      "  x[:, None]\n",
      "C:\\Users\\Shanmukh.Maddila\\AppData\\Local\\Continuum\\anaconda3\\lib\\site-packages\\matplotlib\\axes\\_base.py:250: FutureWarning: Support for multi-dimensional indexing (e.g. `obj[:, None]`) is deprecated and will be removed in a future version.  Convert to a numpy array before indexing instead.\n",
      "  y = y[:, np.newaxis]\n"
     ]
    },
    {
     "data": {
      "image/png": "[encoded data removed]",
      "text/plain": [
       "<Figure size 720x432 with 1 Axes>"
      ]
     },
     "execution_count": 39,
     "metadata": {},
     "output_type": "execute_result"
    },
    {
     "data": {
      "image/png": "[encoded data removed]",
      "text/plain": [
       "<Figure size 720x432 with 1 Axes>"
      ]
     },
     "metadata": {},
     "output_type": "display_data"
    }
   ],
   "source": [
    "m.plot(forecast)"
   ]
  },
  {
   "cell_type": "code",
   "execution_count": 40,
   "metadata": {},
   "outputs": [],
   "source": [
    "from sklearn.metrics import r2_score"
   ]
  },
  {
   "cell_type": "code",
   "execution_count": 41,
   "metadata": {},
   "outputs": [],
   "source": [
    "actual = df[[\"y\"]]"
   ]
  },
  {
   "cell_type": "code",
   "execution_count": 50,
   "metadata": {},
   "outputs": [],
   "source": [
    "forecast_sample = forecast[0:144]"
   ]
  },
  {
   "cell_type": "code",
   "execution_count": 51,
   "metadata": {},
   "outputs": [
    {
     "data": {
      "text/html": [
       "<div>\n",
       "<style scoped>\n",
       "    .dataframe tbody tr th:only-of-type {\n",
       "        vertical-align: middle;\n",
       "    }\n",
       "\n",
       "    .dataframe tbody tr th {\n",
       "        vertical-align: top;\n",
       "    }\n",
       "\n",
       "    .dataframe thead th {\n",
       "        text-align: right;\n",
       "    }\n",
       "</style>\n",
       "<table border=\"1\" class=\"dataframe\">\n",
       "  <thead>\n",
       "    <tr style=\"text-align: right;\">\n",
       "      <th></th>\n",
       "      <th>ds</th>\n",
       "      <th>trend</th>\n",
       "      <th>yhat_lower</th>\n",
       "      <th>yhat_upper</th>\n",
       "      <th>trend_lower</th>\n",
       "      <th>trend_upper</th>\n",
       "      <th>additive_terms</th>\n",
       "      <th>additive_terms_lower</th>\n",
       "      <th>additive_terms_upper</th>\n",
       "      <th>daily</th>\n",
       "      <th>...</th>\n",
       "      <th>weekly</th>\n",
       "      <th>weekly_lower</th>\n",
       "      <th>weekly_upper</th>\n",
       "      <th>yearly</th>\n",
       "      <th>yearly_lower</th>\n",
       "      <th>yearly_upper</th>\n",
       "      <th>multiplicative_terms</th>\n",
       "      <th>multiplicative_terms_lower</th>\n",
       "      <th>multiplicative_terms_upper</th>\n",
       "      <th>yhat</th>\n",
       "    </tr>\n",
       "  </thead>\n",
       "  <tbody>\n",
       "    <tr>\n",
       "      <th>0</th>\n",
       "      <td>1949-01-01</td>\n",
       "      <td>110.937432</td>\n",
       "      <td>58.402062</td>\n",
       "      <td>116.170527</td>\n",
       "      <td>110.937432</td>\n",
       "      <td>110.937432</td>\n",
       "      <td>-23.806126</td>\n",
       "      <td>-23.806126</td>\n",
       "      <td>-23.806126</td>\n",
       "      <td>-3.703836</td>\n",
       "      <td>...</td>\n",
       "      <td>1.127504</td>\n",
       "      <td>1.127504</td>\n",
       "      <td>1.127504</td>\n",
       "      <td>-21.229794</td>\n",
       "      <td>-21.229794</td>\n",
       "      <td>-21.229794</td>\n",
       "      <td>0.0</td>\n",
       "      <td>0.0</td>\n",
       "      <td>0.0</td>\n",
       "      <td>87.131306</td>\n",
       "    </tr>\n",
       "    <tr>\n",
       "      <th>1</th>\n",
       "      <td>1949-02-01</td>\n",
       "      <td>113.081123</td>\n",
       "      <td>46.521150</td>\n",
       "      <td>104.647005</td>\n",
       "      <td>113.081123</td>\n",
       "      <td>113.081123</td>\n",
       "      <td>-36.935874</td>\n",
       "      <td>-36.935874</td>\n",
       "      <td>-36.935874</td>\n",
       "      <td>-3.703836</td>\n",
       "      <td>...</td>\n",
       "      <td>-3.845934</td>\n",
       "      <td>-3.845934</td>\n",
       "      <td>-3.845934</td>\n",
       "      <td>-29.386104</td>\n",
       "      <td>-29.386104</td>\n",
       "      <td>-29.386104</td>\n",
       "      <td>0.0</td>\n",
       "      <td>0.0</td>\n",
       "      <td>0.0</td>\n",
       "      <td>76.145249</td>\n",
       "    </tr>\n",
       "    <tr>\n",
       "      <th>2</th>\n",
       "      <td>1949-03-01</td>\n",
       "      <td>115.017361</td>\n",
       "      <td>79.881712</td>\n",
       "      <td>134.406851</td>\n",
       "      <td>115.017361</td>\n",
       "      <td>115.017361</td>\n",
       "      <td>-7.463509</td>\n",
       "      <td>-7.463509</td>\n",
       "      <td>-7.463509</td>\n",
       "      <td>-3.703836</td>\n",
       "      <td>...</td>\n",
       "      <td>-3.845934</td>\n",
       "      <td>-3.845934</td>\n",
       "      <td>-3.845934</td>\n",
       "      <td>0.086261</td>\n",
       "      <td>0.086261</td>\n",
       "      <td>0.086261</td>\n",
       "      <td>0.0</td>\n",
       "      <td>0.0</td>\n",
       "      <td>0.0</td>\n",
       "      <td>107.553852</td>\n",
       "    </tr>\n",
       "    <tr>\n",
       "      <th>3</th>\n",
       "      <td>1949-04-01</td>\n",
       "      <td>117.161052</td>\n",
       "      <td>85.743574</td>\n",
       "      <td>141.008936</td>\n",
       "      <td>117.161052</td>\n",
       "      <td>117.161052</td>\n",
       "      <td>-4.111558</td>\n",
       "      <td>-4.111558</td>\n",
       "      <td>-4.111558</td>\n",
       "      <td>-3.703836</td>\n",
       "      <td>...</td>\n",
       "      <td>4.763748</td>\n",
       "      <td>4.763748</td>\n",
       "      <td>4.763748</td>\n",
       "      <td>-5.171470</td>\n",
       "      <td>-5.171470</td>\n",
       "      <td>-5.171470</td>\n",
       "      <td>0.0</td>\n",
       "      <td>0.0</td>\n",
       "      <td>0.0</td>\n",
       "      <td>113.049494</td>\n",
       "    </tr>\n",
       "    <tr>\n",
       "      <th>4</th>\n",
       "      <td>1949-05-01</td>\n",
       "      <td>119.235592</td>\n",
       "      <td>79.565902</td>\n",
       "      <td>138.538430</td>\n",
       "      <td>119.235592</td>\n",
       "      <td>119.235592</td>\n",
       "      <td>-8.644700</td>\n",
       "      <td>-8.644700</td>\n",
       "      <td>-8.644700</td>\n",
       "      <td>-3.703836</td>\n",
       "      <td>...</td>\n",
       "      <td>-1.590424</td>\n",
       "      <td>-1.590424</td>\n",
       "      <td>-1.590424</td>\n",
       "      <td>-3.350440</td>\n",
       "      <td>-3.350440</td>\n",
       "      <td>-3.350440</td>\n",
       "      <td>0.0</td>\n",
       "      <td>0.0</td>\n",
       "      <td>0.0</td>\n",
       "      <td>110.590892</td>\n",
       "    </tr>\n",
       "    <tr>\n",
       "      <th>...</th>\n",
       "      <td>...</td>\n",
       "      <td>...</td>\n",
       "      <td>...</td>\n",
       "      <td>...</td>\n",
       "      <td>...</td>\n",
       "      <td>...</td>\n",
       "      <td>...</td>\n",
       "      <td>...</td>\n",
       "      <td>...</td>\n",
       "      <td>...</td>\n",
       "      <td>...</td>\n",
       "      <td>...</td>\n",
       "      <td>...</td>\n",
       "      <td>...</td>\n",
       "      <td>...</td>\n",
       "      <td>...</td>\n",
       "      <td>...</td>\n",
       "      <td>...</td>\n",
       "      <td>...</td>\n",
       "      <td>...</td>\n",
       "      <td>...</td>\n",
       "    </tr>\n",
       "    <tr>\n",
       "      <th>139</th>\n",
       "      <td>1960-08-01</td>\n",
       "      <td>476.190895</td>\n",
       "      <td>510.206373</td>\n",
       "      <td>564.010290</td>\n",
       "      <td>476.190895</td>\n",
       "      <td>476.190895</td>\n",
       "      <td>62.256011</td>\n",
       "      <td>62.256011</td>\n",
       "      <td>62.256011</td>\n",
       "      <td>-3.703836</td>\n",
       "      <td>...</td>\n",
       "      <td>-2.161651</td>\n",
       "      <td>-2.161651</td>\n",
       "      <td>-2.161651</td>\n",
       "      <td>68.121497</td>\n",
       "      <td>68.121497</td>\n",
       "      <td>68.121497</td>\n",
       "      <td>0.0</td>\n",
       "      <td>0.0</td>\n",
       "      <td>0.0</td>\n",
       "      <td>538.446906</td>\n",
       "    </tr>\n",
       "    <tr>\n",
       "      <th>140</th>\n",
       "      <td>1960-09-01</td>\n",
       "      <td>479.324671</td>\n",
       "      <td>462.261085</td>\n",
       "      <td>523.415786</td>\n",
       "      <td>479.324671</td>\n",
       "      <td>479.324671</td>\n",
       "      <td>13.520997</td>\n",
       "      <td>13.520997</td>\n",
       "      <td>13.520997</td>\n",
       "      <td>-3.703836</td>\n",
       "      <td>...</td>\n",
       "      <td>0.588943</td>\n",
       "      <td>0.588943</td>\n",
       "      <td>0.588943</td>\n",
       "      <td>16.635890</td>\n",
       "      <td>16.635890</td>\n",
       "      <td>16.635890</td>\n",
       "      <td>0.0</td>\n",
       "      <td>0.0</td>\n",
       "      <td>0.0</td>\n",
       "      <td>492.845668</td>\n",
       "    </tr>\n",
       "    <tr>\n",
       "      <th>141</th>\n",
       "      <td>1960-10-01</td>\n",
       "      <td>482.357358</td>\n",
       "      <td>432.574364</td>\n",
       "      <td>485.121962</td>\n",
       "      <td>482.357358</td>\n",
       "      <td>482.357358</td>\n",
       "      <td>-23.941448</td>\n",
       "      <td>-23.941448</td>\n",
       "      <td>-23.941448</td>\n",
       "      <td>-3.703836</td>\n",
       "      <td>...</td>\n",
       "      <td>1.127504</td>\n",
       "      <td>1.127504</td>\n",
       "      <td>1.127504</td>\n",
       "      <td>-21.365116</td>\n",
       "      <td>-21.365116</td>\n",
       "      <td>-21.365116</td>\n",
       "      <td>0.0</td>\n",
       "      <td>0.0</td>\n",
       "      <td>0.0</td>\n",
       "      <td>458.415910</td>\n",
       "    </tr>\n",
       "    <tr>\n",
       "      <th>142</th>\n",
       "      <td>1960-11-01</td>\n",
       "      <td>485.491134</td>\n",
       "      <td>389.301176</td>\n",
       "      <td>446.464465</td>\n",
       "      <td>485.491134</td>\n",
       "      <td>485.491134</td>\n",
       "      <td>-66.539530</td>\n",
       "      <td>-66.539530</td>\n",
       "      <td>-66.539530</td>\n",
       "      <td>-3.703836</td>\n",
       "      <td>...</td>\n",
       "      <td>-3.845934</td>\n",
       "      <td>-3.845934</td>\n",
       "      <td>-3.845934</td>\n",
       "      <td>-58.989760</td>\n",
       "      <td>-58.989760</td>\n",
       "      <td>-58.989760</td>\n",
       "      <td>0.0</td>\n",
       "      <td>0.0</td>\n",
       "      <td>0.0</td>\n",
       "      <td>418.951604</td>\n",
       "    </tr>\n",
       "    <tr>\n",
       "      <th>143</th>\n",
       "      <td>1960-12-01</td>\n",
       "      <td>488.523820</td>\n",
       "      <td>426.200761</td>\n",
       "      <td>480.489938</td>\n",
       "      <td>488.523820</td>\n",
       "      <td>488.523820</td>\n",
       "      <td>-36.011352</td>\n",
       "      <td>-36.011352</td>\n",
       "      <td>-36.011352</td>\n",
       "      <td>-3.703836</td>\n",
       "      <td>...</td>\n",
       "      <td>0.588943</td>\n",
       "      <td>0.588943</td>\n",
       "      <td>0.588943</td>\n",
       "      <td>-32.896459</td>\n",
       "      <td>-32.896459</td>\n",
       "      <td>-32.896459</td>\n",
       "      <td>0.0</td>\n",
       "      <td>0.0</td>\n",
       "      <td>0.0</td>\n",
       "      <td>452.512468</td>\n",
       "    </tr>\n",
       "  </tbody>\n",
       "</table>\n",
       "<p>144 rows × 22 columns</p>\n",
       "</div>"
      ],
      "text/plain": [
       "            ds       trend  yhat_lower  yhat_upper  trend_lower  trend_upper  \\\n",
       "0   1949-01-01  110.937432   58.402062  116.170527   110.937432   110.937432   \n",
       "1   1949-02-01  113.081123   46.521150  104.647005   113.081123   113.081123   \n",
       "2   1949-03-01  115.017361   79.881712  134.406851   115.017361   115.017361   \n",
       "3   1949-04-01  117.161052   85.743574  141.008936   117.161052   117.161052   \n",
       "4   1949-05-01  119.235592   79.565902  138.538430   119.235592   119.235592   \n",
       "..         ...         ...         ...         ...          ...          ...   \n",
       "139 1960-08-01  476.190895  510.206373  564.010290   476.190895   476.190895   \n",
       "140 1960-09-01  479.324671  462.261085  523.415786   479.324671   479.324671   \n",
       "141 1960-10-01  482.357358  432.574364  485.121962   482.357358   482.357358   \n",
       "142 1960-11-01  485.491134  389.301176  446.464465   485.491134   485.491134   \n",
       "143 1960-12-01  488.523820  426.200761  480.489938   488.523820   488.523820   \n",
       "\n",
       "     additive_terms  additive_terms_lower  additive_terms_upper     daily  \\\n",
       "0        -23.806126            -23.806126            -23.806126 -3.703836   \n",
       "1        -36.935874            -36.935874            -36.935874 -3.703836   \n",
       "2         -7.463509             -7.463509             -7.463509 -3.703836   \n",
       "3         -4.111558             -4.111558             -4.111558 -3.703836   \n",
       "4         -8.644700             -8.644700             -8.644700 -3.703836   \n",
       "..              ...                   ...                   ...       ...   \n",
       "139       62.256011             62.256011             62.256011 -3.703836   \n",
       "140       13.520997             13.520997             13.520997 -3.703836   \n",
       "141      -23.941448            -23.941448            -23.941448 -3.703836   \n",
       "142      -66.539530            -66.539530            -66.539530 -3.703836   \n",
       "143      -36.011352            -36.011352            -36.011352 -3.703836   \n",
       "\n",
       "     ...    weekly  weekly_lower  weekly_upper     yearly  yearly_lower  \\\n",
       "0    ...  1.127504      1.127504      1.127504 -21.229794    -21.229794   \n",
       "1    ... -3.845934     -3.845934     -3.845934 -29.386104    -29.386104   \n",
       "2    ... -3.845934     -3.845934     -3.845934   0.086261      0.086261   \n",
       "3    ...  4.763748      4.763748      4.763748  -5.171470     -5.171470   \n",
       "4    ... -1.590424     -1.590424     -1.590424  -3.350440     -3.350440   \n",
       "..   ...       ...           ...           ...        ...           ...   \n",
       "139  ... -2.161651     -2.161651     -2.161651  68.121497     68.121497   \n",
       "140  ...  0.588943      0.588943      0.588943  16.635890     16.635890   \n",
       "141  ...  1.127504      1.127504      1.127504 -21.365116    -21.365116   \n",
       "142  ... -3.845934     -3.845934     -3.845934 -58.989760    -58.989760   \n",
       "143  ...  0.588943      0.588943      0.588943 -32.896459    -32.896459   \n",
       "\n",
       "     yearly_upper  multiplicative_terms  multiplicative_terms_lower  \\\n",
       "0      -21.229794                   0.0                         0.0   \n",
       "1      -29.386104                   0.0                         0.0   \n",
       "2        0.086261                   0.0                         0.0   \n",
       "3       -5.171470                   0.0                         0.0   \n",
       "4       -3.350440                   0.0                         0.0   \n",
       "..            ...                   ...                         ...   \n",
       "139     68.121497                   0.0                         0.0   \n",
       "140     16.635890                   0.0                         0.0   \n",
       "141    -21.365116                   0.0                         0.0   \n",
       "142    -58.989760                   0.0                         0.0   \n",
       "143    -32.896459                   0.0                         0.0   \n",
       "\n",
       "     multiplicative_terms_upper        yhat  \n",
       "0                           0.0   87.131306  \n",
       "1                           0.0   76.145249  \n",
       "2                           0.0  107.553852  \n",
       "3                           0.0  113.049494  \n",
       "4                           0.0  110.590892  \n",
       "..                          ...         ...  \n",
       "139                         0.0  538.446906  \n",
       "140                         0.0  492.845668  \n",
       "141                         0.0  458.415910  \n",
       "142                         0.0  418.951604  \n",
       "143                         0.0  452.512468  \n",
       "\n",
       "[144 rows x 22 columns]"
      ]
     },
     "execution_count": 51,
     "metadata": {},
     "output_type": "execute_result"
    }
   ],
   "source": [
    "forecast_sample"
   ]
  },
  {
   "cell_type": "code",
   "execution_count": 52,
   "metadata": {},
   "outputs": [],
   "source": [
    "prediction = forecast_sample[['yhat']]"
   ]
  },
  {
   "cell_type": "code",
   "execution_count": 53,
   "metadata": {},
   "outputs": [
    {
     "data": {
      "text/plain": [
       "0.9652975601793586"
      ]
     },
     "execution_count": 53,
     "metadata": {},
     "output_type": "execute_result"
    }
   ],
   "source": [
    "r2_score(actual,prediction)"
   ]
  },
  {
   "cell_type": "code",
   "execution_count": 55,
   "metadata": {},
   "outputs": [
    {
     "name": "stdout",
     "output_type": "stream",
     "text": [
      "Accuracy of the model is : 96.52975601793587\n"
     ]
    }
   ],
   "source": [
    "print(\"Accuracy of the model is :\",100*r2_score(actual,prediction))"
   ]
  },
  {
   "cell_type": "code",
   "execution_count": null,
   "metadata": {},
   "outputs": [],
   "source": []
  }
 ],
 "metadata": {
  "kernelspec": {
   "display_name": "Python 3",
   "language": "python",
   "name": "python3"
  },
  "language_info": {
   "codemirror_mode": {
    "name": "ipython",
    "version": 3
   },
   "file_extension": ".py",
   "mimetype": "text/x-python",
   "name": "python",
   "nbconvert_exporter": "python",
   "pygments_lexer": "ipython3",
   "version": "3.7.0"
  }
 },
 "nbformat": 4,
 "nbformat_minor": 2
}
